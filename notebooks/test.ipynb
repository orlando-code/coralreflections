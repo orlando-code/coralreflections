{
 "cells": [
  {
   "cell_type": "code",
   "execution_count": 1,
   "metadata": {},
   "outputs": [],
   "source": [
    "%load_ext autoreload\n",
    "%autoreload 2\n",
    "\n",
    "# general\n",
    "import numpy as np\n",
    "import pandas as pd\n",
    "from tqdm.auto import tqdm\n",
    "from scipy.interpolate import interp1d\n",
    "\n",
    "# plotting\n",
    "import matplotlib.pyplot as plt\n",
    "from ipywidgets import interact\n",
    "import matplotlib.colors as mcolors\n",
    "from matplotlib.gridspec import GridSpec\n",
    "from plotly.subplots import make_subplots\n",
    "import plotly.graph_objs as go\n",
    "\n",
    "# fitting\n",
    "from sklearn.metrics import r2_score\n",
    "from scipy.optimize import minimize\n",
    "from functools import partial\n",
    "import multiprocess as mp\n",
    "import matplotlib.patches as mpatches\n",
    "\n",
    "# custom\n",
    "from reflectance import plotting, spectrum_utils, optimisation_pipeline, file_ops"
   ]
  },
  {
   "cell_type": "code",
   "execution_count": 2,
   "metadata": {},
   "outputs": [
    {
     "data": {
      "application/vnd.jupyter.widget-view+json": {
       "model_id": "7d89c487a690437a88ae42396311b0e9",
       "version_major": 2,
       "version_minor": 0
      },
      "text/plain": [
       "Running pipeline for configs:   0%|          | 0/3 [00:00<?, ?it/s]"
      ]
     },
     "metadata": {},
     "output_type": "display_data"
    },
    {
     "name": "stdout",
     "output_type": "stream",
     "text": [
      "checking\n",
      "False\n",
      "\n",
      "\n",
      "load_aop_model\n",
      "generate_endmembers\n",
      "preprocess_endmembers\n",
      "load_spectra\n",
      "preprocess_spectra\n",
      "fit_spectra\n"
     ]
    },
    {
     "data": {
      "application/vnd.jupyter.widget-view+json": {
       "model_id": "8cea99b43bdf4d1da3c1e4553f4b8701",
       "version_major": 2,
       "version_minor": 0
      },
      "text/plain": [
       "Fitting spectra:   0%|          | 0/51 [00:00<?, ?it/s]"
      ]
     },
     "metadata": {},
     "output_type": "display_data"
    },
    {
     "name": "stdout",
     "output_type": "stream",
     "text": [
      "generate_spectra_from_fits\n",
      "calculate_error_metrics\n",
      "checking\n",
      "False\n",
      "\n",
      "\n",
      "load_aop_model\n",
      "generate_endmembers\n",
      "preprocess_endmembers\n",
      "load_spectra\n",
      "preprocess_spectra\n",
      "fit_spectra\n"
     ]
    },
    {
     "data": {
      "application/vnd.jupyter.widget-view+json": {
       "model_id": "657fd827d7ad4601bbd112e3897b362e",
       "version_major": 2,
       "version_minor": 0
      },
      "text/plain": [
       "Fitting spectra:   0%|          | 0/51 [00:00<?, ?it/s]"
      ]
     },
     "metadata": {},
     "output_type": "display_data"
    },
    {
     "name": "stdout",
     "output_type": "stream",
     "text": [
      "generate_spectra_from_fits\n",
      "calculate_error_metrics\n",
      "checking\n",
      "False\n",
      "\n",
      "\n",
      "load_aop_model\n",
      "generate_endmembers\n",
      "preprocess_endmembers\n",
      "load_spectra\n",
      "preprocess_spectra\n",
      "fit_spectra\n"
     ]
    },
    {
     "data": {
      "application/vnd.jupyter.widget-view+json": {
       "model_id": "6e8ca5753af049a5bfe898cbde66579f",
       "version_major": 2,
       "version_minor": 0
      },
      "text/plain": [
       "Fitting spectra:   0%|          | 0/51 [00:00<?, ?it/s]"
      ]
     },
     "metadata": {},
     "output_type": "display_data"
    },
    {
     "name": "stdout",
     "output_type": "stream",
     "text": [
      "generate_spectra_from_fits\n",
      "calculate_error_metrics\n"
     ]
    }
   ],
   "source": [
    "config_params_dict = {\n",
    "    'processing': {\n",
    "        'endmember_source': [\"spectral_library\"],\n",
    "        'aop_group_num': [1, 2, 3],\n",
    "        'nir_wavelengths': [[750, 1100]],\n",
    "        'sensor_range': [[450, 690]],\n",
    "        'endmember_dimensionality_reduction': \n",
    "            [\n",
    "                \"mean\",\n",
    "                # \"median\",\n",
    "                [\"pca\", 1],\n",
    "                # [\"nmf\", 1],\n",
    "                # [\"ica\", 1],\n",
    "                # [\"svd\", 1]\n",
    "            ],\n",
    "        'endmember_normalisation': [\n",
    "            None,\n",
    "            \"minmax\", \n",
    "            \"zscore\",\n",
    "            # \"robust\", \n",
    "            # \"maxabs\"\n",
    "            ],\n",
    "        'endmember_class_schema': [\n",
    "            \"three_endmember\",\n",
    "            \"inorganic_organic\"\n",
    "            \"all\",\n",
    "            ],\n",
    "        'spectra_normalisation': [\n",
    "            None,\n",
    "            \"minmax\",\n",
    "            \"zscore\", \n",
    "            # \"robust\", \n",
    "            # \"maxabs\"\n",
    "            ]\n",
    "    },\n",
    "    \"simulation\": {\n",
    "        \"type\": [\"spread\"],\n",
    "        \"N\": [100],\n",
    "        \"Rb_vals\": [(0,1)],\n",
    "        \"n_depths\": [10],\n",
    "        \"depth_lims\": [(0, 10)],\n",
    "        \"n_ks\": [10],\n",
    "        \"k_lims\": [(0, 0.4)],\n",
    "        \"n_bbs\": [10],\n",
    "        \"bb_lims\": [(0.01, 0.03)],\n",
    "        \"n_noise_levels\": [10],\n",
    "        \"noise_lims\": [(0.001, 0)],\n",
    "        \"noise_ind\": [0] \n",
    "    },\n",
    "    'fitting': {\n",
    "        'Rb_init': [0.5],\n",
    "        'endmember_bounds': [[0,1]],\n",
    "        'objective_fn': [\n",
    "            \"r2\", \n",
    "            \"spectral_angle\",\n",
    "            ],\n",
    "        'bb_bounds': [\n",
    "            (0, 0.41123),\n",
    "            (0, 0.2)\n",
    "            ],\n",
    "        'Kd_bounds': [\n",
    "            (0.01688, 3.17231),\n",
    "            (0.01688, 1.5)\n",
    "            ],\n",
    "        'H_bounds': [\n",
    "            (0, 10),\n",
    "            # (0, 20),\n",
    "            # (0, 30),\n",
    "            (0, 40),\n",
    "                     ],\n",
    "        'solver': [\n",
    "            'L-BFGS-B', \n",
    "            'CG',\n",
    "        # 'Powell', 'CG', 'BFGS', 'Newton-CG', 'L-BFGS-B', 'TNC', 'COBYLA', 'COBYQA', 'SLSQP', 'trust-constr', 'dogleg', 'trust-ncg', 'trust-exact', 'trust-krylov'],\n",
    "            ],\n",
    "        'tol': [\n",
    "            # 1e-3, \n",
    "            1e-6, \n",
    "            # 1e-9,\n",
    "            1e-12\n",
    "            ]\n",
    "    }\n",
    "}\n",
    "\n",
    "\n",
    "run_cfgs = file_ops.generate_config_dicts(config_params_dict)\n",
    "g_cfg, _ = file_ops.instantiate_single_configs_instance(run_ind = 0)\n",
    "\n",
    "# run parameter search\n",
    "optimisation_pipeline.run_pipeline(g_cfg.__dict__, run_cfgs[:3])"
   ]
  },
  {
   "cell_type": "code",
   "execution_count": 7,
   "metadata": {},
   "outputs": [
    {
     "name": "stdout",
     "output_type": "stream",
     "text": [
      "checking\n",
      "False\n",
      "\n",
      "\n",
      "load_aop_model\n",
      "generate_endmembers\n",
      "preprocess_endmembers\n",
      "load_spectra\n",
      "preprocess_spectra\n",
      "fit_spectra\n"
     ]
    },
    {
     "data": {
      "application/vnd.jupyter.widget-view+json": {
       "model_id": "74cf206ec2444c0c97aa30591ed8dd1a",
       "version_major": 2,
       "version_minor": 0
      },
      "text/plain": [
       "Fitting spectra:   0%|          | 0/51 [00:00<?, ?it/s]"
      ]
     },
     "metadata": {},
     "output_type": "display_data"
    },
    {
     "name": "stdout",
     "output_type": "stream",
     "text": [
      "generate_spectra_from_fits\n",
      "calculate_error_metrics\n"
     ]
    }
   ],
   "source": [
    "config_dict = {\n",
    "    \"processing\": \n",
    "    {\n",
    "        'aop_group_num': 1,\n",
    "        'nir_wavelengths': [750, 1100],\n",
    "        'sensor_range': [450, 690],\n",
    "        'endmember_dimensionality_reduction': 'mean',\n",
    "        'endmember_normalisation': False,\n",
    "        'endmember_class_schema': 'individual',\n",
    "        'spectra_normalisation': False,\n",
    "        'endmember_source': 'data/AOP_models/Rb_model_single_coefficient.txt'\n",
    "    },\n",
    "    \"simulation\":\n",
    "    {\n",
    "        \"type\": \"spread\",\n",
    "        \"N\": 10,\n",
    "        \"Rb_vals\": [0,1,0],\n",
    "        \"n_depths\": 10,\n",
    "        \"depth_lims\": [0, 20],\n",
    "        \"n_ks\": 10,\n",
    "        \"k_lims\": [0, 0.4],\n",
    "        \"n_bbs\": 10,\n",
    "        \"bb_lims\": [0.01, 0.03],\n",
    "        \"n_noise_levels\": 10,\n",
    "        \"noise_lims\": [0.001, 0],\n",
    "        \"noise_ind\": 0\n",
    "    },\n",
    "    \"fitting\":\n",
    "    {\n",
    "        'objective_fn': 'og_r2',\n",
    "        'Rb_init': 0,\n",
    "        'bb_bounds': (0, 0.41123),\n",
    "        'Kd_bounds': (0.01688, 3.17231),\n",
    "        'H_bounds': (0, 20),\n",
    "        'endmember_bounds': (0, 1),\n",
    "        'solver': 'L-BFGS-B',\n",
    "        'tol': 1e-9\n",
    "    }}\n",
    "g_cfg, _ = file_ops.instantiate_single_configs_instance(run_ind = 0)\n",
    "# cfg = file_ops.RunOptPipeConfig(con`fig_dict)\n",
    "cfg = file_ops.RunOptPipeConfig(run_cfgs[0])\n",
    "\n",
    "pipe = optimisation_pipeline.OptPipe(g_cfg, cfg)\n",
    "fit_results = pipe.run()"
   ]
  },
  {
   "cell_type": "code",
   "execution_count": null,
   "metadata": {},
   "outputs": [],
   "source": [
    "run_cfgs[0]"
   ]
  },
  {
   "cell_type": "markdown",
   "metadata": {},
   "source": [
    "# Pipeline"
   ]
  },
  {
   "cell_type": "code",
   "execution_count": 347,
   "metadata": {},
   "outputs": [],
   "source": [
    "fitted_df = fit_results.fitted_spectra\n",
    "wvs = fitted_df.columns\n",
    "lim_prism_spectra = preprocess_prism_spectra(spectrum_utils.load_spectra(), nir_wavelengths = [750,1100], sensor_range = [450,690]).loc[:len(fitted_df)-1, :]"
   ]
  },
  {
   "cell_type": "code",
   "execution_count": null,
   "metadata": {},
   "outputs": [],
   "source": [
    "# plot fitted spectra\n",
    "i = 10\n",
    "true_spectrum = lim_prism_spectra.iloc[i]\n",
    "fitted_spectrum = fit_results.fitted_spectra.iloc[i]\n",
    "\n",
    "plt.plot(wvs, fitted_spectrum, label='fitted')\n",
    "plt.plot(wvs, true_spectrum, label='true')\n",
    "plt.legend()\n",
    "from sklearn.metrics import r2_score\n",
    "# print(\"calculated r2:\", r2_score(lim_prism_spectra.iloc[i], fit_results.fitted_spectra.iloc[i]))\n",
    "print(\"recorded r2:\", fit_results.metrics.r2.iloc[i], \"sa:\", fit_results.metrics.spectral_angle.iloc[i])"
   ]
  },
  {
   "cell_type": "code",
   "execution_count": null,
   "metadata": {},
   "outputs": [],
   "source": [
    "# SMOOTHING AND DERIVATIVES\n",
    "from scipy.signal import savgol_filter\n",
    "\n",
    "window_length = 11\n",
    "order = 5\n",
    "\n",
    "# differentiate spectra\n",
    "diff_fitted = np.diff(fitted_spectrum)\n",
    "diff_true = np.diff(true_spectrum)\n",
    "smooth_diff_fitted = savgol_filter(diff_fitted, window_length, polyorder=order)\n",
    "smooth_diff_true = savgol_filter(diff_true, window_length, polyorder=order)\n",
    "\n",
    "d1_wvs = (wvs[1:] + wvs[:-1]) / 2\n",
    "d2_wvs = (d1_wvs[1:] + d1_wvs[:-1]) / 2\n",
    "\n",
    "fig, ax = plt.subplots(2, 2, figsize=(12, 4))\n",
    "\n",
    "\n",
    "ax[0,0].plot(d1_wvs, diff_fitted, label='$\\\\Delta$ fitted')\n",
    "ax[0,0].plot(d1_wvs, diff_true, label='$\\\\Delta$ true')\n",
    "ax[1,0].plot(d2_wvs, np.diff(diff_fitted), label='$\\\\Delta$ fitted')\n",
    "ax[1,0].plot(d2_wvs, np.diff(diff_true), label='$\\\\Delta$ true')\n",
    "\n",
    "ax[0,1].plot(d1_wvs, smooth_diff_fitted, label='$\\\\Delta$ fitted')\n",
    "ax[0,1].plot(d1_wvs, smooth_diff_true, label='$\\\\Delta$ true')\n",
    "ax[1,1].plot(d2_wvs, np.diff(smooth_diff_fitted), label='$\\\\Delta$ fitted')\n",
    "ax[1,1].plot(d2_wvs, np.diff(smooth_diff_true), label='$\\\\Delta$ true')\n",
    "\n",
    "[ax_.legend() for ax_ in ax.flatten()];"
   ]
  },
  {
   "cell_type": "code",
   "execution_count": null,
   "metadata": {},
   "outputs": [],
   "source": [
    "fits = pd.concat([fit_results.fitted_params, fit_results.metrics], axis=1)\n",
    "validation_data = pd.read_csv(file_ops.DATA_DIR_FP / \"CORAL_validation_data_v2.csv\")\n",
    "\n",
    "fig, ax = plt.subplots()\n",
    "ma = ax.scatter(validation_data.Depth[:len(fits)], fits.H, alpha=0.4, c=fits.r2, edgecolor='k', lw=0.5)\n",
    "\n",
    "# calculate fits\n",
    "p = np.polyfit(validation_data.Depth[:len(fits)], fits.H.astype(float), 1)\n",
    "pred = np.polyval(p, validation_data.Depth[:len(fits)])\n",
    "r2 = r2_score(validation_data.Depth[:len(fits)], pred)\n",
    "ax.plot(validation_data.Depth[:len(fits)], pred, color='r', ls='--', label=\"best fit\")\n",
    "# formatting\n",
    "ax.set_xlim(left=0)\n",
    "ax.set_ylim(bottom=0, top=40)\n",
    "ax.plot(ax.get_xlim(),ax.get_xlim(), color='k', label='1:1')\n",
    "ax.set_title(f\"r$^2$: {r2:.5f}\")\n",
    "ax.set_xlabel(\"True depth (m)\")\n",
    "ax.set_ylabel(\"Retrieved depth (m)\")\n",
    "# ax.set_aspect('equal')\n",
    "fig.colorbar(ma, label=\"r$^2$ value\")\n",
    "ax.legend()\n"
   ]
  },
  {
   "cell_type": "code",
   "execution_count": null,
   "metadata": {},
   "outputs": [],
   "source": [
    "plt.hist(fits.r2, bins=50)\n",
    "plt.yscale('log')"
   ]
  },
  {
   "cell_type": "code",
   "execution_count": null,
   "metadata": {},
   "outputs": [],
   "source": [
    "# view fits\n",
    "test_spectra = pd.read_csv(file_ops.RESULTS_DIR_FP / \"fits/sim_spectra_1.csv\")\n",
    "wvs = test_spectra.columns[4:].astype(float)\n",
    "plt.plot(wvs, test_spectra.iloc[:,4:].values.T, color='k', alpha=0.01);"
   ]
  },
  {
   "cell_type": "code",
   "execution_count": null,
   "metadata": {},
   "outputs": [],
   "source": [
    "test_fits = pd.read_csv(file_ops.RESULTS_DIR_FP / \"fits/fit_results_1.csv\", skiprows=1)\n",
    "wvs = test_fits.iloc[:,6:-2].columns.astype('float')\n",
    "plt.plot(wvs, test_fits.iloc[:,6:-2].values.T, color='k', alpha=0.01);"
   ]
  },
  {
   "cell_type": "code",
   "execution_count": null,
   "metadata": {},
   "outputs": [],
   "source": [
    "fits = test_fits\n",
    "validation_data = pd.read_csv(file_ops.DATA_DIR_FP / \"CORAL_validation_data_v2.csv\")\n",
    "\n",
    "\n",
    "fig, ax = plt.subplots()\n",
    "ma = ax.scatter(validation_data.Depth[:len(fits)], fits.H, alpha=0.4, c=fits.r2, edgecolor='k', lw=0.5)\n",
    "ax.plot(ax.get_xlim(),ax.get_xlim(), color='k', label='1:1')\n",
    "\n",
    "# calculate fits\n",
    "p = np.polyfit(validation_data.Depth[:len(fits)], fits.H, 1)\n",
    "pred = np.polyval(p, validation_data.Depth[:len(fits)])\n",
    "r2 = r2_score(validation_data.Depth[:len(fits)], pred)\n",
    "ax.plot(validation_data.Depth[:len(fits)], pred, color='r', ls='--', label=\"best fit\")\n",
    "# formatting\n",
    "ax.set_title(f\"r$^2$: {r2:.5f}\")\n",
    "ax.set_xlabel(\"True depth (m)\")\n",
    "ax.set_ylabel(\"Retrieved depth (m)\")\n",
    "ax.set_ylim(0,40)\n",
    "# fig.colorbar(ma, label=\"r$^2$ value\")\n",
    "ax.legend()\n"
   ]
  },
  {
   "cell_type": "code",
   "execution_count": null,
   "metadata": {},
   "outputs": [],
   "source": [
    "# Create a scatter plot of retrieved vs actual depth\n",
    "scatter = go.Scatter(\n",
    "    x=validation_data.Depth[:len(fits)],\n",
    "    y=fits.H,\n",
    "    mode='markers',\n",
    "    marker=dict(\n",
    "        size=10,\n",
    "        color=fits.r2,\n",
    "        colorscale='Viridis',\n",
    "        showscale=True,\n",
    "        colorbar=dict(title=\"whole-spectrum r<sup>2</sup> value\"),\n",
    "        line=dict(width=0.5, color='#000000'),\n",
    "        opacity=0.5,\n",
    "        # assign hover labels the respective values in validation_data\n",
    "      ),\n",
    "        name='Data points',\n",
    "        hovertext=[f\"K: {K:.2f}, bb: {bb:.2f}, r<sup>2</sup>: {r2:.5f}, sa: {sa:.5f}, sample: {i}\" for K, bb, r2, sa, i in zip(fits.K, fits.bb, fits.r2, fits.spectral_angle, fits.index)],\n",
    "    # hoverinfo=\"text\"\n",
    ")\n",
    "\n",
    "p = np.polyfit(validation_data.Depth[:len(fits)], fits.H, 1)\n",
    "pred = np.polyval(p, validation_data.Depth[:len(fits)])\n",
    "# THIS LOOKS WRONG\n",
    "best_fit_line = go.Scatter(\n",
    "    x=validation_data.Depth[:len(fits)],\n",
    "    y=pred,\n",
    "    mode='lines',\n",
    "    line=dict(color='red', dash='dash'),\n",
    "    name=f\"Best fit: {p[0]:.2f}x + {p[1]:.2f}\",\n",
    ")\n",
    "one_to_one_line = go.Scatter(\n",
    "    x=[min(validation_data.Depth[:len(fits)]), max(validation_data.Depth[:len(fits)])],\n",
    "    y=[min(validation_data.Depth[:len(fits)]), max(validation_data.Depth[:len(fits)])],\n",
    "    mode='lines',\n",
    "    line=dict(color='black'),\n",
    "    name='1:1'\n",
    ")\n",
    "\n",
    "plot = True\n",
    "if plot:\n",
    "    fig = make_subplots()\n",
    "    fig.add_trace(scatter)\n",
    "    fig.add_trace(best_fit_line)\n",
    "    fig.add_trace(one_to_one_line)\n",
    "\n",
    "    # Update layout\n",
    "    fig.update_layout(\n",
    "        title=f\"r<sup>2</sup>: {r2_score(validation_data.Depth[:len(fits)], fits.H):.5f}\",\n",
    "        xaxis_title=\"True depth (m)\",\n",
    "        yaxis_title=\"Retrieved depth (m)\",\n",
    "        xaxis=dict(range=[min(validation_data.Depth[:len(fits)]), max(validation_data.Depth[:len(fits)])], scaleanchor='y', scaleratio=1),\n",
    "        yaxis=dict(range=[min(validation_data.Depth[:len(fits)]), max(validation_data.Depth[:len(fits)])], scaleanchor='x', scaleratio=1),\n",
    "        legend=dict(x=0.02, y=0.98),   \n",
    "    )\n",
    "\n",
    "    fig.update_yaxes(\n",
    "        scaleanchor='x',\n",
    "        scaleratio=1,\n",
    "    )\n",
    "\n",
    "    # show the figure\n",
    "    fig.show()"
   ]
  },
  {
   "cell_type": "code",
   "execution_count": null,
   "metadata": {},
   "outputs": [],
   "source": [
    "fits.iloc[:,6:-2].columns.astype('float')"
   ]
  },
  {
   "cell_type": "code",
   "execution_count": null,
   "metadata": {},
   "outputs": [],
   "source": [
    "fits.iloc[i,:3+len(endmember_array)]"
   ]
  },
  {
   "cell_type": "code",
   "execution_count": null,
   "metadata": {},
   "outputs": [],
   "source": [
    "fits.iloc[i]\n",
    "# looks like the calculate of r2 being stored here is wrong"
   ]
  },
  {
   "cell_type": "markdown",
   "metadata": {},
   "source": [
    "# "
   ]
  },
  {
   "cell_type": "code",
   "execution_count": null,
   "metadata": {},
   "outputs": [],
   "source": [
    "glob_cfg, l_cfg = file_ops.instantiate_single_configs_instance(run_ind = 0)\n",
    "l_cfg"
   ]
  },
  {
   "cell_type": "code",
   "execution_count": null,
   "metadata": {},
   "outputs": [],
   "source": [
    "glob_cfg, _ = file_ops.instantiate_single_configs_instance(run_ind = 0)\n",
    "\n",
    "endmember_class_schema = \"three_endmember\"\n",
    "endmembers = optimisation_pipeline.GenerateEndmembers(\n",
    "    endmember_class_map = glob_cfg.endmember_schema[endmember_class_schema],\n",
    "    endmember_dimensionality_reduction = \"mean\"\n",
    "    ).generate_endmembers()\n",
    "endmembers\n"
   ]
  },
  {
   "cell_type": "code",
   "execution_count": null,
   "metadata": {},
   "outputs": [],
   "source": [
    "prism_spectra = spectrum_utils.crop_spectra_to_range(spectrum_utils.load_spectra(), [min(wvs), max(wvs)])\n",
    "plt.plot(wvs, prism_spectra.values.T, color='k', alpha=0.01);\n",
    "# spectra.loc[min(wvs):max(wvs)]\n",
    "\n",
    "\n",
    "i = 582\n",
    "\n",
    "sensor_range = [450, 690]\n",
    "\n",
    "AOP_model = spectrum_utils.load_aop_model(aop_group_num=1).loc[sensor_range[0]:sensor_range[1]]\n",
    "wvs = AOP_model.index\n",
    "AOP_sub = AOP_model.loc[wvs]\n",
    "AOP_args = (AOP_sub.bb_m.values, AOP_sub.bb_c.values, AOP_sub.Kd_m.values, AOP_sub.Kd_c.values)\n",
    "\n",
    "# read in spectral library\n",
    "f = file_ops.RESOURCES_DIR_FP / \"spectral_library_clean_v3_PRISM_wavebands.csv\"\n",
    "df = pd.read_csv(f, skiprows=1).set_index('wavelength')\n",
    "df.columns = df.columns.astype(float)\n",
    "df = df.astype(float)\n",
    "\n",
    "# generate endmembers\n",
    "endmember_class_schema = \"three_endmember\"\n",
    "glob_cfg, _ = file_ops.instantiate_single_configs_instance(run_ind = 0)\n",
    "# generate endmember array\n",
    "endmember_array = optimisation_pipeline.GenerateEndmembers(\n",
    "    endmember_class_map=glob_cfg.endmember_schema[endmember_class_schema],\n",
    "    endmember_dimensionality_reduction=\"mean\",\n",
    ").generate_endmembers()\n",
    "# crop to sensor range\n",
    "endmember_array = endmember_array.loc[:,sensor_range[0]:sensor_range[1]]\n",
    "\n",
    "# three_em_cats = {\n",
    "#     'algae': ['algae_fleshy_brown', 'algae_fleshy_green', 'algae_fleshy_red', 'algae_turf', 'seagrass', 'algae_crustose_coralline'],\n",
    "#     'coral': ['coral_blue', 'coral_brown', 'octocoral'],\n",
    "#     'sand': ['sand', 'mud']\n",
    "# }\n",
    "\n",
    "# three_endmembers = {}\n",
    "# for cat in three_em_cats:\n",
    "#     ind = df.index.isin(three_em_cats[cat])\n",
    "#     # select all spectra in category and calculate mean spectrum\n",
    "#     three_endmembers[cat] = df.loc[ind].mean(axis=0).loc[sensor_range[0]:sensor_range[1]]\n",
    "# # create array of average spectrum for each category\n",
    "# three_endmember_array = np.array([spectrum.values for spectrum in three_endmembers.values()])\n",
    "\n",
    "endmember_array = three_endmember_array\n",
    "endmember_cats = three_em_cats\n",
    "\n",
    "fit = fits.iloc[i,:3+len(endmember_array)]\n",
    "true_spectrum = prism_spectra.iloc[i,:]\n",
    "# plot problem fits\n",
    "plotting.plot_single_fit(fit, true_spectrum, AOP_args, endmember_array, endmember_cats.keys())"
   ]
  },
  {
   "cell_type": "code",
   "execution_count": null,
   "metadata": {},
   "outputs": [],
   "source": [
    "# plot r2\n",
    "plt.hist(test_fits.spectral_angle, bins=50);"
   ]
  },
  {
   "cell_type": "code",
   "execution_count": null,
   "metadata": {},
   "outputs": [],
   "source": [
    "out, _ = spectrum_utils.spread_simulate_spectra(wvs, three_endmember_array, AOP_args, N=200, Rb_vals=(0.4, 0.4, 0.2))\n",
    "plt.plot(out.reshape(-1, out.shape[-1]).T, color='k', alpha=0.01);"
   ]
  },
  {
   "cell_type": "code",
   "execution_count": null,
   "metadata": {},
   "outputs": [],
   "source": [
    "glob_cfg, run_cfg = file_ops.instantiate_single_configs_instance(run_ind = 0)\n",
    "\n",
    "pipe = optimisation_pipeline.OptPipe(glob_cfg, run_cfg)\n",
    "pipe.run()"
   ]
  },
  {
   "cell_type": "markdown",
   "metadata": {},
   "source": [
    "# Manual fitting analysis"
   ]
  },
  {
   "cell_type": "code",
   "execution_count": null,
   "metadata": {},
   "outputs": [],
   "source": [
    "# SETUP\n",
    "prism_spectra = spectrum_utils.crop_spectra_to_range(spectrum_utils.load_spectra(), [min(wvs), max(wvs)])\n",
    "# plt.plot(wvs, prism_spectra.values.T, color='k', alpha=0.01);\n",
    "\n",
    "AOP_model = spectrum_utils.load_aop_model(aop_group_num=1).loc[sensor_range[0]:sensor_range[1]]\n",
    "wvs = AOP_model.index\n",
    "AOP_sub = AOP_model.loc[wvs]\n",
    "AOP_args = (AOP_sub.bb_m.values, AOP_sub.bb_c.values, AOP_sub.Kd_m.values, AOP_sub.Kd_c.values)\n",
    "\n",
    "# read in spectral library\n",
    "f = file_ops.RESOURCES_DIR_FP / \"spectral_library_clean_v3_PRISM_wavebands.csv\"\n",
    "df = pd.read_csv(f, skiprows=1).set_index('wavelength')\n",
    "df.columns = df.columns.astype(float)\n",
    "df = df.astype(float)\n",
    "\n",
    "# GENERATE ENDMEMBERS\n",
    "glob_cfg = file_ops.GlobalOptPipeConfig(file_ops.read_yaml(file_ops.CONFIG_DIR_FP / \"glob_cfg.yaml\"))\n",
    "sensor_range = [450, 690]\n",
    "\n",
    "endmember_class_schema = \"three_endmember\"\n",
    "endmember_df = optimisation_pipeline.GenerateEndmembers(\n",
    "    endmember_class_map = glob_cfg.endmember_schema[endmember_class_schema],\n",
    "    endmember_dimensionality_reduction = \"mean\",\n",
    "    endmember_normalisation = False\n",
    ").generate_endmembers()\n",
    "endmember_df = spectrum_utils.crop_spectra_to_range(endmember_df, sensor_range)\n",
    "endmember_array = endmember_df.values\n",
    "\n",
    "# generate simulated data\n",
    "sim_spectra, sim_metadata = spectrum_utils.spread_simulate_spectra(wvs, three_endmember_array, AOP_args, N=200, Rb_vals=(0.4, 0.4, 0.2))"
   ]
  },
  {
   "cell_type": "code",
   "execution_count": null,
   "metadata": {},
   "outputs": [],
   "source": [
    "sim_spectra"
   ]
  },
  {
   "cell_type": "code",
   "execution_count": null,
   "metadata": {},
   "outputs": [],
   "source": [
    "# for a given validation spectrum, minimise with respect to various objective functions\n",
    "i = 6\n",
    "obs_spectra = prism_spectra\n",
    "\n",
    "# depth_bounds = (1,2)\n",
    "depth_bounds = (0,50)\n",
    "\n",
    "of = spectrum_utils.sa_objective_unity_fn\n",
    "# minimise\n",
    "endmember_bounds = (0, 1)\n",
    "fit = minimize(\n",
    "            of,\n",
    "            # initial parameter values\n",
    "            x0=[0.1, 0.1, 0] + [0.0001] * len(endmember_array),\n",
    "            # extra arguments passsed to the object function (and its derivatives)\n",
    "            args=(obs_spectra.loc[i], # spectrum to fit (obs)\n",
    "                  *AOP_args,    # wavelength-dependent backscatter and attenuation coefficients (bb_m, bb_c, Kd_m, Kd_c)\n",
    "                  endmember_array  # typical end-member spectra\n",
    "                  ),\n",
    "            # constrain values\n",
    "            bounds=[(0, 0.41123), (0.01688, 3.17231), depth_bounds] + [endmember_bounds] * len(endmember_array), # may not always want to constrain this (e.g. for PCs)\n",
    "            method=\"L-BFGS-B\",\n",
    "            tol=1e-15\n",
    "            )\n",
    "\n",
    "true_spectrum = obs_spectra.iloc[i,:]\n",
    "# cast to same format as saved\n",
    "fit = pd.Series(fit.x[:])\n",
    "\n",
    "plotting.plot_single_fit(fit, true_spectrum, AOP_args, endmember_array, endmember_df.index)\n",
    "print(fit)\n",
    "print(\"sum of endmember contribution:\", sum(fit[3:]))"
   ]
  },
  {
   "cell_type": "code",
   "execution_count": null,
   "metadata": {},
   "outputs": [],
   "source": [
    "# highlight discrepensies wrt an objective function\n",
    "kernel_width = 20\n",
    "kernel_displacement = 20\n",
    "wvs = true_spectrum.index\n",
    "\n",
    "fit_spectrum = spectrum_utils.generate_spectrum(fit, wvs, endmember_array, AOP_args)\n",
    "# combine the observed and fitted spectra in a numpy array\n",
    "comp_spectra = np.array([true_spectrum.values, fit_spectrum])\n",
    "metric = spectrum_utils.calc_ssq\n",
    "\n",
    "wv_pairs, mean_corrs = spectrum_utils.calc_rolling_similarity(wvs, comp_spectra, kernel_width, kernel_displacement, metric)\n",
    "\n",
    "plotting.plot_rolling_spectral_similarity(wv_pairs, mean_corrs, wvs, comp_spectra)"
   ]
  },
  {
   "cell_type": "markdown",
   "metadata": {},
   "source": [
    "# Pipeline automation"
   ]
  },
  {
   "cell_type": "code",
   "execution_count": null,
   "metadata": {},
   "outputs": [],
   "source": [
    "run_cfgs[:3][-1]"
   ]
  },
  {
   "cell_type": "code",
   "execution_count": null,
   "metadata": {},
   "outputs": [],
   "source": [
    "from pathlib import Path\n",
    "Path(\"reflectance/file_ops.py\").resolve()"
   ]
  }
 ],
 "metadata": {
  "kernelspec": {
   "display_name": "spectra",
   "language": "python",
   "name": "python3"
  },
  "language_info": {
   "codemirror_mode": {
    "name": "ipython",
    "version": 3
   },
   "file_extension": ".py",
   "mimetype": "text/x-python",
   "name": "python",
   "nbconvert_exporter": "python",
   "pygments_lexer": "ipython3",
   "version": "3.12.5"
  }
 },
 "nbformat": 4,
 "nbformat_minor": 2
}
