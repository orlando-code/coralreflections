{
 "cells": [
  {
   "cell_type": "code",
   "execution_count": 1,
   "metadata": {},
   "outputs": [],
   "source": [
    "%load_ext autoreload\n",
    "%autoreload 2\n",
    "\n",
    "# general\n",
    "import numpy as np\n",
    "import pandas as pd\n",
    "from tqdm.auto import tqdm\n",
    "from scipy.interpolate import interp1d\n",
    "\n",
    "# plotting\n",
    "import matplotlib.pyplot as plt\n",
    "from ipywidgets import interact\n",
    "import matplotlib.colors as mcolors\n",
    "from matplotlib.gridspec import GridSpec\n",
    "from plotly.subplots import make_subplots\n",
    "import plotly.graph_objs as go\n",
    "\n",
    "# fitting\n",
    "from sklearn.metrics import r2_score\n",
    "from scipy.optimize import minimize\n",
    "from functools import partial\n",
    "import multiprocess as mp\n",
    "import matplotlib.patches as mpatches\n",
    "\n",
    "# custom\n",
    "from reflectance import plotting, spectrum_utils, optimisation_pipeline, file_ops"
   ]
  },
  {
   "cell_type": "markdown",
   "metadata": {},
   "source": [
    "# Pipeline"
   ]
  },
  {
   "cell_type": "code",
   "execution_count": 5,
   "metadata": {},
   "outputs": [
    {
     "data": {
      "application/vnd.jupyter.widget-view+json": {
       "model_id": "ec0d976163d74965b8f34eee44ab6ea7",
       "version_major": 2,
       "version_minor": 0
      },
      "text/plain": [
       "Generating simulated spectra:   0%|          | 0/10 [00:00<?, ?it/s]"
      ]
     },
     "metadata": {},
     "output_type": "display_data"
    },
    {
     "data": {
      "application/vnd.jupyter.widget-view+json": {
       "model_id": "e26e613fe3b346c59e8ee0a72cea96ec",
       "version_major": 2,
       "version_minor": 0
      },
      "text/plain": [
       "Fitting spectra:   0%|          | 0/100 [00:00<?, ?it/s]"
      ]
     },
     "metadata": {},
     "output_type": "display_data"
    },
    {
     "name": "stdout",
     "output_type": "stream",
     "text": [
      "RunOptPipeConfig(aop_group_num=1, nir_wavelengths=[750, 1100], sensor_range=[450, 690], endmember_type='mean', endmember_normalisation=False, endmember_class_schema='three_endmember', spectra_normalisation=False, objective_fn='r2', bb_bounds=(0, 0.41123), Kd_bounds=(0.01688, 3.17231), H_bounds=(0, 40), simulation={'type': 'spread', 'N': 10, 'Rb_vals': [0, 1, 0], 'n_depths': 10, 'depth_lims': [0, 10], 'n_ks': 10, 'k_lims': [0, 0.4], 'n_bbs': 10, 'bb_lims': [0.01, 0.03], 'n_noise_levels': 10, 'noise_lims': [0.001, 0], 'noise_ind': 0}, solver='CG', tol=1e-06)\n"
     ]
    }
   ],
   "source": [
    "config_dict = {\"processing\": {\n",
    "    'aop_group_num': 1,\n",
    "    'nir_wavelengths': [750, 1100],\n",
    "    'sensor_range': [450, 690],\n",
    "    'endmember_type': 'mean',\n",
    "    'endmember_normalisation': False,\n",
    "    'endmember_class_schema': 'three_endmember',\n",
    "    'spectra_normalisation': False},\n",
    "                 \"simulation\":\n",
    "{    \"type\": \"spread\",\n",
    "    \"N\": 10,\n",
    "    \"Rb_vals\": [0,1,0],\n",
    "    \"n_depths\": 10,\n",
    "    \"depth_lims\": [0, 10],\n",
    "    \"n_ks\": 10,\n",
    "    \"k_lims\": [0, 0.4],\n",
    "    \"n_bbs\": 10,\n",
    "    \"bb_lims\": [0.01, 0.03],\n",
    "    \"n_noise_levels\": 10,\n",
    "    \"noise_lims\": [0.001, 0],\n",
    "    \"noise_ind\": 0}, # TODO: remove unnecessary noise vars\n",
    "    \"fitting\":{\n",
    "    'objective_fn': 'r2',\n",
    "    'bb_bounds': (0, 0.41123),\n",
    "    'Kd_bounds': (0.01688, 3.17231),\n",
    "    'H_bounds': (0, 40),\n",
    "    'solver': 'CG',\n",
    "    'tol': 1e-6\n",
    "}}\n",
    "glob_cfg, _ = file_ops.instantiate_single_configs_instance(run_ind = 0)\n",
    "\n",
    "cfg = file_ops.RunOptPipeConfig(config_dict)\n",
    "g_cfg = glob_cfg\n",
    "\n",
    "pipe = optimisation_pipeline.OptPipe(g_cfg, cfg)\n",
    "pipe.run()"
   ]
  },
  {
   "cell_type": "code",
   "execution_count": null,
   "metadata": {},
   "outputs": [],
   "source": [
    "# view fits\n",
    "test_spectra = pd.read_csv(file_ops.RESULTS_DIR_FP / \"fits/sim_spectra_1.csv\")\n",
    "wvs = test_spectra.iloc[:,3:].columns.astype(float)\n",
    "plt.plot(wvs, test_spectra.iloc[:,3:].values.T, color='k', alpha=0.01);"
   ]
  },
  {
   "cell_type": "code",
   "execution_count": null,
   "metadata": {},
   "outputs": [],
   "source": [
    "test_fits = pd.read_csv(file_ops.RESULTS_DIR_FP / \"fits/fit_results_nan.csv\", skiprows=1)\n",
    "plt.plot(wvs, test_fits.iloc[:,6:-2].values.T, color='k', alpha=0.01);"
   ]
  },
  {
   "cell_type": "code",
   "execution_count": null,
   "metadata": {},
   "outputs": [],
   "source": [
    "# plot r2\n",
    "plt.hist(test_fits.r2, bins=50);"
   ]
  },
  {
   "cell_type": "code",
   "execution_count": null,
   "metadata": {},
   "outputs": [],
   "source": [
    "# plot fitted spectra\n"
   ]
  },
  {
   "cell_type": "code",
   "execution_count": null,
   "metadata": {},
   "outputs": [],
   "source": [
    "fits.iloc[:12,:3]"
   ]
  },
  {
   "cell_type": "code",
   "execution_count": null,
   "metadata": {},
   "outputs": [],
   "source": [
    "fits"
   ]
  },
  {
   "cell_type": "code",
   "execution_count": null,
   "metadata": {},
   "outputs": [],
   "source": [
    "# three_endmember_array.shape\n",
    "wvs.shape"
   ]
  },
  {
   "cell_type": "code",
   "execution_count": null,
   "metadata": {},
   "outputs": [],
   "source": [
    "out, _ = spectrum_utils.spread_simulate_spectra(wvs, three_endmember_array, AOP_args, N=200, Rb_vals=(0.4, 0.4, 0.2))\n",
    "plt.plot(out.reshape(-1, out.shape[-1]).T, color='k', alpha=0.01);"
   ]
  },
  {
   "cell_type": "code",
   "execution_count": null,
   "metadata": {},
   "outputs": [],
   "source": [
    "glob_cfg, run_cfg = file_ops.instantiate_single_configs_instance(run_ind = 0)\n",
    "\n",
    "pipe = optimisation_pipeline.OptPipe(glob_cfg, run_cfg)\n",
    "pipe.run()"
   ]
  },
  {
   "cell_type": "code",
   "execution_count": 5,
   "metadata": {},
   "outputs": [],
   "source": [
    "config_params_dict = {\n",
    "    'processing': {\n",
    "        'aop_group_num': [1, 2, 3],\n",
    "        'nir_wavelengths': [[750, 1100]],\n",
    "        'sensor_range': [[450, 690]],\n",
    "        'endmember_type': [\"mean\", \"median\", \"pca\", \"nmf\", \"ica\", \"svd\"],\n",
    "        'endmember_normalisation': [\"minmax\", \"zscore\", \"robust\", \"maxabs\"],\n",
    "        'endmember_class_schema': [\"four_endmember\", \"all\", \"inorganic_organic\"],\n",
    "        'spectra_normalisation': [\"minmax\", \"zscore\", \"robust\", \"maxabs\"]\n",
    "    },\n",
    "    \"simulation\": {\n",
    "        \"type\": [\"spread\"],\n",
    "        \"N\": [100],\n",
    "        \"Rb_vals\": [(0,1)],\n",
    "        \"n_depths\": [10],\n",
    "        \"depth_lims\": [(0, 10)],\n",
    "        \"n_ks\": [10],\n",
    "        \"k_lims\": [(0, 0.4)],\n",
    "        \"n_bbs\": [10],\n",
    "        \"bb_lims\": [(0.01, 0.03)],\n",
    "        \"n_noise_levels\": [10],\n",
    "        \"noise_lims\": [(0.001, 0)],\n",
    "        \"noise_ind\": [0] \n",
    "    },\n",
    "    'fitting': {\n",
    "        'objective_fn': [\"r2\", \"spectral_angle\"],\n",
    "        'bb_bounds': [(0, 0.41123), (0, 0.2)],\n",
    "        'Kd_bounds': [(0.01688, 3.17231), (0.01688, 1.5)],\n",
    "        'H_bounds': [(0, 10), (0, 40), \n",
    "                    #  (0, 20), (0, 30)\n",
    "                     ],\n",
    "        'solver': ['L-BFGS-B'], \n",
    "        # 'Powell', 'CG', 'BFGS', 'Newton-CG', 'L-BFGS-B', 'TNC', 'COBYLA', 'COBYQA', 'SLSQP', 'trust-constr', 'dogleg', 'trust-ncg', 'trust-exact', 'trust-krylov'],\n",
    "        'tol': [\n",
    "            # 0.0, 1e-3, \n",
    "            1e-6, 1e-9]\n",
    "    }\n",
    "}\n",
    "\n",
    "\n",
    "run_cfgs = file_ops.generate_config_dicts(config_params_dict)\n",
    "glob_cfg = file_ops.read_yaml(file_ops.CONFIG_DIR_FP / \"glob_cfg.yaml\")\n",
    "exec_kwargs = {\n",
    "    \"tqdm\": False,\n",
    "    \"n_cpus\": 128\n",
    "}"
   ]
  },
  {
   "cell_type": "code",
   "execution_count": null,
   "metadata": {},
   "outputs": [],
   "source": [
    "run_cfgs[0]"
   ]
  },
  {
   "cell_type": "code",
   "execution_count": null,
   "metadata": {},
   "outputs": [],
   "source": [
    "optimisation_pipeline.run_pipeline(glob_cfg, run_cfgs[:3])"
   ]
  }
 ],
 "metadata": {
  "kernelspec": {
   "display_name": "spectra",
   "language": "python",
   "name": "python3"
  },
  "language_info": {
   "codemirror_mode": {
    "name": "ipython",
    "version": 3
   },
   "file_extension": ".py",
   "mimetype": "text/x-python",
   "name": "python",
   "nbconvert_exporter": "python",
   "pygments_lexer": "ipython3",
   "version": "3.12.5"
  }
 },
 "nbformat": 4,
 "nbformat_minor": 2
}
