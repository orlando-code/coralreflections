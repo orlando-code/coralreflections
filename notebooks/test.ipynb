{
 "cells": [
  {
   "cell_type": "code",
   "execution_count": 26,
   "metadata": {},
   "outputs": [
    {
     "name": "stdout",
     "output_type": "stream",
     "text": [
      "The autoreload extension is already loaded. To reload it, use:\n",
      "  %reload_ext autoreload\n"
     ]
    }
   ],
   "source": [
    "%load_ext autoreload\n",
    "%autoreload 2\n",
    "\n",
    "# general\n",
    "import numpy as np\n",
    "import pandas as pd\n",
    "from tqdm.auto import tqdm\n",
    "from scipy.interpolate import interp1d\n",
    "\n",
    "# plotting\n",
    "import matplotlib.pyplot as plt\n",
    "from ipywidgets import interact\n",
    "import matplotlib.colors as mcolors\n",
    "from matplotlib.gridspec import GridSpec\n",
    "from plotly.subplots import make_subplots\n",
    "import plotly.graph_objs as go\n",
    "\n",
    "# fitting\n",
    "from sklearn.metrics import r2_score\n",
    "from scipy.optimize import minimize\n",
    "from functools import partial\n",
    "import multiprocess as mp\n",
    "import matplotlib.patches as mpatches\n",
    "\n",
    "# custom\n",
    "from reflectance import plotting, spectrum_utils, optimisation_pipeline, file_ops"
   ]
  },
  {
   "cell_type": "markdown",
   "metadata": {},
   "source": [
    "# Pipeline"
   ]
  },
  {
   "cell_type": "code",
   "execution_count": 27,
   "metadata": {},
   "outputs": [
    {
     "data": {
      "application/vnd.jupyter.widget-view+json": {
       "model_id": "8ace69eb74184f48bf0d5dee1827263b",
       "version_major": 2,
       "version_minor": 0
      },
      "text/plain": [
       "Fitting spectra:   0%|          | 0/1938 [00:00<?, ?it/s]"
      ]
     },
     "metadata": {},
     "output_type": "display_data"
    },
    {
     "ename": "KeyboardInterrupt",
     "evalue": "",
     "output_type": "error",
     "traceback": [
      "\u001b[0;31m---------------------------------------------------------------------------\u001b[0m",
      "\u001b[0;31mKeyboardInterrupt\u001b[0m                         Traceback (most recent call last)",
      "Cell \u001b[0;32mIn[27], line 36\u001b[0m\n\u001b[1;32m     33\u001b[0m g_cfg \u001b[38;5;241m=\u001b[39m glob_cfg\n\u001b[1;32m     35\u001b[0m pipe \u001b[38;5;241m=\u001b[39m optimisation_pipeline\u001b[38;5;241m.\u001b[39mOptPipe(g_cfg, cfg)\n\u001b[0;32m---> 36\u001b[0m \u001b[43mpipe\u001b[49m\u001b[38;5;241;43m.\u001b[39;49m\u001b[43mrun\u001b[49m\u001b[43m(\u001b[49m\u001b[43m)\u001b[49m\n",
      "File \u001b[0;32m~/Library/CloudStorage/OneDrive-UniversityofCambridge/cambridge/phd/coralreflections/reflectance/optimisation_pipeline.py:491\u001b[0m, in \u001b[0;36mOptPipe.run\u001b[0;34m(self)\u001b[0m\n\u001b[1;32m    489\u001b[0m \u001b[38;5;28;01mfor\u001b[39;00m step_name, step_method \u001b[38;5;129;01min\u001b[39;00m pipeline_steps:\n\u001b[1;32m    490\u001b[0m     \u001b[38;5;28;01mtry\u001b[39;00m:\n\u001b[0;32m--> 491\u001b[0m         \u001b[43mstep_method\u001b[49m\u001b[43m(\u001b[49m\u001b[43m)\u001b[49m\n\u001b[1;32m    492\u001b[0m         \u001b[38;5;66;03m# profile_step(step_name, step_method)\u001b[39;00m\n\u001b[1;32m    493\u001b[0m     \u001b[38;5;28;01mexcept\u001b[39;00m \u001b[38;5;167;01mException\u001b[39;00m \u001b[38;5;28;01mas\u001b[39;00m e:\n",
      "File \u001b[0;32m~/Library/CloudStorage/OneDrive-UniversityofCambridge/cambridge/phd/coralreflections/reflectance/optimisation_pipeline.py:273\u001b[0m, in \u001b[0;36mOptPipe.fit_spectra\u001b[0;34m(self)\u001b[0m\n\u001b[1;32m    258\u001b[0m partial_wrapper \u001b[38;5;241m=\u001b[39m partial(\n\u001b[1;32m    259\u001b[0m     spectrum_utils\u001b[38;5;241m.\u001b[39m_wrapper,\n\u001b[1;32m    260\u001b[0m     of\u001b[38;5;241m=\u001b[39mof,\n\u001b[0;32m   (...)\u001b[0m\n\u001b[1;32m    269\u001b[0m     tol\u001b[38;5;241m=\u001b[39m\u001b[38;5;28mself\u001b[39m\u001b[38;5;241m.\u001b[39mcfg\u001b[38;5;241m.\u001b[39mtol,\n\u001b[1;32m    270\u001b[0m )\n\u001b[1;32m    272\u001b[0m \u001b[38;5;66;03m# if self.exec_kwargs[\"tqdm\"]:\u001b[39;00m\n\u001b[0;32m--> 273\u001b[0m fitted_params \u001b[38;5;241m=\u001b[39m \u001b[43mParallel\u001b[49m\u001b[43m(\u001b[49m\u001b[43mn_jobs\u001b[49m\u001b[38;5;241;43m=\u001b[39;49m\u001b[38;5;241;43m128\u001b[39;49m\u001b[43m)\u001b[49m\u001b[43m(\u001b[49m\n\u001b[1;32m    274\u001b[0m \u001b[43m    \u001b[49m\u001b[43mdelayed\u001b[49m\u001b[43m(\u001b[49m\u001b[43mpartial_wrapper\u001b[49m\u001b[43m)\u001b[49m\u001b[43m(\u001b[49m\u001b[43mindex\u001b[49m\u001b[43m)\u001b[49m\n\u001b[1;32m    275\u001b[0m \u001b[43m    \u001b[49m\u001b[38;5;28;43;01mfor\u001b[39;49;00m\u001b[43m \u001b[49m\u001b[43mindex\u001b[49m\u001b[43m \u001b[49m\u001b[38;5;129;43;01min\u001b[39;49;00m\u001b[43m \u001b[49m\u001b[43mtqdm\u001b[49m\u001b[43m(\u001b[49m\u001b[38;5;28;43mself\u001b[39;49m\u001b[38;5;241;43m.\u001b[39;49m\u001b[43mspectra\u001b[49m\u001b[38;5;241;43m.\u001b[39;49m\u001b[43mindex\u001b[49m\u001b[43m,\u001b[49m\u001b[43m \u001b[49m\u001b[43mminiters\u001b[49m\u001b[38;5;241;43m=\u001b[39;49m\u001b[38;5;241;43m10\u001b[39;49m\u001b[43m,\u001b[49m\u001b[43m \u001b[49m\u001b[43mdesc\u001b[49m\u001b[38;5;241;43m=\u001b[39;49m\u001b[38;5;124;43m\"\u001b[39;49m\u001b[38;5;124;43mFitting spectra\u001b[39;49m\u001b[38;5;124;43m\"\u001b[39;49m\u001b[43m)\u001b[49m\n\u001b[1;32m    276\u001b[0m \u001b[43m\u001b[49m\u001b[43m)\u001b[49m\n\u001b[1;32m    278\u001b[0m \u001b[38;5;66;03m# else:\u001b[39;00m\n\u001b[1;32m    279\u001b[0m \u001b[38;5;66;03m# fitted_params = Parallel(n_jobs=128)(\u001b[39;00m\n\u001b[1;32m    280\u001b[0m \u001b[38;5;66;03m#     delayed(partial_wrapper)(index) for index in self.spectra.index\u001b[39;00m\n\u001b[0;32m   (...)\u001b[0m\n\u001b[1;32m    305\u001b[0m \u001b[38;5;66;03m#         )\u001b[39;00m\n\u001b[1;32m    306\u001b[0m \u001b[38;5;66;03m#     )\u001b[39;00m\n\u001b[1;32m    307\u001b[0m \u001b[38;5;28mself\u001b[39m\u001b[38;5;241m.\u001b[39mfitted_params \u001b[38;5;241m=\u001b[39m pd\u001b[38;5;241m.\u001b[39mDataFrame(\n\u001b[1;32m    308\u001b[0m     fitted_params,\n\u001b[1;32m    309\u001b[0m     index\u001b[38;5;241m=\u001b[39m\u001b[38;5;28mself\u001b[39m\u001b[38;5;241m.\u001b[39mspectra\u001b[38;5;241m.\u001b[39mindex,\n\u001b[1;32m    310\u001b[0m     columns\u001b[38;5;241m=\u001b[39m[\u001b[38;5;124m\"\u001b[39m\u001b[38;5;124mbb\u001b[39m\u001b[38;5;124m\"\u001b[39m, \u001b[38;5;124m\"\u001b[39m\u001b[38;5;124mK\u001b[39m\u001b[38;5;124m\"\u001b[39m, \u001b[38;5;124m\"\u001b[39m\u001b[38;5;124mH\u001b[39m\u001b[38;5;124m\"\u001b[39m] \u001b[38;5;241m+\u001b[39m \u001b[38;5;28mlist\u001b[39m(\u001b[38;5;28mlist\u001b[39m(\u001b[38;5;28mself\u001b[39m\u001b[38;5;241m.\u001b[39mendmembers\u001b[38;5;241m.\u001b[39mindex)),\n\u001b[1;32m    311\u001b[0m )\n",
      "File \u001b[0;32m~/miniforge3/envs/spectra/lib/python3.12/site-packages/joblib/parallel.py:2007\u001b[0m, in \u001b[0;36mParallel.__call__\u001b[0;34m(self, iterable)\u001b[0m\n\u001b[1;32m   2001\u001b[0m \u001b[38;5;66;03m# The first item from the output is blank, but it makes the interpreter\u001b[39;00m\n\u001b[1;32m   2002\u001b[0m \u001b[38;5;66;03m# progress until it enters the Try/Except block of the generator and\u001b[39;00m\n\u001b[1;32m   2003\u001b[0m \u001b[38;5;66;03m# reaches the first `yield` statement. This starts the asynchronous\u001b[39;00m\n\u001b[1;32m   2004\u001b[0m \u001b[38;5;66;03m# dispatch of the tasks to the workers.\u001b[39;00m\n\u001b[1;32m   2005\u001b[0m \u001b[38;5;28mnext\u001b[39m(output)\n\u001b[0;32m-> 2007\u001b[0m \u001b[38;5;28;01mreturn\u001b[39;00m output \u001b[38;5;28;01mif\u001b[39;00m \u001b[38;5;28mself\u001b[39m\u001b[38;5;241m.\u001b[39mreturn_generator \u001b[38;5;28;01melse\u001b[39;00m \u001b[38;5;28;43mlist\u001b[39;49m\u001b[43m(\u001b[49m\u001b[43moutput\u001b[49m\u001b[43m)\u001b[49m\n",
      "File \u001b[0;32m~/miniforge3/envs/spectra/lib/python3.12/site-packages/joblib/parallel.py:1650\u001b[0m, in \u001b[0;36mParallel._get_outputs\u001b[0;34m(self, iterator, pre_dispatch)\u001b[0m\n\u001b[1;32m   1647\u001b[0m     \u001b[38;5;28;01myield\u001b[39;00m\n\u001b[1;32m   1649\u001b[0m     \u001b[38;5;28;01mwith\u001b[39;00m \u001b[38;5;28mself\u001b[39m\u001b[38;5;241m.\u001b[39m_backend\u001b[38;5;241m.\u001b[39mretrieval_context():\n\u001b[0;32m-> 1650\u001b[0m         \u001b[38;5;28;01myield from\u001b[39;00m \u001b[38;5;28mself\u001b[39m\u001b[38;5;241m.\u001b[39m_retrieve()\n\u001b[1;32m   1652\u001b[0m \u001b[38;5;28;01mexcept\u001b[39;00m \u001b[38;5;167;01mGeneratorExit\u001b[39;00m:\n\u001b[1;32m   1653\u001b[0m     \u001b[38;5;66;03m# The generator has been garbage collected before being fully\u001b[39;00m\n\u001b[1;32m   1654\u001b[0m     \u001b[38;5;66;03m# consumed. This aborts the remaining tasks if possible and warn\u001b[39;00m\n\u001b[1;32m   1655\u001b[0m     \u001b[38;5;66;03m# the user if necessary.\u001b[39;00m\n\u001b[1;32m   1656\u001b[0m     \u001b[38;5;28mself\u001b[39m\u001b[38;5;241m.\u001b[39m_exception \u001b[38;5;241m=\u001b[39m \u001b[38;5;28;01mTrue\u001b[39;00m\n",
      "File \u001b[0;32m~/miniforge3/envs/spectra/lib/python3.12/site-packages/joblib/parallel.py:1762\u001b[0m, in \u001b[0;36mParallel._retrieve\u001b[0;34m(self)\u001b[0m\n\u001b[1;32m   1757\u001b[0m \u001b[38;5;66;03m# If the next job is not ready for retrieval yet, we just wait for\u001b[39;00m\n\u001b[1;32m   1758\u001b[0m \u001b[38;5;66;03m# async callbacks to progress.\u001b[39;00m\n\u001b[1;32m   1759\u001b[0m \u001b[38;5;28;01mif\u001b[39;00m ((\u001b[38;5;28mlen\u001b[39m(\u001b[38;5;28mself\u001b[39m\u001b[38;5;241m.\u001b[39m_jobs) \u001b[38;5;241m==\u001b[39m \u001b[38;5;241m0\u001b[39m) \u001b[38;5;129;01mor\u001b[39;00m\n\u001b[1;32m   1760\u001b[0m     (\u001b[38;5;28mself\u001b[39m\u001b[38;5;241m.\u001b[39m_jobs[\u001b[38;5;241m0\u001b[39m]\u001b[38;5;241m.\u001b[39mget_status(\n\u001b[1;32m   1761\u001b[0m         timeout\u001b[38;5;241m=\u001b[39m\u001b[38;5;28mself\u001b[39m\u001b[38;5;241m.\u001b[39mtimeout) \u001b[38;5;241m==\u001b[39m TASK_PENDING)):\n\u001b[0;32m-> 1762\u001b[0m     \u001b[43mtime\u001b[49m\u001b[38;5;241;43m.\u001b[39;49m\u001b[43msleep\u001b[49m\u001b[43m(\u001b[49m\u001b[38;5;241;43m0.01\u001b[39;49m\u001b[43m)\u001b[49m\n\u001b[1;32m   1763\u001b[0m     \u001b[38;5;28;01mcontinue\u001b[39;00m\n\u001b[1;32m   1765\u001b[0m \u001b[38;5;66;03m# We need to be careful: the job list can be filling up as\u001b[39;00m\n\u001b[1;32m   1766\u001b[0m \u001b[38;5;66;03m# we empty it and Python list are not thread-safe by\u001b[39;00m\n\u001b[1;32m   1767\u001b[0m \u001b[38;5;66;03m# default hence the use of the lock\u001b[39;00m\n",
      "\u001b[0;31mKeyboardInterrupt\u001b[0m: "
     ]
    }
   ],
   "source": [
    "config_dict = {\"processing\": {\n",
    "    'aop_group_num': 1,\n",
    "    'nir_wavelengths': [750, 1100],\n",
    "    'sensor_range': [450, 690],\n",
    "    'endmember_dimensionality_reduction': 'mean',\n",
    "    'endmember_normalisation': False,\n",
    "    'endmember_class_schema': 'three_endmember',\n",
    "    'spectra_normalisation': False},\n",
    "                 \"simulation\":\n",
    "{    \"type\": \"spread\",\n",
    "    \"N\": 10,\n",
    "    \"Rb_vals\": [0,1,0],\n",
    "    \"n_depths\": 10,\n",
    "    \"depth_lims\": [0, 10],\n",
    "    \"n_ks\": 10,\n",
    "    \"k_lims\": [0, 0.4],\n",
    "    \"n_bbs\": 10,\n",
    "    \"bb_lims\": [0.01, 0.03],\n",
    "    \"n_noise_levels\": 10,\n",
    "    \"noise_lims\": [0.001, 0],\n",
    "    \"noise_ind\": 0}, # TODO: remove unnecessary noise vars\n",
    "    \"fitting\":{\n",
    "    'objective_fn': 'r2',\n",
    "    'bb_bounds': (0, 0.41123),\n",
    "    'Kd_bounds': (0.01688, 3.17231),\n",
    "    'H_bounds': (0, 40),\n",
    "    'solver': 'CG',\n",
    "    'tol': 1e-6\n",
    "}}\n",
    "glob_cfg, _ = file_ops.instantiate_single_configs_instance(run_ind = 0)\n",
    "\n",
    "cfg = file_ops.RunOptPipeConfig(config_dict)\n",
    "g_cfg = glob_cfg\n",
    "\n",
    "pipe = optimisation_pipeline.OptPipe(g_cfg, cfg)\n",
    "pipe.run()"
   ]
  },
  {
   "cell_type": "code",
   "execution_count": 28,
   "metadata": {},
   "outputs": [
    {
     "data": {
      "image/png": "[encoded data removed]",
      "text/plain": [
       "<Figure size 640x480 with 1 Axes>"
      ]
     },
     "metadata": {},
     "output_type": "display_data"
    }
   ],
   "source": [
    "# view fits\n",
    "test_spectra = pd.read_csv(file_ops.RESULTS_DIR_FP / \"fits/sim_spectra_1.csv\")\n",
    "wvs = test_spectra.columns[4:].astype(float)\n",
    "plt.plot(wvs, test_spectra.iloc[:,4:].values.T, color='k', alpha=0.01);"
   ]
  },
  {
   "cell_type": "code",
   "execution_count": 29,
   "metadata": {},
   "outputs": [
    {
     "data": {
      "image/png": "[encoded data removed]",
      "text/plain": [
       "<Figure size 640x480 with 1 Axes>"
      ]
     },
     "metadata": {},
     "output_type": "display_data"
    }
   ],
   "source": [
    "test_fits = pd.read_csv(file_ops.RESULTS_DIR_FP / \"fits/fit_results_1.csv\", skiprows=1)\n",
    "wvs = test_fits.iloc[:,6:-2].columns.astype('float')\n",
    "plt.plot(wvs, test_fits.iloc[:,6:-2].values.T, color='k', alpha=0.01);"
   ]
  },
  {
   "cell_type": "code",
   "execution_count": 30,
   "metadata": {},
   "outputs": [
    {
     "data": {
      "text/html": [
       "<div>\n",
       "<style scoped>\n",
       "    .dataframe tbody tr th:only-of-type {\n",
       "        vertical-align: middle;\n",
       "    }\n",
       "\n",
       "    .dataframe tbody tr th {\n",
       "        vertical-align: top;\n",
       "    }\n",
       "\n",
       "    .dataframe thead th {\n",
       "        text-align: right;\n",
       "    }\n",
       "</style>\n",
       "<table border=\"1\" class=\"dataframe\">\n",
       "  <thead>\n",
       "    <tr style=\"text-align: right;\">\n",
       "      <th></th>\n",
       "      <th>bb</th>\n",
       "      <th>K</th>\n",
       "      <th>H</th>\n",
       "      <th>algae</th>\n",
       "      <th>coral</th>\n",
       "      <th>sand</th>\n",
       "      <th>452.6427748</th>\n",
       "      <th>455.4750562</th>\n",
       "      <th>458.3073937</th>\n",
       "      <th>461.1397875</th>\n",
       "      <th>...</th>\n",
       "      <th>668.0564392</th>\n",
       "      <th>670.8929947</th>\n",
       "      <th>673.7296065</th>\n",
       "      <th>676.5662746</th>\n",
       "      <th>679.4029988</th>\n",
       "      <th>682.2397794</th>\n",
       "      <th>685.0766161</th>\n",
       "      <th>687.9135091</th>\n",
       "      <th>r2</th>\n",
       "      <th>spectral_angle</th>\n",
       "    </tr>\n",
       "  </thead>\n",
       "  <tbody>\n",
       "    <tr>\n",
       "      <th>0</th>\n",
       "      <td>0.103844</td>\n",
       "      <td>-1.573863</td>\n",
       "      <td>0.128845</td>\n",
       "      <td>0.037938</td>\n",
       "      <td>1.305437</td>\n",
       "      <td>0.193129</td>\n",
       "      <td>0.055194</td>\n",
       "      <td>0.055531</td>\n",
       "      <td>0.055775</td>\n",
       "      <td>0.056140</td>\n",
       "      <td>...</td>\n",
       "      <td>0.076826</td>\n",
       "      <td>0.073100</td>\n",
       "      <td>0.071631</td>\n",
       "      <td>0.072263</td>\n",
       "      <td>0.075331</td>\n",
       "      <td>0.081973</td>\n",
       "      <td>0.094011</td>\n",
       "      <td>0.113266</td>\n",
       "      <td>0.996593</td>\n",
       "      <td>0.015824</td>\n",
       "    </tr>\n",
       "    <tr>\n",
       "      <th>1</th>\n",
       "      <td>0.318528</td>\n",
       "      <td>-5.943900</td>\n",
       "      <td>0.084710</td>\n",
       "      <td>0.103676</td>\n",
       "      <td>1.238779</td>\n",
       "      <td>0.122279</td>\n",
       "      <td>0.056299</td>\n",
       "      <td>0.056572</td>\n",
       "      <td>0.056748</td>\n",
       "      <td>0.057044</td>\n",
       "      <td>...</td>\n",
       "      <td>0.076952</td>\n",
       "      <td>0.073117</td>\n",
       "      <td>0.071585</td>\n",
       "      <td>0.072202</td>\n",
       "      <td>0.075328</td>\n",
       "      <td>0.082145</td>\n",
       "      <td>0.094517</td>\n",
       "      <td>0.114272</td>\n",
       "      <td>0.998175</td>\n",
       "      <td>0.011485</td>\n",
       "    </tr>\n",
       "    <tr>\n",
       "      <th>2</th>\n",
       "      <td>0.222685</td>\n",
       "      <td>0.266850</td>\n",
       "      <td>0.100444</td>\n",
       "      <td>0.016192</td>\n",
       "      <td>1.308169</td>\n",
       "      <td>0.234944</td>\n",
       "      <td>0.055017</td>\n",
       "      <td>0.055393</td>\n",
       "      <td>0.055680</td>\n",
       "      <td>0.056081</td>\n",
       "      <td>...</td>\n",
       "      <td>0.078002</td>\n",
       "      <td>0.074374</td>\n",
       "      <td>0.072963</td>\n",
       "      <td>0.073616</td>\n",
       "      <td>0.076664</td>\n",
       "      <td>0.083217</td>\n",
       "      <td>0.095071</td>\n",
       "      <td>0.114064</td>\n",
       "      <td>0.997646</td>\n",
       "      <td>0.013104</td>\n",
       "    </tr>\n",
       "    <tr>\n",
       "      <th>3</th>\n",
       "      <td>2.395555</td>\n",
       "      <td>-2.855667</td>\n",
       "      <td>0.024589</td>\n",
       "      <td>0.104751</td>\n",
       "      <td>1.263101</td>\n",
       "      <td>0.131441</td>\n",
       "      <td>0.055866</td>\n",
       "      <td>0.056212</td>\n",
       "      <td>0.056466</td>\n",
       "      <td>0.056827</td>\n",
       "      <td>...</td>\n",
       "      <td>0.077559</td>\n",
       "      <td>0.073843</td>\n",
       "      <td>0.072386</td>\n",
       "      <td>0.073043</td>\n",
       "      <td>0.076169</td>\n",
       "      <td>0.082926</td>\n",
       "      <td>0.095181</td>\n",
       "      <td>0.114852</td>\n",
       "      <td>0.999007</td>\n",
       "      <td>0.008473</td>\n",
       "    </tr>\n",
       "    <tr>\n",
       "      <th>4</th>\n",
       "      <td>0.052840</td>\n",
       "      <td>-3.834503</td>\n",
       "      <td>0.109646</td>\n",
       "      <td>0.126943</td>\n",
       "      <td>1.231043</td>\n",
       "      <td>0.158050</td>\n",
       "      <td>0.055429</td>\n",
       "      <td>0.055746</td>\n",
       "      <td>0.055962</td>\n",
       "      <td>0.056293</td>\n",
       "      <td>...</td>\n",
       "      <td>0.077245</td>\n",
       "      <td>0.073445</td>\n",
       "      <td>0.071927</td>\n",
       "      <td>0.072543</td>\n",
       "      <td>0.075640</td>\n",
       "      <td>0.082364</td>\n",
       "      <td>0.094528</td>\n",
       "      <td>0.113917</td>\n",
       "      <td>0.998987</td>\n",
       "      <td>0.008607</td>\n",
       "    </tr>\n",
       "    <tr>\n",
       "      <th>...</th>\n",
       "      <td>...</td>\n",
       "      <td>...</td>\n",
       "      <td>...</td>\n",
       "      <td>...</td>\n",
       "      <td>...</td>\n",
       "      <td>...</td>\n",
       "      <td>...</td>\n",
       "      <td>...</td>\n",
       "      <td>...</td>\n",
       "      <td>...</td>\n",
       "      <td>...</td>\n",
       "      <td>...</td>\n",
       "      <td>...</td>\n",
       "      <td>...</td>\n",
       "      <td>...</td>\n",
       "      <td>...</td>\n",
       "      <td>...</td>\n",
       "      <td>...</td>\n",
       "      <td>...</td>\n",
       "      <td>...</td>\n",
       "      <td>...</td>\n",
       "    </tr>\n",
       "    <tr>\n",
       "      <th>95</th>\n",
       "      <td>0.061627</td>\n",
       "      <td>0.420576</td>\n",
       "      <td>9.330715</td>\n",
       "      <td>0.024079</td>\n",
       "      <td>1.405324</td>\n",
       "      <td>0.107285</td>\n",
       "      <td>0.057798</td>\n",
       "      <td>0.058308</td>\n",
       "      <td>0.058791</td>\n",
       "      <td>0.059378</td>\n",
       "      <td>...</td>\n",
       "      <td>0.010879</td>\n",
       "      <td>0.010623</td>\n",
       "      <td>0.010447</td>\n",
       "      <td>0.010313</td>\n",
       "      <td>0.010178</td>\n",
       "      <td>0.010014</td>\n",
       "      <td>0.009826</td>\n",
       "      <td>0.009621</td>\n",
       "      <td>0.998734</td>\n",
       "      <td>0.016735</td>\n",
       "    </tr>\n",
       "    <tr>\n",
       "      <th>96</th>\n",
       "      <td>0.060842</td>\n",
       "      <td>0.420018</td>\n",
       "      <td>9.208253</td>\n",
       "      <td>0.048840</td>\n",
       "      <td>1.408363</td>\n",
       "      <td>0.095260</td>\n",
       "      <td>0.057359</td>\n",
       "      <td>0.057870</td>\n",
       "      <td>0.058353</td>\n",
       "      <td>0.058940</td>\n",
       "      <td>...</td>\n",
       "      <td>0.010802</td>\n",
       "      <td>0.010543</td>\n",
       "      <td>0.010367</td>\n",
       "      <td>0.010233</td>\n",
       "      <td>0.010101</td>\n",
       "      <td>0.009941</td>\n",
       "      <td>0.009759</td>\n",
       "      <td>0.009563</td>\n",
       "      <td>0.999457</td>\n",
       "      <td>0.010950</td>\n",
       "    </tr>\n",
       "    <tr>\n",
       "      <th>97</th>\n",
       "      <td>0.058881</td>\n",
       "      <td>0.414249</td>\n",
       "      <td>9.103158</td>\n",
       "      <td>-0.058956</td>\n",
       "      <td>1.383996</td>\n",
       "      <td>0.216759</td>\n",
       "      <td>0.057436</td>\n",
       "      <td>0.057947</td>\n",
       "      <td>0.058431</td>\n",
       "      <td>0.059021</td>\n",
       "      <td>...</td>\n",
       "      <td>0.010615</td>\n",
       "      <td>0.010354</td>\n",
       "      <td>0.010178</td>\n",
       "      <td>0.010045</td>\n",
       "      <td>0.009913</td>\n",
       "      <td>0.009755</td>\n",
       "      <td>0.009575</td>\n",
       "      <td>0.009383</td>\n",
       "      <td>0.999776</td>\n",
       "      <td>0.007054</td>\n",
       "    </tr>\n",
       "    <tr>\n",
       "      <th>98</th>\n",
       "      <td>0.060755</td>\n",
       "      <td>0.422151</td>\n",
       "      <td>9.260008</td>\n",
       "      <td>-0.055389</td>\n",
       "      <td>1.468116</td>\n",
       "      <td>0.132830</td>\n",
       "      <td>0.057453</td>\n",
       "      <td>0.057962</td>\n",
       "      <td>0.058446</td>\n",
       "      <td>0.059037</td>\n",
       "      <td>...</td>\n",
       "      <td>0.010777</td>\n",
       "      <td>0.010519</td>\n",
       "      <td>0.010344</td>\n",
       "      <td>0.010211</td>\n",
       "      <td>0.010078</td>\n",
       "      <td>0.009917</td>\n",
       "      <td>0.009735</td>\n",
       "      <td>0.009538</td>\n",
       "      <td>0.999930</td>\n",
       "      <td>0.003928</td>\n",
       "    </tr>\n",
       "    <tr>\n",
       "      <th>99</th>\n",
       "      <td>0.060707</td>\n",
       "      <td>0.417634</td>\n",
       "      <td>9.258259</td>\n",
       "      <td>-0.016157</td>\n",
       "      <td>1.456663</td>\n",
       "      <td>0.102703</td>\n",
       "      <td>0.057468</td>\n",
       "      <td>0.057973</td>\n",
       "      <td>0.058452</td>\n",
       "      <td>0.059036</td>\n",
       "      <td>...</td>\n",
       "      <td>0.010777</td>\n",
       "      <td>0.010519</td>\n",
       "      <td>0.010343</td>\n",
       "      <td>0.010210</td>\n",
       "      <td>0.010078</td>\n",
       "      <td>0.009918</td>\n",
       "      <td>0.009736</td>\n",
       "      <td>0.009539</td>\n",
       "      <td>0.999993</td>\n",
       "      <td>0.001221</td>\n",
       "    </tr>\n",
       "  </tbody>\n",
       "</table>\n",
       "<p>100 rows × 92 columns</p>\n",
       "</div>"
      ],
      "text/plain": [
       "          bb         K         H     algae     coral      sand  452.6427748  \\\n",
       "0   0.103844 -1.573863  0.128845  0.037938  1.305437  0.193129     0.055194   \n",
       "1   0.318528 -5.943900  0.084710  0.103676  1.238779  0.122279     0.056299   \n",
       "2   0.222685  0.266850  0.100444  0.016192  1.308169  0.234944     0.055017   \n",
       "3   2.395555 -2.855667  0.024589  0.104751  1.263101  0.131441     0.055866   \n",
       "4   0.052840 -3.834503  0.109646  0.126943  1.231043  0.158050     0.055429   \n",
       "..       ...       ...       ...       ...       ...       ...          ...   \n",
       "95  0.061627  0.420576  9.330715  0.024079  1.405324  0.107285     0.057798   \n",
       "96  0.060842  0.420018  9.208253  0.048840  1.408363  0.095260     0.057359   \n",
       "97  0.058881  0.414249  9.103158 -0.058956  1.383996  0.216759     0.057436   \n",
       "98  0.060755  0.422151  9.260008 -0.055389  1.468116  0.132830     0.057453   \n",
       "99  0.060707  0.417634  9.258259 -0.016157  1.456663  0.102703     0.057468   \n",
       "\n",
       "    455.4750562  458.3073937  461.1397875  ...  668.0564392  670.8929947  \\\n",
       "0      0.055531     0.055775     0.056140  ...     0.076826     0.073100   \n",
       "1      0.056572     0.056748     0.057044  ...     0.076952     0.073117   \n",
       "2      0.055393     0.055680     0.056081  ...     0.078002     0.074374   \n",
       "3      0.056212     0.056466     0.056827  ...     0.077559     0.073843   \n",
       "4      0.055746     0.055962     0.056293  ...     0.077245     0.073445   \n",
       "..          ...          ...          ...  ...          ...          ...   \n",
       "95     0.058308     0.058791     0.059378  ...     0.010879     0.010623   \n",
       "96     0.057870     0.058353     0.058940  ...     0.010802     0.010543   \n",
       "97     0.057947     0.058431     0.059021  ...     0.010615     0.010354   \n",
       "98     0.057962     0.058446     0.059037  ...     0.010777     0.010519   \n",
       "99     0.057973     0.058452     0.059036  ...     0.010777     0.010519   \n",
       "\n",
       "    673.7296065  676.5662746  679.4029988  682.2397794  685.0766161  \\\n",
       "0      0.071631     0.072263     0.075331     0.081973     0.094011   \n",
       "1      0.071585     0.072202     0.075328     0.082145     0.094517   \n",
       "2      0.072963     0.073616     0.076664     0.083217     0.095071   \n",
       "3      0.072386     0.073043     0.076169     0.082926     0.095181   \n",
       "4      0.071927     0.072543     0.075640     0.082364     0.094528   \n",
       "..          ...          ...          ...          ...          ...   \n",
       "95     0.010447     0.010313     0.010178     0.010014     0.009826   \n",
       "96     0.010367     0.010233     0.010101     0.009941     0.009759   \n",
       "97     0.010178     0.010045     0.009913     0.009755     0.009575   \n",
       "98     0.010344     0.010211     0.010078     0.009917     0.009735   \n",
       "99     0.010343     0.010210     0.010078     0.009918     0.009736   \n",
       "\n",
       "    687.9135091        r2  spectral_angle  \n",
       "0      0.113266  0.996593        0.015824  \n",
       "1      0.114272  0.998175        0.011485  \n",
       "2      0.114064  0.997646        0.013104  \n",
       "3      0.114852  0.999007        0.008473  \n",
       "4      0.113917  0.998987        0.008607  \n",
       "..          ...       ...             ...  \n",
       "95     0.009621  0.998734        0.016735  \n",
       "96     0.009563  0.999457        0.010950  \n",
       "97     0.009383  0.999776        0.007054  \n",
       "98     0.009538  0.999930        0.003928  \n",
       "99     0.009539  0.999993        0.001221  \n",
       "\n",
       "[100 rows x 92 columns]"
      ]
     },
     "execution_count": 30,
     "metadata": {},
     "output_type": "execute_result"
    }
   ],
   "source": [
    "test_fits"
   ]
  },
  {
   "cell_type": "code",
   "execution_count": 33,
   "metadata": {},
   "outputs": [
    {
     "data": {
      "text/plain": [
       "0       1.6\n",
       "1       1.6\n",
       "2       1.6\n",
       "3       1.6\n",
       "4       1.6\n",
       "       ... \n",
       "1933    8.5\n",
       "1934    8.5\n",
       "1935    6.1\n",
       "1936    6.1\n",
       "1937    6.1\n",
       "Name: Depth, Length: 1938, dtype: float64"
      ]
     },
     "execution_count": 33,
     "metadata": {},
     "output_type": "execute_result"
    }
   ],
   "source": [
    "validation_data.Depth"
   ]
  },
  {
   "cell_type": "code",
   "execution_count": 35,
   "metadata": {},
   "outputs": [
    {
     "data": {
      "text/plain": [
       "<matplotlib.legend.Legend at 0x31ac69100>"
      ]
     },
     "execution_count": 35,
     "metadata": {},
     "output_type": "execute_result"
    },
    {
     "data": {
      "image/png": "[encoded data removed]",
      "text/plain": [
       "<Figure size 640x480 with 1 Axes>"
      ]
     },
     "metadata": {},
     "output_type": "display_data"
    }
   ],
   "source": [
    "fits = test_fits\n",
    "validation_data = pd.read_csv(file_ops.DATA_DIR_FP / \"CORAL_validation_data_v2.csv\")\n",
    "\n",
    "\n",
    "fig, ax = plt.subplots()\n",
    "ma = ax.scatter(validation_data.Depth[:len(fits)], fits.H, alpha=0.4, c=fits.r2, edgecolor='k', lw=0.5)\n",
    "ax.plot(ax.get_xlim(),ax.get_xlim(), color='k', label='1:1')\n",
    "\n",
    "# calculate fits\n",
    "p = np.polyfit(validation_data.Depth[:len(fits)], fits.H, 1)\n",
    "pred = np.polyval(p, validation_data.Depth[:len(fits)])\n",
    "r2 = r2_score(validation_data.Depth[:len(fits)], pred)\n",
    "ax.plot(validation_data.Depth[:len(fits)], pred, color='r', ls='--', label=\"best fit\")\n",
    "# formatting\n",
    "ax.set_title(f\"r$^2$: {r2:.5f}\")\n",
    "ax.set_xlabel(\"True depth (m)\")\n",
    "ax.set_ylabel(\"Retrieved depth (m)\")\n",
    "ax.set_ylim(0,40)\n",
    "# fig.colorbar(ma, label=\"r$^2$ value\")\n",
    "ax.legend()\n"
   ]
  },
  {
   "cell_type": "code",
   "execution_count": 37,
   "metadata": {},
   "outputs": [
    {
     "data": {
      "application/vnd.plotly.v1+json": {
       "config": {
        "plotlyServerURL": "https://plot.ly"
       },
       "data": [
        {
         "hovertext": [
          "K: -1.57, bb: 0.10, r<sup>2</sup>: 0.99659, sa: 0.01582, sample: 0",
          "K: -5.94, bb: 0.32, r<sup>2</sup>: 0.99818, sa: 0.01149, sample: 1",
          "K: 0.27, bb: 0.22, r<sup>2</sup>: 0.99765, sa: 0.01310, sample: 2",
          "K: -2.86, bb: 2.40, r<sup>2</sup>: 0.99901, sa: 0.00847, sample: 3",
          "K: -3.83, bb: 0.05, r<sup>2</sup>: 0.99899, sa: 0.00861, sample: 4",
          "K: -2.65, bb: 0.18, r<sup>2</sup>: 0.99920, sa: 0.00763, sample: 5",
          "K: -0.29, bb: 0.78, r<sup>2</sup>: 0.99930, sa: 0.00713, sample: 6",
          "K: -2.25, bb: 0.32, r<sup>2</sup>: 0.99948, sa: 0.00615, sample: 7",
          "K: -2.83, bb: 0.14, r<sup>2</sup>: 0.99959, sa: 0.00549, sample: 8",
          "K: -2.81, bb: 0.16, r<sup>2</sup>: 0.99958, sa: 0.00550, sample: 9",
          "K: 0.09, bb: 0.07, r<sup>2</sup>: 0.99629, sa: 0.01464, sample: 10",
          "K: -0.10, bb: 0.07, r<sup>2</sup>: 0.99706, sa: 0.01311, sample: 11",
          "K: -0.26, bb: 0.05, r<sup>2</sup>: 0.99660, sa: 0.01402, sample: 12",
          "K: -0.19, bb: 0.10, r<sup>2</sup>: 0.99709, sa: 0.01297, sample: 13",
          "K: -0.15, bb: 0.09, r<sup>2</sup>: 0.99820, sa: 0.01009, sample: 14",
          "K: -0.34, bb: 0.06, r<sup>2</sup>: 0.99867, sa: 0.00878, sample: 15",
          "K: -0.37, bb: 0.05, r<sup>2</sup>: 0.99891, sa: 0.00790, sample: 16",
          "K: -0.32, bb: 0.06, r<sup>2</sup>: 0.99915, sa: 0.00700, sample: 17",
          "K: -0.30, bb: 0.07, r<sup>2</sup>: 0.99939, sa: 0.00592, sample: 18",
          "K: -0.27, bb: 0.07, r<sup>2</sup>: 0.99950, sa: 0.00536, sample: 19",
          "K: 0.22, bb: 0.07, r<sup>2</sup>: 0.99432, sa: 0.01952, sample: 20",
          "K: -0.02, bb: 0.08, r<sup>2</sup>: 0.99636, sa: 0.01596, sample: 21",
          "K: -0.04, bb: 0.08, r<sup>2</sup>: 0.99563, sa: 0.01713, sample: 22",
          "K: -0.01, bb: 0.06, r<sup>2</sup>: 0.99758, sa: 0.01287, sample: 23",
          "K: 0.13, bb: 0.07, r<sup>2</sup>: 0.99752, sa: 0.01293, sample: 24",
          "K: 0.07, bb: 0.08, r<sup>2</sup>: 0.99856, sa: 0.00990, sample: 25",
          "K: 0.03, bb: 0.07, r<sup>2</sup>: 0.99925, sa: 0.00708, sample: 26",
          "K: -0.09, bb: 0.05, r<sup>2</sup>: 0.99915, sa: 0.00759, sample: 27",
          "K: -0.05, bb: 0.06, r<sup>2</sup>: 0.99950, sa: 0.00579, sample: 28",
          "K: -0.03, bb: 0.07, r<sup>2</sup>: 0.99956, sa: 0.00542, sample: 29",
          "K: 0.17, bb: 0.06, r<sup>2</sup>: 0.99430, sa: 0.02336, sample: 30",
          "K: 0.01, bb: 0.07, r<sup>2</sup>: 0.99512, sa: 0.02164, sample: 31",
          "K: 0.18, bb: 0.08, r<sup>2</sup>: 0.99709, sa: 0.01666, sample: 32",
          "K: -0.07, bb: 0.07, r<sup>2</sup>: 0.99732, sa: 0.01599, sample: 33",
          "K: 0.01, bb: 0.06, r<sup>2</sup>: 0.99811, sa: 0.01341, sample: 34",
          "K: 0.12, bb: 0.08, r<sup>2</sup>: 0.99830, sa: 0.01283, sample: 35",
          "K: 0.05, bb: 0.05, r<sup>2</sup>: 0.99921, sa: 0.00870, sample: 36",
          "K: 0.06, bb: 0.06, r<sup>2</sup>: 0.99938, sa: 0.00770, sample: 37",
          "K: 0.06, bb: 0.06, r<sup>2</sup>: 0.99961, sa: 0.00614, sample: 38",
          "K: 0.06, bb: 0.06, r<sup>2</sup>: 0.99967, sa: 0.00566, sample: 39",
          "K: 0.38, bb: 0.06, r<sup>2</sup>: 0.99489, sa: 0.02562, sample: 40",
          "K: 0.26, bb: 0.06, r<sup>2</sup>: 0.99619, sa: 0.02237, sample: 41",
          "K: 0.26, bb: 0.05, r<sup>2</sup>: 0.99676, sa: 0.02031, sample: 42",
          "K: 0.17, bb: 0.06, r<sup>2</sup>: 0.99789, sa: 0.01654, sample: 43",
          "K: 0.12, bb: 0.04, r<sup>2</sup>: 0.99783, sa: 0.01675, sample: 44",
          "K: 0.18, bb: 0.05, r<sup>2</sup>: 0.99857, sa: 0.01371, sample: 45",
          "K: 0.08, bb: 0.04, r<sup>2</sup>: 0.99913, sa: 0.01068, sample: 46",
          "K: 0.13, bb: 0.04, r<sup>2</sup>: 0.99960, sa: 0.00719, sample: 47",
          "K: 0.10, bb: 0.04, r<sup>2</sup>: 0.99974, sa: 0.00580, sample: 48",
          "K: 0.10, bb: 0.04, r<sup>2</sup>: 0.99977, sa: 0.00548, sample: 49",
          "K: 0.20, bb: 0.05, r<sup>2</sup>: 0.99587, sa: 0.02611, sample: 50",
          "K: 0.02, bb: 0.02, r<sup>2</sup>: 0.99709, sa: 0.02188, sample: 51",
          "K: 0.20, bb: 0.02, r<sup>2</sup>: 0.99726, sa: 0.02122, sample: 52",
          "K: 0.18, bb: 0.03, r<sup>2</sup>: 0.99792, sa: 0.01845, sample: 53",
          "K: 0.16, bb: 0.04, r<sup>2</sup>: 0.99855, sa: 0.01539, sample: 54",
          "K: 0.14, bb: 0.05, r<sup>2</sup>: 0.99933, sa: 0.01036, sample: 55",
          "K: 0.19, bb: 0.04, r<sup>2</sup>: 0.99951, sa: 0.00892, sample: 56",
          "K: 0.15, bb: 0.03, r<sup>2</sup>: 0.99972, sa: 0.00676, sample: 57",
          "K: 0.17, bb: 0.04, r<sup>2</sup>: 0.99986, sa: 0.00483, sample: 58",
          "K: 0.17, bb: 0.03, r<sup>2</sup>: 0.99991, sa: 0.00385, sample: 59",
          "K: 0.26, bb: 0.04, r<sup>2</sup>: 0.99658, sa: 0.02577, sample: 60",
          "K: 0.33, bb: 0.03, r<sup>2</sup>: 0.99614, sa: 0.02702, sample: 61",
          "K: 0.26, bb: 0.05, r<sup>2</sup>: 0.99774, sa: 0.02062, sample: 62",
          "K: 0.19, bb: 0.03, r<sup>2</sup>: 0.99875, sa: 0.01549, sample: 63",
          "K: 0.19, bb: 0.05, r<sup>2</sup>: 0.99853, sa: 0.01656, sample: 64",
          "K: 0.23, bb: 0.03, r<sup>2</sup>: 0.99923, sa: 0.01211, sample: 65",
          "K: 0.30, bb: 0.04, r<sup>2</sup>: 0.99946, sa: 0.01012, sample: 66",
          "K: 0.24, bb: 0.04, r<sup>2</sup>: 0.99973, sa: 0.00708, sample: 67",
          "K: 0.25, bb: 0.04, r<sup>2</sup>: 0.99991, sa: 0.00421, sample: 68",
          "K: 0.25, bb: 0.04, r<sup>2</sup>: 0.99998, sa: 0.00216, sample: 69",
          "K: 0.25, bb: 0.04, r<sup>2</sup>: 0.99552, sa: 0.03051, sample: 70",
          "K: 0.11, bb: 0.03, r<sup>2</sup>: 0.99577, sa: 0.02934, sample: 71",
          "K: 0.40, bb: 0.06, r<sup>2</sup>: 0.99710, sa: 0.02443, sample: 72",
          "K: 0.37, bb: 0.05, r<sup>2</sup>: 0.99833, sa: 0.01850, sample: 73",
          "K: 0.26, bb: 0.05, r<sup>2</sup>: 0.99843, sa: 0.01798, sample: 74",
          "K: 0.26, bb: 0.04, r<sup>2</sup>: 0.99903, sa: 0.01423, sample: 75",
          "K: 0.31, bb: 0.05, r<sup>2</sup>: 0.99951, sa: 0.01007, sample: 76",
          "K: 0.31, bb: 0.05, r<sup>2</sup>: 0.99980, sa: 0.00641, sample: 77",
          "K: 0.33, bb: 0.05, r<sup>2</sup>: 0.99995, sa: 0.00326, sample: 78",
          "K: 0.32, bb: 0.05, r<sup>2</sup>: 0.99999, sa: 0.00146, sample: 79",
          "K: 0.32, bb: 0.06, r<sup>2</sup>: 0.99545, sa: 0.03152, sample: 80",
          "K: 0.51, bb: 0.06, r<sup>2</sup>: 0.99648, sa: 0.02762, sample: 81",
          "K: 0.55, bb: 0.06, r<sup>2</sup>: 0.99784, sa: 0.02147, sample: 82",
          "K: 0.39, bb: 0.06, r<sup>2</sup>: 0.99857, sa: 0.01773, sample: 83",
          "K: 0.34, bb: 0.05, r<sup>2</sup>: 0.99873, sa: 0.01671, sample: 84",
          "K: 0.38, bb: 0.06, r<sup>2</sup>: 0.99896, sa: 0.01495, sample: 85",
          "K: 0.39, bb: 0.06, r<sup>2</sup>: 0.99958, sa: 0.00951, sample: 86",
          "K: 0.36, bb: 0.05, r<sup>2</sup>: 0.99983, sa: 0.00604, sample: 87",
          "K: 0.37, bb: 0.06, r<sup>2</sup>: 0.99994, sa: 0.00369, sample: 88",
          "K: 0.37, bb: 0.06, r<sup>2</sup>: 0.99999, sa: 0.00126, sample: 89",
          "K: 0.39, bb: 0.06, r<sup>2</sup>: 0.99391, sa: 0.03670, sample: 90",
          "K: 0.28, bb: 0.05, r<sup>2</sup>: 0.99529, sa: 0.03235, sample: 91",
          "K: 0.34, bb: 0.05, r<sup>2</sup>: 0.99593, sa: 0.03018, sample: 92",
          "K: 0.43, bb: 0.06, r<sup>2</sup>: 0.99796, sa: 0.02131, sample: 93",
          "K: 0.44, bb: 0.06, r<sup>2</sup>: 0.99841, sa: 0.01889, sample: 94",
          "K: 0.42, bb: 0.06, r<sup>2</sup>: 0.99873, sa: 0.01673, sample: 95",
          "K: 0.42, bb: 0.06, r<sup>2</sup>: 0.99946, sa: 0.01095, sample: 96",
          "K: 0.41, bb: 0.06, r<sup>2</sup>: 0.99978, sa: 0.00705, sample: 97",
          "K: 0.42, bb: 0.06, r<sup>2</sup>: 0.99993, sa: 0.00393, sample: 98",
          "K: 0.42, bb: 0.06, r<sup>2</sup>: 0.99999, sa: 0.00122, sample: 99"
         ],
         "marker": {
          "color": [
           0.9965928482175366,
           0.998175165566358,
           0.997645988578214,
           0.9990066300248,
           0.9989866534274284,
           0.9992029340660016,
           0.9993013206130784,
           0.9994788176226032,
           0.9995858318423936,
           0.9995844728836288,
           0.9962864852205312,
           0.997064774129497,
           0.996598330437322,
           0.9970912152937716,
           0.998200331864474,
           0.9986666260593464,
           0.9989104656102988,
           0.9991511608724558,
           0.9993879313950575,
           0.9994975878700016,
           0.9943190480204556,
           0.9963602682852004,
           0.995633877081134,
           0.9975784214667665,
           0.9975155296131872,
           0.9985570184153764,
           0.9992477500369172,
           0.9991454270829512,
           0.999502391100798,
           0.9995634825799108,
           0.9943021094152912,
           0.9951175350699164,
           0.9970922757194506,
           0.9973172063771676,
           0.998106129614562,
           0.9982992772687737,
           0.9992055943502124,
           0.999382974459312,
           0.9996062721549618,
           0.9996651768848448,
           0.9948931996001088,
           0.9961916346455204,
           0.9967616377380816,
           0.997894074973564,
           0.9978268550208422,
           0.9985689978899658,
           0.999128525060576,
           0.999601638645668,
           0.9997425500043672,
           0.9997698865047846,
           0.9958660403287634,
           0.9970946414493652,
           0.9972646980104586,
           0.9979198204873624,
           0.9985497438192538,
           0.9993335382972742,
           0.9995098436840344,
           0.9997201908603076,
           0.9998570633730256,
           0.9999092164803584,
           0.9965846155711472,
           0.9961382093686938,
           0.9977418689161642,
           0.9987471840411882,
           0.9985289520926216,
           0.9992291350387936,
           0.9994573052276906,
           0.9997327394442324,
           0.9999058625438414,
           0.9999751731506776,
           0.9955152050415228,
           0.9957698695150532,
           0.9971042204345464,
           0.9983349513447224,
           0.9984348494811568,
           0.9990264039521004,
           0.9995080728454108,
           0.999800951344808,
           0.9999483616972504,
           0.9999896983726102,
           0.9954486236208824,
           0.9964764649185242,
           0.9978385839077996,
           0.9985696104451518,
           0.9987271532651718,
           0.9989642898416224,
           0.9995829332879672,
           0.9998313533060368,
           0.999937063154672,
           0.999992640385314,
           0.9939143580787964,
           0.9952947227905132,
           0.9959270340820496,
           0.9979598394146664,
           0.9984063264410092,
           0.9987338744354904,
           0.9994573271361146,
           0.999776061160592,
           0.9999302377240816,
           0.9999932620336583
          ],
          "colorbar": {
           "title": {
            "text": "whole-spectrum r<sup>2</sup> value"
           }
          },
          "colorscale": [
           [
            0,
            "#440154"
           ],
           [
            0.1111111111111111,
            "#482878"
           ],
           [
            0.2222222222222222,
            "#3e4989"
           ],
           [
            0.3333333333333333,
            "#31688e"
           ],
           [
            0.4444444444444444,
            "#26828e"
           ],
           [
            0.5555555555555556,
            "#1f9e89"
           ],
           [
            0.6666666666666666,
            "#35b779"
           ],
           [
            0.7777777777777778,
            "#6ece58"
           ],
           [
            0.8888888888888888,
            "#b5de2b"
           ],
           [
            1,
            "#fde725"
           ]
          ],
          "line": {
           "color": "#000000",
           "width": 0.5
          },
          "opacity": 0.5,
          "showscale": true,
          "size": 10
         },
         "mode": "markers",
         "name": "Data points",
         "type": "scatter",
         "x": [
          1.6,
          1.6,
          1.6,
          1.6,
          1.6,
          1.6,
          1.6,
          1.6,
          1.6,
          1.2,
          1.2,
          1.2,
          1.2,
          1.2,
          1.2,
          1.2,
          1.2,
          1.2,
          2.8,
          2.8,
          2.8,
          2.8,
          2.8,
          2.8,
          2.8,
          2.8,
          1.5,
          1.5,
          1.5,
          1.5,
          1.5,
          1.5,
          1.5,
          1.5,
          1.5,
          1.8,
          1.8,
          1.8,
          1.8,
          1.8,
          1.8,
          1.8,
          1.8,
          1.8,
          1.8,
          1.8,
          1.8,
          1.8,
          1.8,
          1.8,
          1.8,
          1.8,
          1.8,
          1.8,
          1.8,
          1.8,
          1.8,
          1.8,
          1.8,
          1.8,
          1.8,
          1.8,
          1.8,
          1.8,
          1.8,
          1.8,
          1.8,
          1.8,
          1.8,
          1.8,
          1.8,
          1.8,
          1.8,
          1.8,
          1.8,
          1.8,
          1.8,
          1.8,
          2.7,
          2.7,
          2.7,
          2.7,
          2.7,
          2.7,
          2.7,
          2.7,
          8.5,
          8.5,
          8.5,
          8.5,
          8.5,
          8.5,
          8.5,
          8.5,
          8.5,
          7,
          7,
          7,
          7,
          7
         ],
         "y": [
          0.1288449495417606,
          0.0847098580219723,
          0.1004440513524893,
          0.024589355683412,
          0.1096463632129555,
          0.09557835128521,
          0.053580490798341,
          0.0838862475454072,
          0.1044563153742584,
          0.1003194169748466,
          1.0236035614745038,
          1.0233896278054244,
          1.0375517617567196,
          0.9918157555292128,
          0.9774147927801946,
          1.0175933270417856,
          1.0333392318982633,
          1.0295875798573677,
          1.0153441301447683,
          1.0171555263346592,
          2.041948753149935,
          2.0339548404771857,
          1.9675021107792328,
          2.0205764432017523,
          2.0018578601068455,
          2.0102744304930313,
          2.0009910613277797,
          2.025132830853136,
          2.0106179457000164,
          2.0100132906062544,
          3.0912827882405134,
          3.094852821594711,
          3.0714048586859537,
          3.0888435677658546,
          3.0659628837782487,
          3.09891786830339,
          3.080529798140463,
          3.0797804096814505,
          3.0826508726017092,
          3.081180870789947,
          4.13569725968417,
          4.218265568710205,
          4.084173004895549,
          4.176100377859646,
          4.034613506149955,
          4.177379474682766,
          4.114659298498588,
          4.112137993311698,
          4.116060916146736,
          4.124251454560427,
          5.330057960587136,
          4.986655086693377,
          4.861617752772253,
          5.033326014194081,
          5.074707842408815,
          5.1809569020376,
          5.060144392577834,
          5.031258418619438,
          5.075021132730831,
          5.025991958092968,
          6.258196263637302,
          5.814483883755795,
          6.150932632375907,
          5.908815607112415,
          6.252770710151671,
          5.89185515840583,
          6.014914994318668,
          5.871385227328581,
          6.018052639867744,
          5.993784895798935,
          6.440887469485509,
          6.19898686908502,
          7.374278331818027,
          7.200848061278575,
          6.932321988766209,
          6.993037767512306,
          7.008379649676642,
          6.958804428359947,
          7.0603256013640925,
          7.0703139107333,
          8.665919681949541,
          8.57740754111057,
          8.126232014325394,
          8.56675723963172,
          7.820058463825204,
          8.068023037533848,
          8.262554009277764,
          8.041704004710068,
          8.176241397910333,
          8.190110826788832,
          9.416352705359335,
          7.79654526491551,
          8.099841904164641,
          9.494527157060151,
          8.79372715031624,
          9.330714879551824,
          9.208253244876593,
          9.10315816125284,
          9.260008397451662,
          9.258259221095315
         ]
        },
        {
         "line": {
          "color": "red",
          "dash": "dash"
         },
         "mode": "lines",
         "name": "Best fit: 0.83x + 2.30",
         "type": "scatter",
         "x": [
          1.6,
          1.6,
          1.6,
          1.6,
          1.6,
          1.6,
          1.6,
          1.6,
          1.6,
          1.2,
          1.2,
          1.2,
          1.2,
          1.2,
          1.2,
          1.2,
          1.2,
          1.2,
          2.8,
          2.8,
          2.8,
          2.8,
          2.8,
          2.8,
          2.8,
          2.8,
          1.5,
          1.5,
          1.5,
          1.5,
          1.5,
          1.5,
          1.5,
          1.5,
          1.5,
          1.8,
          1.8,
          1.8,
          1.8,
          1.8,
          1.8,
          1.8,
          1.8,
          1.8,
          1.8,
          1.8,
          1.8,
          1.8,
          1.8,
          1.8,
          1.8,
          1.8,
          1.8,
          1.8,
          1.8,
          1.8,
          1.8,
          1.8,
          1.8,
          1.8,
          1.8,
          1.8,
          1.8,
          1.8,
          1.8,
          1.8,
          1.8,
          1.8,
          1.8,
          1.8,
          1.8,
          1.8,
          1.8,
          1.8,
          1.8,
          1.8,
          1.8,
          1.8,
          2.7,
          2.7,
          2.7,
          2.7,
          2.7,
          2.7,
          2.7,
          2.7,
          8.5,
          8.5,
          8.5,
          8.5,
          8.5,
          8.5,
          8.5,
          8.5,
          8.5,
          7,
          7,
          7,
          7,
          7
         ],
         "y": [
          3.6308970607871163,
          3.6308970607871163,
          3.6308970607871163,
          3.6308970607871163,
          3.6308970607871163,
          3.6308970607871163,
          3.6308970607871163,
          3.6308970607871163,
          3.6308970607871163,
          3.299197169636101,
          3.299197169636101,
          3.299197169636101,
          3.299197169636101,
          3.299197169636101,
          3.299197169636101,
          3.299197169636101,
          3.299197169636101,
          3.299197169636101,
          4.625996734240162,
          4.625996734240162,
          4.625996734240162,
          4.625996734240162,
          4.625996734240162,
          4.625996734240162,
          4.625996734240162,
          4.625996734240162,
          3.5479720879993626,
          3.5479720879993626,
          3.5479720879993626,
          3.5479720879993626,
          3.5479720879993626,
          3.5479720879993626,
          3.5479720879993626,
          3.5479720879993626,
          3.5479720879993626,
          3.796747006362624,
          3.796747006362624,
          3.796747006362624,
          3.796747006362624,
          3.796747006362624,
          3.796747006362624,
          3.796747006362624,
          3.796747006362624,
          3.796747006362624,
          3.796747006362624,
          3.796747006362624,
          3.796747006362624,
          3.796747006362624,
          3.796747006362624,
          3.796747006362624,
          3.796747006362624,
          3.796747006362624,
          3.796747006362624,
          3.796747006362624,
          3.796747006362624,
          3.796747006362624,
          3.796747006362624,
          3.796747006362624,
          3.796747006362624,
          3.796747006362624,
          3.796747006362624,
          3.796747006362624,
          3.796747006362624,
          3.796747006362624,
          3.796747006362624,
          3.796747006362624,
          3.796747006362624,
          3.796747006362624,
          3.796747006362624,
          3.796747006362624,
          3.796747006362624,
          3.796747006362624,
          3.796747006362624,
          3.796747006362624,
          3.796747006362624,
          3.796747006362624,
          3.796747006362624,
          3.796747006362624,
          4.543071761452408,
          4.543071761452408,
          4.543071761452408,
          4.543071761452408,
          4.543071761452408,
          4.543071761452408,
          4.543071761452408,
          4.543071761452408,
          9.352720183142129,
          9.352720183142129,
          9.352720183142129,
          9.352720183142129,
          9.352720183142129,
          9.352720183142129,
          9.352720183142129,
          9.352720183142129,
          9.352720183142129,
          8.10884559132582,
          8.10884559132582,
          8.10884559132582,
          8.10884559132582,
          8.10884559132582
         ]
        },
        {
         "line": {
          "color": "black"
         },
         "mode": "lines",
         "name": "1:1",
         "type": "scatter",
         "x": [
          1.2,
          8.5
         ],
         "y": [
          1.2,
          8.5
         ]
        }
       ],
       "layout": {
        "legend": {
         "x": 0.02,
         "y": 0.98
        },
        "template": {
         "data": {
          "bar": [
           {
            "error_x": {
             "color": "#2a3f5f"
            },
            "error_y": {
             "color": "#2a3f5f"
            },
            "marker": {
             "line": {
              "color": "#E5ECF6",
              "width": 0.5
             },
             "pattern": {
              "fillmode": "overlay",
              "size": 10,
              "solidity": 0.2
             }
            },
            "type": "bar"
           }
          ],
          "barpolar": [
           {
            "marker": {
             "line": {
              "color": "#E5ECF6",
              "width": 0.5
             },
             "pattern": {
              "fillmode": "overlay",
              "size": 10,
              "solidity": 0.2
             }
            },
            "type": "barpolar"
           }
          ],
          "carpet": [
           {
            "aaxis": {
             "endlinecolor": "#2a3f5f",
             "gridcolor": "white",
             "linecolor": "white",
             "minorgridcolor": "white",
             "startlinecolor": "#2a3f5f"
            },
            "baxis": {
             "endlinecolor": "#2a3f5f",
             "gridcolor": "white",
             "linecolor": "white",
             "minorgridcolor": "white",
             "startlinecolor": "#2a3f5f"
            },
            "type": "carpet"
           }
          ],
          "choropleth": [
           {
            "colorbar": {
             "outlinewidth": 0,
             "ticks": ""
            },
            "type": "choropleth"
           }
          ],
          "contour": [
           {
            "colorbar": {
             "outlinewidth": 0,
             "ticks": ""
            },
            "colorscale": [
             [
              0,
              "#0d0887"
             ],
             [
              0.1111111111111111,
              "#46039f"
             ],
             [
              0.2222222222222222,
              "#7201a8"
             ],
             [
              0.3333333333333333,
              "#9c179e"
             ],
             [
              0.4444444444444444,
              "#bd3786"
             ],
             [
              0.5555555555555556,
              "#d8576b"
             ],
             [
              0.6666666666666666,
              "#ed7953"
             ],
             [
              0.7777777777777778,
              "#fb9f3a"
             ],
             [
              0.8888888888888888,
              "#fdca26"
             ],
             [
              1,
              "#f0f921"
             ]
            ],
            "type": "contour"
           }
          ],
          "contourcarpet": [
           {
            "colorbar": {
             "outlinewidth": 0,
             "ticks": ""
            },
            "type": "contourcarpet"
           }
          ],
          "heatmap": [
           {
            "colorbar": {
             "outlinewidth": 0,
             "ticks": ""
            },
            "colorscale": [
             [
              0,
              "#0d0887"
             ],
             [
              0.1111111111111111,
              "#46039f"
             ],
             [
              0.2222222222222222,
              "#7201a8"
             ],
             [
              0.3333333333333333,
              "#9c179e"
             ],
             [
              0.4444444444444444,
              "#bd3786"
             ],
             [
              0.5555555555555556,
              "#d8576b"
             ],
             [
              0.6666666666666666,
              "#ed7953"
             ],
             [
              0.7777777777777778,
              "#fb9f3a"
             ],
             [
              0.8888888888888888,
              "#fdca26"
             ],
             [
              1,
              "#f0f921"
             ]
            ],
            "type": "heatmap"
           }
          ],
          "heatmapgl": [
           {
            "colorbar": {
             "outlinewidth": 0,
             "ticks": ""
            },
            "colorscale": [
             [
              0,
              "#0d0887"
             ],
             [
              0.1111111111111111,
              "#46039f"
             ],
             [
              0.2222222222222222,
              "#7201a8"
             ],
             [
              0.3333333333333333,
              "#9c179e"
             ],
             [
              0.4444444444444444,
              "#bd3786"
             ],
             [
              0.5555555555555556,
              "#d8576b"
             ],
             [
              0.6666666666666666,
              "#ed7953"
             ],
             [
              0.7777777777777778,
              "#fb9f3a"
             ],
             [
              0.8888888888888888,
              "#fdca26"
             ],
             [
              1,
              "#f0f921"
             ]
            ],
            "type": "heatmapgl"
           }
          ],
          "histogram": [
           {
            "marker": {
             "pattern": {
              "fillmode": "overlay",
              "size": 10,
              "solidity": 0.2
             }
            },
            "type": "histogram"
           }
          ],
          "histogram2d": [
           {
            "colorbar": {
             "outlinewidth": 0,
             "ticks": ""
            },
            "colorscale": [
             [
              0,
              "#0d0887"
             ],
             [
              0.1111111111111111,
              "#46039f"
             ],
             [
              0.2222222222222222,
              "#7201a8"
             ],
             [
              0.3333333333333333,
              "#9c179e"
             ],
             [
              0.4444444444444444,
              "#bd3786"
             ],
             [
              0.5555555555555556,
              "#d8576b"
             ],
             [
              0.6666666666666666,
              "#ed7953"
             ],
             [
              0.7777777777777778,
              "#fb9f3a"
             ],
             [
              0.8888888888888888,
              "#fdca26"
             ],
             [
              1,
              "#f0f921"
             ]
            ],
            "type": "histogram2d"
           }
          ],
          "histogram2dcontour": [
           {
            "colorbar": {
             "outlinewidth": 0,
             "ticks": ""
            },
            "colorscale": [
             [
              0,
              "#0d0887"
             ],
             [
              0.1111111111111111,
              "#46039f"
             ],
             [
              0.2222222222222222,
              "#7201a8"
             ],
             [
              0.3333333333333333,
              "#9c179e"
             ],
             [
              0.4444444444444444,
              "#bd3786"
             ],
             [
              0.5555555555555556,
              "#d8576b"
             ],
             [
              0.6666666666666666,
              "#ed7953"
             ],
             [
              0.7777777777777778,
              "#fb9f3a"
             ],
             [
              0.8888888888888888,
              "#fdca26"
             ],
             [
              1,
              "#f0f921"
             ]
            ],
            "type": "histogram2dcontour"
           }
          ],
          "mesh3d": [
           {
            "colorbar": {
             "outlinewidth": 0,
             "ticks": ""
            },
            "type": "mesh3d"
           }
          ],
          "parcoords": [
           {
            "line": {
             "colorbar": {
              "outlinewidth": 0,
              "ticks": ""
             }
            },
            "type": "parcoords"
           }
          ],
          "pie": [
           {
            "automargin": true,
            "type": "pie"
           }
          ],
          "scatter": [
           {
            "fillpattern": {
             "fillmode": "overlay",
             "size": 10,
             "solidity": 0.2
            },
            "type": "scatter"
           }
          ],
          "scatter3d": [
           {
            "line": {
             "colorbar": {
              "outlinewidth": 0,
              "ticks": ""
             }
            },
            "marker": {
             "colorbar": {
              "outlinewidth": 0,
              "ticks": ""
             }
            },
            "type": "scatter3d"
           }
          ],
          "scattercarpet": [
           {
            "marker": {
             "colorbar": {
              "outlinewidth": 0,
              "ticks": ""
             }
            },
            "type": "scattercarpet"
           }
          ],
          "scattergeo": [
           {
            "marker": {
             "colorbar": {
              "outlinewidth": 0,
              "ticks": ""
             }
            },
            "type": "scattergeo"
           }
          ],
          "scattergl": [
           {
            "marker": {
             "colorbar": {
              "outlinewidth": 0,
              "ticks": ""
             }
            },
            "type": "scattergl"
           }
          ],
          "scattermapbox": [
           {
            "marker": {
             "colorbar": {
              "outlinewidth": 0,
              "ticks": ""
             }
            },
            "type": "scattermapbox"
           }
          ],
          "scatterpolar": [
           {
            "marker": {
             "colorbar": {
              "outlinewidth": 0,
              "ticks": ""
             }
            },
            "type": "scatterpolar"
           }
          ],
          "scatterpolargl": [
           {
            "marker": {
             "colorbar": {
              "outlinewidth": 0,
              "ticks": ""
             }
            },
            "type": "scatterpolargl"
           }
          ],
          "scatterternary": [
           {
            "marker": {
             "colorbar": {
              "outlinewidth": 0,
              "ticks": ""
             }
            },
            "type": "scatterternary"
           }
          ],
          "surface": [
           {
            "colorbar": {
             "outlinewidth": 0,
             "ticks": ""
            },
            "colorscale": [
             [
              0,
              "#0d0887"
             ],
             [
              0.1111111111111111,
              "#46039f"
             ],
             [
              0.2222222222222222,
              "#7201a8"
             ],
             [
              0.3333333333333333,
              "#9c179e"
             ],
             [
              0.4444444444444444,
              "#bd3786"
             ],
             [
              0.5555555555555556,
              "#d8576b"
             ],
             [
              0.6666666666666666,
              "#ed7953"
             ],
             [
              0.7777777777777778,
              "#fb9f3a"
             ],
             [
              0.8888888888888888,
              "#fdca26"
             ],
             [
              1,
              "#f0f921"
             ]
            ],
            "type": "surface"
           }
          ],
          "table": [
           {
            "cells": {
             "fill": {
              "color": "#EBF0F8"
             },
             "line": {
              "color": "white"
             }
            },
            "header": {
             "fill": {
              "color": "#C8D4E3"
             },
             "line": {
              "color": "white"
             }
            },
            "type": "table"
           }
          ]
         },
         "layout": {
          "annotationdefaults": {
           "arrowcolor": "#2a3f5f",
           "arrowhead": 0,
           "arrowwidth": 1
          },
          "autotypenumbers": "strict",
          "coloraxis": {
           "colorbar": {
            "outlinewidth": 0,
            "ticks": ""
           }
          },
          "colorscale": {
           "diverging": [
            [
             0,
             "#8e0152"
            ],
            [
             0.1,
             "#c51b7d"
            ],
            [
             0.2,
             "#de77ae"
            ],
            [
             0.3,
             "#f1b6da"
            ],
            [
             0.4,
             "#fde0ef"
            ],
            [
             0.5,
             "#f7f7f7"
            ],
            [
             0.6,
             "#e6f5d0"
            ],
            [
             0.7,
             "#b8e186"
            ],
            [
             0.8,
             "#7fbc41"
            ],
            [
             0.9,
             "#4d9221"
            ],
            [
             1,
             "#276419"
            ]
           ],
           "sequential": [
            [
             0,
             "#0d0887"
            ],
            [
             0.1111111111111111,
             "#46039f"
            ],
            [
             0.2222222222222222,
             "#7201a8"
            ],
            [
             0.3333333333333333,
             "#9c179e"
            ],
            [
             0.4444444444444444,
             "#bd3786"
            ],
            [
             0.5555555555555556,
             "#d8576b"
            ],
            [
             0.6666666666666666,
             "#ed7953"
            ],
            [
             0.7777777777777778,
             "#fb9f3a"
            ],
            [
             0.8888888888888888,
             "#fdca26"
            ],
            [
             1,
             "#f0f921"
            ]
           ],
           "sequentialminus": [
            [
             0,
             "#0d0887"
            ],
            [
             0.1111111111111111,
             "#46039f"
            ],
            [
             0.2222222222222222,
             "#7201a8"
            ],
            [
             0.3333333333333333,
             "#9c179e"
            ],
            [
             0.4444444444444444,
             "#bd3786"
            ],
            [
             0.5555555555555556,
             "#d8576b"
            ],
            [
             0.6666666666666666,
             "#ed7953"
            ],
            [
             0.7777777777777778,
             "#fb9f3a"
            ],
            [
             0.8888888888888888,
             "#fdca26"
            ],
            [
             1,
             "#f0f921"
            ]
           ]
          },
          "colorway": [
           "#636efa",
           "#EF553B",
           "#00cc96",
           "#ab63fa",
           "#FFA15A",
           "#19d3f3",
           "#FF6692",
           "#B6E880",
           "#FF97FF",
           "#FECB52"
          ],
          "font": {
           "color": "#2a3f5f"
          },
          "geo": {
           "bgcolor": "white",
           "lakecolor": "white",
           "landcolor": "#E5ECF6",
           "showlakes": true,
           "showland": true,
           "subunitcolor": "white"
          },
          "hoverlabel": {
           "align": "left"
          },
          "hovermode": "closest",
          "mapbox": {
           "style": "light"
          },
          "paper_bgcolor": "white",
          "plot_bgcolor": "#E5ECF6",
          "polar": {
           "angularaxis": {
            "gridcolor": "white",
            "linecolor": "white",
            "ticks": ""
           },
           "bgcolor": "#E5ECF6",
           "radialaxis": {
            "gridcolor": "white",
            "linecolor": "white",
            "ticks": ""
           }
          },
          "scene": {
           "xaxis": {
            "backgroundcolor": "#E5ECF6",
            "gridcolor": "white",
            "gridwidth": 2,
            "linecolor": "white",
            "showbackground": true,
            "ticks": "",
            "zerolinecolor": "white"
           },
           "yaxis": {
            "backgroundcolor": "#E5ECF6",
            "gridcolor": "white",
            "gridwidth": 2,
            "linecolor": "white",
            "showbackground": true,
            "ticks": "",
            "zerolinecolor": "white"
           },
           "zaxis": {
            "backgroundcolor": "#E5ECF6",
            "gridcolor": "white",
            "gridwidth": 2,
            "linecolor": "white",
            "showbackground": true,
            "ticks": "",
            "zerolinecolor": "white"
           }
          },
          "shapedefaults": {
           "line": {
            "color": "#2a3f5f"
           }
          },
          "ternary": {
           "aaxis": {
            "gridcolor": "white",
            "linecolor": "white",
            "ticks": ""
           },
           "baxis": {
            "gridcolor": "white",
            "linecolor": "white",
            "ticks": ""
           },
           "bgcolor": "#E5ECF6",
           "caxis": {
            "gridcolor": "white",
            "linecolor": "white",
            "ticks": ""
           }
          },
          "title": {
           "x": 0.05
          },
          "xaxis": {
           "automargin": true,
           "gridcolor": "white",
           "linecolor": "white",
           "ticks": "",
           "title": {
            "standoff": 15
           },
           "zerolinecolor": "white",
           "zerolinewidth": 2
          },
          "yaxis": {
           "automargin": true,
           "gridcolor": "white",
           "linecolor": "white",
           "ticks": "",
           "title": {
            "standoff": 15
           },
           "zerolinecolor": "white",
           "zerolinewidth": 2
          }
         }
        },
        "title": {
         "text": "r<sup>2</sup>: -0.80615"
        },
        "xaxis": {
         "anchor": "y",
         "domain": [
          0,
          1
         ],
         "range": [
          1.2,
          8.5
         ],
         "scaleanchor": "y",
         "scaleratio": 1,
         "title": {
          "text": "True depth (m)"
         }
        },
        "yaxis": {
         "anchor": "x",
         "domain": [
          0,
          1
         ],
         "range": [
          1.2,
          8.5
         ],
         "scaleanchor": "x",
         "scaleratio": 1,
         "title": {
          "text": "Retrieved depth (m)"
         }
        }
       }
      }
     },
     "metadata": {},
     "output_type": "display_data"
    }
   ],
   "source": [
    "# Create a scatter plot of retrieved vs actual depth\n",
    "scatter = go.Scatter(\n",
    "    x=validation_data.Depth[:len(fits)],\n",
    "    y=fits.H,\n",
    "    mode='markers',\n",
    "    marker=dict(\n",
    "        size=10,\n",
    "        color=fits.r2,\n",
    "        colorscale='Viridis',\n",
    "        showscale=True,\n",
    "        colorbar=dict(title=\"whole-spectrum r<sup>2</sup> value\"),\n",
    "        line=dict(width=0.5, color='#000000'),\n",
    "        opacity=0.5,\n",
    "        # assign hover labels the respective values in validation_data\n",
    "      ),\n",
    "        name='Data points',\n",
    "        hovertext=[f\"K: {K:.2f}, bb: {bb:.2f}, r<sup>2</sup>: {r2:.5f}, sa: {sa:.5f}, sample: {i}\" for K, bb, r2, sa, i in zip(fits.K, fits.bb, fits.r2, fits.spectral_angle, fits.index)],\n",
    "    # hoverinfo=\"text\"\n",
    ")\n",
    "\n",
    "p = np.polyfit(validation_data.Depth[:len(fits)], fits.H, 1)\n",
    "pred = np.polyval(p, validation_data.Depth[:len(fits)])\n",
    "# THIS LOOKS WRONG\n",
    "best_fit_line = go.Scatter(\n",
    "    x=validation_data.Depth[:len(fits)],\n",
    "    y=pred,\n",
    "    mode='lines',\n",
    "    line=dict(color='red', dash='dash'),\n",
    "    name=f\"Best fit: {p[0]:.2f}x + {p[1]:.2f}\",\n",
    ")\n",
    "one_to_one_line = go.Scatter(\n",
    "    x=[min(validation_data.Depth[:len(fits)]), max(validation_data.Depth[:len(fits)])],\n",
    "    y=[min(validation_data.Depth[:len(fits)]), max(validation_data.Depth[:len(fits)])],\n",
    "    mode='lines',\n",
    "    line=dict(color='black'),\n",
    "    name='1:1'\n",
    ")\n",
    "\n",
    "plot = True\n",
    "if plot:\n",
    "    fig = make_subplots()\n",
    "    fig.add_trace(scatter)\n",
    "    fig.add_trace(best_fit_line)\n",
    "    fig.add_trace(one_to_one_line)\n",
    "\n",
    "    # Update layout\n",
    "    fig.update_layout(\n",
    "        title=f\"r<sup>2</sup>: {r2_score(validation_data.Depth[:len(fits)], fits.H):.5f}\",\n",
    "        xaxis_title=\"True depth (m)\",\n",
    "        yaxis_title=\"Retrieved depth (m)\",\n",
    "        xaxis=dict(range=[min(validation_data.Depth[:len(fits)]), max(validation_data.Depth[:len(fits)])], scaleanchor='y', scaleratio=1),\n",
    "        yaxis=dict(range=[min(validation_data.Depth[:len(fits)]), max(validation_data.Depth[:len(fits)])], scaleanchor='x', scaleratio=1),\n",
    "        legend=dict(x=0.02, y=0.98),   \n",
    "    )\n",
    "\n",
    "    fig.update_yaxes(\n",
    "        scaleanchor='x',\n",
    "        scaleratio=1,\n",
    "    )\n",
    "\n",
    "    # show the figure\n",
    "    fig.show()"
   ]
  },
  {
   "cell_type": "code",
   "execution_count": 41,
   "metadata": {},
   "outputs": [
    {
     "data": {
      "text/plain": [
       "Index([452.6427748, 455.4750562, 458.3073937, 461.1397875, 463.9722376,\n",
       "       466.8047438, 469.6373064, 472.4699251, 475.3026001, 478.1353314,\n",
       "       480.9681188, 483.8009626, 486.6338625, 489.4668187, 492.2998312,\n",
       "       495.1328998, 497.9660248, 500.7992059, 503.6324433,  506.465737,\n",
       "       509.2990868,  512.132493, 514.9659553, 517.7994739, 520.6330488,\n",
       "       523.4666798, 526.3003672, 529.1341107, 531.9679105, 534.8017666,\n",
       "       537.6356788, 540.4696474, 543.3036721, 546.1377531, 548.9718904,\n",
       "       551.8060838, 554.6403336, 557.4746395, 560.3090017, 563.1434202,\n",
       "       565.9778948, 568.8124258, 571.6470129, 574.4816563,  577.316356,\n",
       "       580.1511118,  582.985924, 585.8207923, 588.6557169, 591.4906978,\n",
       "       594.3257348, 597.1608282, 599.9959777, 602.8311835, 605.6664456,\n",
       "       608.5017638, 611.3371384, 614.1725691, 617.0080561, 619.8435994,\n",
       "       622.6791988, 625.5148546, 628.3505665, 631.1863347, 634.0221592,\n",
       "       636.8580398, 639.6939768, 642.5299699, 645.3660193,  648.202125,\n",
       "       651.0382868,  653.874505, 656.7107793, 659.5471099, 662.3834968,\n",
       "       665.2199398, 668.0564392, 670.8929947, 673.7296065, 676.5662746,\n",
       "       679.4029988, 682.2397794, 685.0766161, 687.9135091],\n",
       "      dtype='float64')"
      ]
     },
     "execution_count": 41,
     "metadata": {},
     "output_type": "execute_result"
    }
   ],
   "source": [
    "fits.iloc[:,6:-2].columns.astype('float')"
   ]
  },
  {
   "cell_type": "code",
   "execution_count": 38,
   "metadata": {},
   "outputs": [
    {
     "ename": "IndexError",
     "evalue": "single positional indexer is out-of-bounds",
     "output_type": "error",
     "traceback": [
      "\u001b[0;31m---------------------------------------------------------------------------\u001b[0m",
      "\u001b[0;31mIndexError\u001b[0m                                Traceback (most recent call last)",
      "Cell \u001b[0;32mIn[38], line 1\u001b[0m\n\u001b[0;32m----> 1\u001b[0m \u001b[43mfits\u001b[49m\u001b[38;5;241;43m.\u001b[39;49m\u001b[43miloc\u001b[49m\u001b[43m[\u001b[49m\u001b[43mi\u001b[49m\u001b[43m,\u001b[49m\u001b[43m:\u001b[49m\u001b[38;5;241;43m3\u001b[39;49m\u001b[38;5;241;43m+\u001b[39;49m\u001b[38;5;28;43mlen\u001b[39;49m\u001b[43m(\u001b[49m\u001b[43mendmember_array\u001b[49m\u001b[43m)\u001b[49m\u001b[43m]\u001b[49m\n",
      "File \u001b[0;32m~/miniforge3/envs/spectra/lib/python3.12/site-packages/pandas/core/indexing.py:1184\u001b[0m, in \u001b[0;36m_LocationIndexer.__getitem__\u001b[0;34m(self, key)\u001b[0m\n\u001b[1;32m   1182\u001b[0m     \u001b[38;5;28;01mif\u001b[39;00m \u001b[38;5;28mself\u001b[39m\u001b[38;5;241m.\u001b[39m_is_scalar_access(key):\n\u001b[1;32m   1183\u001b[0m         \u001b[38;5;28;01mreturn\u001b[39;00m \u001b[38;5;28mself\u001b[39m\u001b[38;5;241m.\u001b[39mobj\u001b[38;5;241m.\u001b[39m_get_value(\u001b[38;5;241m*\u001b[39mkey, takeable\u001b[38;5;241m=\u001b[39m\u001b[38;5;28mself\u001b[39m\u001b[38;5;241m.\u001b[39m_takeable)\n\u001b[0;32m-> 1184\u001b[0m     \u001b[38;5;28;01mreturn\u001b[39;00m \u001b[38;5;28;43mself\u001b[39;49m\u001b[38;5;241;43m.\u001b[39;49m\u001b[43m_getitem_tuple\u001b[49m\u001b[43m(\u001b[49m\u001b[43mkey\u001b[49m\u001b[43m)\u001b[49m\n\u001b[1;32m   1185\u001b[0m \u001b[38;5;28;01melse\u001b[39;00m:\n\u001b[1;32m   1186\u001b[0m     \u001b[38;5;66;03m# we by definition only have the 0th axis\u001b[39;00m\n\u001b[1;32m   1187\u001b[0m     axis \u001b[38;5;241m=\u001b[39m \u001b[38;5;28mself\u001b[39m\u001b[38;5;241m.\u001b[39maxis \u001b[38;5;129;01mor\u001b[39;00m \u001b[38;5;241m0\u001b[39m\n",
      "File \u001b[0;32m~/miniforge3/envs/spectra/lib/python3.12/site-packages/pandas/core/indexing.py:1690\u001b[0m, in \u001b[0;36m_iLocIndexer._getitem_tuple\u001b[0;34m(self, tup)\u001b[0m\n\u001b[1;32m   1689\u001b[0m \u001b[38;5;28;01mdef\u001b[39;00m \u001b[38;5;21m_getitem_tuple\u001b[39m(\u001b[38;5;28mself\u001b[39m, tup: \u001b[38;5;28mtuple\u001b[39m):\n\u001b[0;32m-> 1690\u001b[0m     tup \u001b[38;5;241m=\u001b[39m \u001b[38;5;28;43mself\u001b[39;49m\u001b[38;5;241;43m.\u001b[39;49m\u001b[43m_validate_tuple_indexer\u001b[49m\u001b[43m(\u001b[49m\u001b[43mtup\u001b[49m\u001b[43m)\u001b[49m\n\u001b[1;32m   1691\u001b[0m     \u001b[38;5;28;01mwith\u001b[39;00m suppress(IndexingError):\n\u001b[1;32m   1692\u001b[0m         \u001b[38;5;28;01mreturn\u001b[39;00m \u001b[38;5;28mself\u001b[39m\u001b[38;5;241m.\u001b[39m_getitem_lowerdim(tup)\n",
      "File \u001b[0;32m~/miniforge3/envs/spectra/lib/python3.12/site-packages/pandas/core/indexing.py:966\u001b[0m, in \u001b[0;36m_LocationIndexer._validate_tuple_indexer\u001b[0;34m(self, key)\u001b[0m\n\u001b[1;32m    964\u001b[0m \u001b[38;5;28;01mfor\u001b[39;00m i, k \u001b[38;5;129;01min\u001b[39;00m \u001b[38;5;28menumerate\u001b[39m(key):\n\u001b[1;32m    965\u001b[0m     \u001b[38;5;28;01mtry\u001b[39;00m:\n\u001b[0;32m--> 966\u001b[0m         \u001b[38;5;28;43mself\u001b[39;49m\u001b[38;5;241;43m.\u001b[39;49m\u001b[43m_validate_key\u001b[49m\u001b[43m(\u001b[49m\u001b[43mk\u001b[49m\u001b[43m,\u001b[49m\u001b[43m \u001b[49m\u001b[43mi\u001b[49m\u001b[43m)\u001b[49m\n\u001b[1;32m    967\u001b[0m     \u001b[38;5;28;01mexcept\u001b[39;00m \u001b[38;5;167;01mValueError\u001b[39;00m \u001b[38;5;28;01mas\u001b[39;00m err:\n\u001b[1;32m    968\u001b[0m         \u001b[38;5;28;01mraise\u001b[39;00m \u001b[38;5;167;01mValueError\u001b[39;00m(\n\u001b[1;32m    969\u001b[0m             \u001b[38;5;124m\"\u001b[39m\u001b[38;5;124mLocation based indexing can only have \u001b[39m\u001b[38;5;124m\"\u001b[39m\n\u001b[1;32m    970\u001b[0m             \u001b[38;5;124mf\u001b[39m\u001b[38;5;124m\"\u001b[39m\u001b[38;5;124m[\u001b[39m\u001b[38;5;132;01m{\u001b[39;00m\u001b[38;5;28mself\u001b[39m\u001b[38;5;241m.\u001b[39m_valid_types\u001b[38;5;132;01m}\u001b[39;00m\u001b[38;5;124m] types\u001b[39m\u001b[38;5;124m\"\u001b[39m\n\u001b[1;32m    971\u001b[0m         ) \u001b[38;5;28;01mfrom\u001b[39;00m \u001b[38;5;21;01merr\u001b[39;00m\n",
      "File \u001b[0;32m~/miniforge3/envs/spectra/lib/python3.12/site-packages/pandas/core/indexing.py:1592\u001b[0m, in \u001b[0;36m_iLocIndexer._validate_key\u001b[0;34m(self, key, axis)\u001b[0m\n\u001b[1;32m   1590\u001b[0m     \u001b[38;5;28;01mreturn\u001b[39;00m\n\u001b[1;32m   1591\u001b[0m \u001b[38;5;28;01melif\u001b[39;00m is_integer(key):\n\u001b[0;32m-> 1592\u001b[0m     \u001b[38;5;28;43mself\u001b[39;49m\u001b[38;5;241;43m.\u001b[39;49m\u001b[43m_validate_integer\u001b[49m\u001b[43m(\u001b[49m\u001b[43mkey\u001b[49m\u001b[43m,\u001b[49m\u001b[43m \u001b[49m\u001b[43maxis\u001b[49m\u001b[43m)\u001b[49m\n\u001b[1;32m   1593\u001b[0m \u001b[38;5;28;01melif\u001b[39;00m \u001b[38;5;28misinstance\u001b[39m(key, \u001b[38;5;28mtuple\u001b[39m):\n\u001b[1;32m   1594\u001b[0m     \u001b[38;5;66;03m# a tuple should already have been caught by this point\u001b[39;00m\n\u001b[1;32m   1595\u001b[0m     \u001b[38;5;66;03m# so don't treat a tuple as a valid indexer\u001b[39;00m\n\u001b[1;32m   1596\u001b[0m     \u001b[38;5;28;01mraise\u001b[39;00m IndexingError(\u001b[38;5;124m\"\u001b[39m\u001b[38;5;124mToo many indexers\u001b[39m\u001b[38;5;124m\"\u001b[39m)\n",
      "File \u001b[0;32m~/miniforge3/envs/spectra/lib/python3.12/site-packages/pandas/core/indexing.py:1685\u001b[0m, in \u001b[0;36m_iLocIndexer._validate_integer\u001b[0;34m(self, key, axis)\u001b[0m\n\u001b[1;32m   1683\u001b[0m len_axis \u001b[38;5;241m=\u001b[39m \u001b[38;5;28mlen\u001b[39m(\u001b[38;5;28mself\u001b[39m\u001b[38;5;241m.\u001b[39mobj\u001b[38;5;241m.\u001b[39m_get_axis(axis))\n\u001b[1;32m   1684\u001b[0m \u001b[38;5;28;01mif\u001b[39;00m key \u001b[38;5;241m>\u001b[39m\u001b[38;5;241m=\u001b[39m len_axis \u001b[38;5;129;01mor\u001b[39;00m key \u001b[38;5;241m<\u001b[39m \u001b[38;5;241m-\u001b[39mlen_axis:\n\u001b[0;32m-> 1685\u001b[0m     \u001b[38;5;28;01mraise\u001b[39;00m \u001b[38;5;167;01mIndexError\u001b[39;00m(\u001b[38;5;124m\"\u001b[39m\u001b[38;5;124msingle positional indexer is out-of-bounds\u001b[39m\u001b[38;5;124m\"\u001b[39m)\n",
      "\u001b[0;31mIndexError\u001b[0m: single positional indexer is out-of-bounds"
     ]
    }
   ],
   "source": [
    "fits.iloc[i,:3+len(endmember_array)]"
   ]
  },
  {
   "cell_type": "code",
   "execution_count": 86,
   "metadata": {},
   "outputs": [
    {
     "data": {
      "text/plain": [
       "bb                 0.051330\n",
       "K                  0.438209\n",
       "H                 11.545986\n",
       "algae             -1.054864\n",
       "coral             -1.508478\n",
       "                    ...    \n",
       "682.2397794        0.008540\n",
       "685.0766161        0.008271\n",
       "687.9135091        0.007958\n",
       "r2                 0.999534\n",
       "spectral_angle     0.011617\n",
       "Name: 582, Length: 92, dtype: float64"
      ]
     },
     "execution_count": 86,
     "metadata": {},
     "output_type": "execute_result"
    }
   ],
   "source": [
    "fits.iloc[i]\n",
    "# looks like the calculate of r2 being stored here is wrong"
   ]
  },
  {
   "cell_type": "markdown",
   "metadata": {},
   "source": [
    "# "
   ]
  },
  {
   "cell_type": "code",
   "execution_count": 50,
   "metadata": {},
   "outputs": [
    {
     "data": {
      "text/plain": [
       "RunOptPipeConfig(aop_group_num=1, nir_wavelengths=[750, 1100], sensor_range=[450, 690], endmember_dimensionality_reduction=['mean', 1], endmember_normalisation=False, endmember_class_schema='inorganic_organic', spectra_normalisation=False, objective_fn='r2', bb_bounds=[0, 0.4], Kd_bounds=[0, 0.4], H_bounds=[0, 30], simulation={'type': 'spread', 'N': 100, 'Rb_vals': [0, 1], 'n_depths': 10, 'depth_lims': [0, 10], 'n_ks': 10, 'k_lims': [0, 0.4], 'n_bbs': 10, 'bb_lims': [0.01, 0.03], 'n_noise_levels': 10, 'noise_lims': [0.001, 0], 'noise_ind': 0}, solver='Nelder-Mead', tol='1e-9')"
      ]
     },
     "execution_count": 50,
     "metadata": {},
     "output_type": "execute_result"
    }
   ],
   "source": [
    "glob_cfg, l_cfg = file_ops.instantiate_single_configs_instance(run_ind = 0)\n",
    "l_cfg"
   ]
  },
  {
   "cell_type": "code",
   "execution_count": 59,
   "metadata": {},
   "outputs": [
    {
     "data": {
      "text/html": [
       "<div>\n",
       "<style scoped>\n",
       "    .dataframe tbody tr th:only-of-type {\n",
       "        vertical-align: middle;\n",
       "    }\n",
       "\n",
       "    .dataframe tbody tr th {\n",
       "        vertical-align: top;\n",
       "    }\n",
       "\n",
       "    .dataframe thead th {\n",
       "        text-align: right;\n",
       "    }\n",
       "</style>\n",
       "<table border=\"1\" class=\"dataframe\">\n",
       "  <thead>\n",
       "    <tr style=\"text-align: right;\">\n",
       "      <th></th>\n",
       "      <th>390.346814</th>\n",
       "      <th>393.177859</th>\n",
       "      <th>396.008959</th>\n",
       "      <th>398.840115</th>\n",
       "      <th>401.671328</th>\n",
       "      <th>404.502597</th>\n",
       "      <th>407.333922</th>\n",
       "      <th>410.165304</th>\n",
       "      <th>412.996742</th>\n",
       "      <th>415.828236</th>\n",
       "      <th>...</th>\n",
       "      <th>682.239779</th>\n",
       "      <th>685.076616</th>\n",
       "      <th>687.913509</th>\n",
       "      <th>690.750458</th>\n",
       "      <th>693.587464</th>\n",
       "      <th>696.424526</th>\n",
       "      <th>699.261643</th>\n",
       "      <th>702.098818</th>\n",
       "      <th>704.936048</th>\n",
       "      <th>707.773335</th>\n",
       "    </tr>\n",
       "    <tr>\n",
       "      <th>class</th>\n",
       "      <th></th>\n",
       "      <th></th>\n",
       "      <th></th>\n",
       "      <th></th>\n",
       "      <th></th>\n",
       "      <th></th>\n",
       "      <th></th>\n",
       "      <th></th>\n",
       "      <th></th>\n",
       "      <th></th>\n",
       "      <th></th>\n",
       "      <th></th>\n",
       "      <th></th>\n",
       "      <th></th>\n",
       "      <th></th>\n",
       "      <th></th>\n",
       "      <th></th>\n",
       "      <th></th>\n",
       "      <th></th>\n",
       "      <th></th>\n",
       "      <th></th>\n",
       "    </tr>\n",
       "  </thead>\n",
       "  <tbody>\n",
       "    <tr>\n",
       "      <th>algae</th>\n",
       "      <td>0.029353</td>\n",
       "      <td>0.029165</td>\n",
       "      <td>0.028920</td>\n",
       "      <td>0.028669</td>\n",
       "      <td>0.028402</td>\n",
       "      <td>0.028104</td>\n",
       "      <td>0.027817</td>\n",
       "      <td>0.027556</td>\n",
       "      <td>0.027329</td>\n",
       "      <td>0.027134</td>\n",
       "      <td>...</td>\n",
       "      <td>0.044484</td>\n",
       "      <td>0.048674</td>\n",
       "      <td>0.054881</td>\n",
       "      <td>0.063370</td>\n",
       "      <td>0.074193</td>\n",
       "      <td>0.087088</td>\n",
       "      <td>0.101558</td>\n",
       "      <td>0.116960</td>\n",
       "      <td>0.132704</td>\n",
       "      <td>0.148343</td>\n",
       "    </tr>\n",
       "    <tr>\n",
       "      <th>coral</th>\n",
       "      <td>0.026952</td>\n",
       "      <td>0.026773</td>\n",
       "      <td>0.026528</td>\n",
       "      <td>0.026365</td>\n",
       "      <td>0.026313</td>\n",
       "      <td>0.026305</td>\n",
       "      <td>0.026309</td>\n",
       "      <td>0.026274</td>\n",
       "      <td>0.026181</td>\n",
       "      <td>0.026045</td>\n",
       "      <td>...</td>\n",
       "      <td>0.049318</td>\n",
       "      <td>0.058494</td>\n",
       "      <td>0.073355</td>\n",
       "      <td>0.094753</td>\n",
       "      <td>0.122312</td>\n",
       "      <td>0.154187</td>\n",
       "      <td>0.187547</td>\n",
       "      <td>0.219428</td>\n",
       "      <td>0.247827</td>\n",
       "      <td>0.271757</td>\n",
       "    </tr>\n",
       "    <tr>\n",
       "      <th>sand</th>\n",
       "      <td>0.049409</td>\n",
       "      <td>0.048710</td>\n",
       "      <td>0.048008</td>\n",
       "      <td>0.047479</td>\n",
       "      <td>0.047214</td>\n",
       "      <td>0.047199</td>\n",
       "      <td>0.047346</td>\n",
       "      <td>0.047557</td>\n",
       "      <td>0.047766</td>\n",
       "      <td>0.047981</td>\n",
       "      <td>...</td>\n",
       "      <td>0.087355</td>\n",
       "      <td>0.089554</td>\n",
       "      <td>0.092270</td>\n",
       "      <td>0.095322</td>\n",
       "      <td>0.098469</td>\n",
       "      <td>0.101472</td>\n",
       "      <td>0.104175</td>\n",
       "      <td>0.106522</td>\n",
       "      <td>0.108535</td>\n",
       "      <td>0.110297</td>\n",
       "    </tr>\n",
       "  </tbody>\n",
       "</table>\n",
       "<p>3 rows × 113 columns</p>\n",
       "</div>"
      ],
      "text/plain": [
       "       390.346814  393.177859  396.008959  398.840115  401.671328  404.502597  \\\n",
       "class                                                                           \n",
       "algae    0.029353    0.029165    0.028920    0.028669    0.028402    0.028104   \n",
       "coral    0.026952    0.026773    0.026528    0.026365    0.026313    0.026305   \n",
       "sand     0.049409    0.048710    0.048008    0.047479    0.047214    0.047199   \n",
       "\n",
       "       407.333922  410.165304  412.996742  415.828236  ...  682.239779  \\\n",
       "class                                                  ...               \n",
       "algae    0.027817    0.027556    0.027329    0.027134  ...    0.044484   \n",
       "coral    0.026309    0.026274    0.026181    0.026045  ...    0.049318   \n",
       "sand     0.047346    0.047557    0.047766    0.047981  ...    0.087355   \n",
       "\n",
       "       685.076616  687.913509  690.750458  693.587464  696.424526  699.261643  \\\n",
       "class                                                                           \n",
       "algae    0.048674    0.054881    0.063370    0.074193    0.087088    0.101558   \n",
       "coral    0.058494    0.073355    0.094753    0.122312    0.154187    0.187547   \n",
       "sand     0.089554    0.092270    0.095322    0.098469    0.101472    0.104175   \n",
       "\n",
       "       702.098818  704.936048  707.773335  \n",
       "class                                      \n",
       "algae    0.116960    0.132704    0.148343  \n",
       "coral    0.219428    0.247827    0.271757  \n",
       "sand     0.106522    0.108535    0.110297  \n",
       "\n",
       "[3 rows x 113 columns]"
      ]
     },
     "execution_count": 59,
     "metadata": {},
     "output_type": "execute_result"
    }
   ],
   "source": [
    "glob_cfg, _ = file_ops.instantiate_single_configs_instance(run_ind = 0)\n",
    "\n",
    "endmember_class_schema = \"three_endmember\"\n",
    "endmembers = optimisation_pipeline.GenerateEndmembers(\n",
    "    endmember_class_map = glob_cfg.endmember_schema[endmember_class_schema],\n",
    "    endmember_dimensionality_reduction = \"mean\"\n",
    "    ).generate_endmembers()\n",
    "endmembers\n"
   ]
  },
  {
   "cell_type": "code",
   "execution_count": 25,
   "metadata": {},
   "outputs": [
    {
     "ename": "NameError",
     "evalue": "name 'fits' is not defined",
     "output_type": "error",
     "traceback": [
      "\u001b[0;31m---------------------------------------------------------------------------\u001b[0m",
      "\u001b[0;31mNameError\u001b[0m                                 Traceback (most recent call last)",
      "Cell \u001b[0;32mIn[25], line 38\u001b[0m\n\u001b[1;32m     35\u001b[0m endmember_array \u001b[38;5;241m=\u001b[39m three_endmember_array\n\u001b[1;32m     36\u001b[0m endmember_cats \u001b[38;5;241m=\u001b[39m three_em_cats\n\u001b[0;32m---> 38\u001b[0m fit \u001b[38;5;241m=\u001b[39m \u001b[43mfits\u001b[49m\u001b[38;5;241m.\u001b[39miloc[i,:\u001b[38;5;241m3\u001b[39m\u001b[38;5;241m+\u001b[39m\u001b[38;5;28mlen\u001b[39m(endmember_array)]\n\u001b[1;32m     39\u001b[0m true_spectrum \u001b[38;5;241m=\u001b[39m prism_spectra\u001b[38;5;241m.\u001b[39miloc[i,:]\n\u001b[1;32m     40\u001b[0m \u001b[38;5;66;03m# plot problem fits\u001b[39;00m\n",
      "\u001b[0;31mNameError\u001b[0m: name 'fits' is not defined"
     ]
    },
    {
     "data": {
      "image/png": "[encoded data removed]",
      "text/plain": [
       "<Figure size 640x480 with 1 Axes>"
      ]
     },
     "metadata": {},
     "output_type": "display_data"
    }
   ],
   "source": [
    "prism_spectra = spectrum_utils.crop_spectra_to_range(spectrum_utils.load_spectra(), [min(wvs), max(wvs)])\n",
    "plt.plot(wvs, prism_spectra.values.T, color='k', alpha=0.01);\n",
    "# spectra.loc[min(wvs):max(wvs)]\n",
    "\n",
    "\n",
    "i = 582\n",
    "\n",
    "sensor_range = [450, 690]\n",
    "\n",
    "AOP_model = spectrum_utils.load_aop_model(aop_group_num=1).loc[sensor_range[0]:sensor_range[1]]\n",
    "wvs = AOP_model.index\n",
    "AOP_sub = AOP_model.loc[wvs]\n",
    "AOP_args = (AOP_sub.bb_m.values, AOP_sub.bb_c.values, AOP_sub.Kd_m.values, AOP_sub.Kd_c.values)\n",
    "\n",
    "# read in spectral library\n",
    "f = file_ops.RESOURCES_DIR_FP / \"spectral_library_clean_v3_PRISM_wavebands.csv\"\n",
    "df = pd.read_csv(f, skiprows=1).set_index('wavelength')\n",
    "df.columns = df.columns.astype(float)\n",
    "df = df.astype(float)\n",
    "\n",
    "three_em_cats = {\n",
    "    'algae': ['algae_fleshy_brown', 'algae_fleshy_green', 'algae_fleshy_red', 'algae_turf', 'seagrass', 'algae_crustose_coralline'],\n",
    "    'coral': ['coral_blue', 'coral_brown', 'octocoral'],\n",
    "    'sand': ['sand', 'mud']\n",
    "}\n",
    "\n",
    "three_endmembers = {}\n",
    "for cat in three_em_cats:\n",
    "    ind = df.index.isin(three_em_cats[cat])\n",
    "    # select all spectra in category and calculate mean spectrum\n",
    "    three_endmembers[cat] = df.loc[ind].mean(axis=0).loc[sensor_range[0]:sensor_range[1]]\n",
    "# create array of average spectrum for each category\n",
    "three_endmember_array = np.array([spectrum.values for spectrum in three_endmembers.values()])\n",
    "\n",
    "endmember_array = three_endmember_array\n",
    "endmember_cats = three_em_cats\n",
    "\n",
    "fit = fits.iloc[i,:3+len(endmember_array)]\n",
    "true_spectrum = prism_spectra.iloc[i,:]\n",
    "# plot problem fits\n",
    "plotting.plot_single_fit(fit, true_spectrum, AOP_args, endmember_array, endmember_cats.keys())"
   ]
  },
  {
   "cell_type": "code",
   "execution_count": 15,
   "metadata": {},
   "outputs": [
    {
     "data": {
      "image/png": "[encoded data removed]",
      "text/plain": [
       "<Figure size 640x480 with 1 Axes>"
      ]
     },
     "metadata": {},
     "output_type": "display_data"
    }
   ],
   "source": [
    "# plot r2\n",
    "plt.hist(test_fits.spectral_angle, bins=50);"
   ]
  },
  {
   "cell_type": "code",
   "execution_count": null,
   "metadata": {},
   "outputs": [],
   "source": [
    "out, _ = spectrum_utils.spread_simulate_spectra(wvs, three_endmember_array, AOP_args, N=200, Rb_vals=(0.4, 0.4, 0.2))\n",
    "plt.plot(out.reshape(-1, out.shape[-1]).T, color='k', alpha=0.01);"
   ]
  },
  {
   "cell_type": "code",
   "execution_count": null,
   "metadata": {},
   "outputs": [],
   "source": [
    "glob_cfg, run_cfg = file_ops.instantiate_single_configs_instance(run_ind = 0)\n",
    "\n",
    "pipe = optimisation_pipeline.OptPipe(glob_cfg, run_cfg)\n",
    "pipe.run()"
   ]
  },
  {
   "cell_type": "markdown",
   "metadata": {},
   "source": [
    "# Manual fitting analysis"
   ]
  },
  {
   "cell_type": "code",
   "execution_count": 64,
   "metadata": {},
   "outputs": [
    {
     "data": {
      "application/vnd.jupyter.widget-view+json": {
       "model_id": "5dcf10705095403baf513c4f99e6583a",
       "version_major": 2,
       "version_minor": 0
      },
      "text/plain": [
       "Generating simulated spectra:   0%|          | 0/200 [00:00<?, ?it/s]"
      ]
     },
     "metadata": {},
     "output_type": "display_data"
    }
   ],
   "source": [
    "# SETUP\n",
    "prism_spectra = spectrum_utils.crop_spectra_to_range(spectrum_utils.load_spectra(), [min(wvs), max(wvs)])\n",
    "# plt.plot(wvs, prism_spectra.values.T, color='k', alpha=0.01);\n",
    "sensor_range = [450, 690]\n",
    "\n",
    "AOP_model = spectrum_utils.load_aop_model(aop_group_num=1).loc[sensor_range[0]:sensor_range[1]]\n",
    "wvs = AOP_model.index\n",
    "AOP_sub = AOP_model.loc[wvs]\n",
    "AOP_args = (AOP_sub.bb_m.values, AOP_sub.bb_c.values, AOP_sub.Kd_m.values, AOP_sub.Kd_c.values)\n",
    "\n",
    "# read in spectral library\n",
    "f = file_ops.RESOURCES_DIR_FP / \"spectral_library_clean_v3_PRISM_wavebands.csv\"\n",
    "df = pd.read_csv(f, skiprows=1).set_index('wavelength')\n",
    "df.columns = df.columns.astype(float)\n",
    "df = df.astype(float)\n",
    "\n",
    "three_em_cats = {\n",
    "    'algae': ['algae_fleshy_brown', 'algae_fleshy_green', 'algae_fleshy_red', 'algae_turf', 'seagrass', 'algae_crustose_coralline'],\n",
    "    'coral': ['coral_blue', 'coral_brown', 'octocoral'],\n",
    "    'sand': ['sand', 'mud']\n",
    "}\n",
    "\n",
    "three_endmembers = {}\n",
    "for cat in three_em_cats:\n",
    "    ind = df.index.isin(three_em_cats[cat])\n",
    "    # select all spectra in category and calculate mean spectrum\n",
    "    three_endmembers[cat] = df.loc[ind].mean(axis=0).loc[sensor_range[0]:sensor_range[1]]\n",
    "# create array of average spectrum for each category\n",
    "three_endmember_array = np.array([spectrum.values for spectrum in three_endmembers.values()])\n",
    "\n",
    "endmember_array = three_endmember_array\n",
    "endmember_cats = three_em_cats\n",
    "\n",
    "# generate simulated data\n",
    "sim_spectra, sim_metadata = spectrum_utils.spread_simulate_spectra(wvs, three_endmember_array, AOP_args, N=200, Rb_vals=(0.4, 0.4, 0.2))"
   ]
  },
  {
   "cell_type": "code",
   "execution_count": 22,
   "metadata": {},
   "outputs": [
    {
     "data": {
      "text/plain": [
       "array([0.32398996, 0.81964282, 3.6487326 , 0.5627258 , 0.        ,\n",
       "       1.12190281])"
      ]
     },
     "execution_count": 22,
     "metadata": {},
     "output_type": "execute_result"
    }
   ],
   "source": [
    "fit.x[:]"
   ]
  },
  {
   "cell_type": "code",
   "execution_count": 117,
   "metadata": {},
   "outputs": [
    {
     "name": "stdout",
     "output_type": "stream",
     "text": [
      "0    0.411230\n",
      "1    1.001741\n",
      "2    4.088488\n",
      "3    0.396215\n",
      "4    0.631792\n",
      "5    0.000000\n",
      "dtype: float64\n"
     ]
    },
    {
     "data": {
      "image/png": "[encoded data removed]",
      "text/plain": [
       "<Figure size 800x600 with 2 Axes>"
      ]
     },
     "metadata": {},
     "output_type": "display_data"
    }
   ],
   "source": [
    "# for a given validation spectrum, minimise with respect to various objective functions\n",
    "i = 0\n",
    "\n",
    "obs_spectra = prism_spectra\n",
    "\n",
    "of = spectrum_utils.sa_objective_unity_fn\n",
    "# minimise\n",
    "endmember_bounds = (0, 1)\n",
    "fit = minimize(\n",
    "            of,\n",
    "            # initial parameter values\n",
    "            x0=[0.1, 0.1, 0] + [0.0001] * len(endmember_array),\n",
    "            # extra arguments passsed to the object function (and its derivatives)\n",
    "            args=(obs_spectra.loc[i], # spectrum to fit (obs)\n",
    "                  *AOP_args,    # wavelength-dependent backscatter and attenuation coefficients (bb_m, bb_c, Kd_m, Kd_c)\n",
    "                  endmember_array  # typical end-member spectra\n",
    "                  ),\n",
    "            # constrain values\n",
    "            bounds=[(0, 0.41123), (0.01688, 3.17231), (0, 50)] + [endmember_bounds] * len(endmember_array), # may not always want to constrain this (e.g. for PCs)\n",
    "            method=\"L-BFGS-B\",\n",
    "            tol=1e-12\n",
    "            )\n",
    "\n",
    "true_spectrum = obs_spectra.iloc[i,:]\n",
    "# cast to same format as saved\n",
    "fit = pd.Series(fit.x[:])\n",
    "\n",
    "plotting.plot_single_fit(fit, true_spectrum, AOP_args, endmember_array, endmember_cats.keys())\n",
    "print(fit)"
   ]
  },
  {
   "cell_type": "markdown",
   "metadata": {},
   "source": [
    "# Pipeline automation"
   ]
  },
  {
   "cell_type": "code",
   "execution_count": 5,
   "metadata": {},
   "outputs": [],
   "source": [
    "config_params_dict = {\n",
    "    'processing': {\n",
    "        'aop_group_num': [1, 2, 3],\n",
    "        'nir_wavelengths': [[750, 1100]],\n",
    "        'sensor_range': [[450, 690]],\n",
    "        'endmember_dimensionality_reduction': [\"mean\", \"median\", \"pca\", \"nmf\", \"ica\", \"svd\"],\n",
    "        'endmember_normalisation': [\"minmax\", \"zscore\", \"robust\", \"maxabs\"],\n",
    "        'endmember_class_schema': [\"four_endmember\", \"all\", \"inorganic_organic\"],\n",
    "        'spectra_normalisation': [\"minmax\", \"zscore\", \"robust\", \"maxabs\"]\n",
    "    },\n",
    "    \"simulation\": {\n",
    "        \"type\": [\"spread\"],\n",
    "        \"N\": [100],\n",
    "        \"Rb_vals\": [(0,1)],\n",
    "        \"n_depths\": [10],\n",
    "        \"depth_lims\": [(0, 10)],\n",
    "        \"n_ks\": [10],\n",
    "        \"k_lims\": [(0, 0.4)],\n",
    "        \"n_bbs\": [10],\n",
    "        \"bb_lims\": [(0.01, 0.03)],\n",
    "        \"n_noise_levels\": [10],\n",
    "        \"noise_lims\": [(0.001, 0)],\n",
    "        \"noise_ind\": [0] \n",
    "    },\n",
    "    'fitting': {\n",
    "        'objective_fn': [\"r2\", \"spectral_angle\"],\n",
    "        'bb_bounds': [(0, 0.41123), (0, 0.2)],\n",
    "        'Kd_bounds': [(0.01688, 3.17231), (0.01688, 1.5)],\n",
    "        'H_bounds': [(0, 10), (0, 40), \n",
    "                    #  (0, 20), (0, 30)\n",
    "                     ],\n",
    "        'solver': ['L-BFGS-B'], \n",
    "        # 'Powell', 'CG', 'BFGS', 'Newton-CG', 'L-BFGS-B', 'TNC', 'COBYLA', 'COBYQA', 'SLSQP', 'trust-constr', 'dogleg', 'trust-ncg', 'trust-exact', 'trust-krylov'],\n",
    "        'tol': [\n",
    "            # 0.0, 1e-3, \n",
    "            1e-6, 1e-9]\n",
    "    }\n",
    "}\n",
    "\n",
    "\n",
    "run_cfgs = file_ops.generate_config_dicts(config_params_dict)\n",
    "glob_cfg = file_ops.read_yaml(file_ops.CONFIG_DIR_FP / \"glob_cfg.yaml\")\n",
    "exec_kwargs = {\n",
    "    \"tqdm\": False,\n",
    "    \"n_cpus\": 128\n",
    "}"
   ]
  },
  {
   "cell_type": "code",
   "execution_count": null,
   "metadata": {},
   "outputs": [],
   "source": [
    "run_cfgs[0]"
   ]
  },
  {
   "cell_type": "code",
   "execution_count": null,
   "metadata": {},
   "outputs": [],
   "source": [
    "optimisation_pipeline.run_pipeline(glob_cfg, run_cfgs[:3])"
   ]
  }
 ],
 "metadata": {
  "kernelspec": {
   "display_name": "spectra",
   "language": "python",
   "name": "python3"
  },
  "language_info": {
   "codemirror_mode": {
    "name": "ipython",
    "version": 3
   },
   "file_extension": ".py",
   "mimetype": "text/x-python",
   "name": "python",
   "nbconvert_exporter": "python",
   "pygments_lexer": "ipython3",
   "version": "3.12.5"
  }
 },
 "nbformat": 4,
 "nbformat_minor": 2
}
