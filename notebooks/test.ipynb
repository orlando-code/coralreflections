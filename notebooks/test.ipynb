{
 "cells": [
  {
   "cell_type": "code",
   "execution_count": 1,
   "metadata": {},
   "outputs": [],
   "source": [
    "%load_ext autoreload\n",
    "%autoreload 2\n",
    "\n",
    "# general\n",
    "import numpy as np\n",
    "import pandas as pd\n",
    "from tqdm.auto import tqdm\n",
    "from scipy.interpolate import interp1d\n",
    "\n",
    "# plotting\n",
    "import matplotlib.pyplot as plt\n",
    "from ipywidgets import interact\n",
    "import matplotlib.colors as mcolors\n",
    "from matplotlib.gridspec import GridSpec\n",
    "from plotly.subplots import make_subplots\n",
    "import plotly.graph_objs as go\n",
    "\n",
    "# fitting\n",
    "from sklearn.metrics import r2_score\n",
    "from scipy.optimize import minimize\n",
    "from functools import partial\n",
    "import multiprocess as mp\n",
    "import matplotlib.patches as mpatches\n",
    "\n",
    "# custom\n",
    "from reflectance import plotting, spectrum_utils, optimisation_pipeline, file_ops"
   ]
  },
  {
   "cell_type": "code",
   "execution_count": 28,
   "metadata": {},
   "outputs": [
    {
     "ename": "ValueError",
     "evalue": "Operands are not aligned. Do `left, right = left.align(right, axis=1, copy=False)` before operating.",
     "output_type": "error",
     "traceback": [
      "\u001b[0;31m---------------------------------------------------------------------------\u001b[0m",
      "\u001b[0;31mValueError\u001b[0m                                Traceback (most recent call last)",
      "\u001b[0;32m/var/folders/tp/x_9dbyf149d6kw_k79l_kk4m0000gq/T/ipykernel_36946/1787468409.py\u001b[0m in \u001b[0;36m?\u001b[0;34m()\u001b[0m\n\u001b[1;32m     39\u001b[0m \u001b[0mg_cfg\u001b[0m\u001b[0;34m,\u001b[0m \u001b[0m_\u001b[0m \u001b[0;34m=\u001b[0m \u001b[0mfile_ops\u001b[0m\u001b[0;34m.\u001b[0m\u001b[0minstantiate_single_configs_instance\u001b[0m\u001b[0;34m(\u001b[0m\u001b[0mrun_ind\u001b[0m \u001b[0;34m=\u001b[0m \u001b[0;36m0\u001b[0m\u001b[0;34m)\u001b[0m\u001b[0;34m\u001b[0m\u001b[0;34m\u001b[0m\u001b[0m\n\u001b[1;32m     40\u001b[0m \u001b[0mcfg\u001b[0m \u001b[0;34m=\u001b[0m \u001b[0mfile_ops\u001b[0m\u001b[0;34m.\u001b[0m\u001b[0mRunOptPipeConfig\u001b[0m\u001b[0;34m(\u001b[0m\u001b[0mconfig_dict\u001b[0m\u001b[0;34m)\u001b[0m\u001b[0;34m\u001b[0m\u001b[0;34m\u001b[0m\u001b[0m\n\u001b[1;32m     41\u001b[0m \u001b[0;34m\u001b[0m\u001b[0m\n\u001b[1;32m     42\u001b[0m \u001b[0mpipe\u001b[0m \u001b[0;34m=\u001b[0m \u001b[0moptimisation_pipeline\u001b[0m\u001b[0;34m.\u001b[0m\u001b[0mOptPipe\u001b[0m\u001b[0;34m(\u001b[0m\u001b[0mg_cfg\u001b[0m\u001b[0;34m,\u001b[0m \u001b[0mcfg\u001b[0m\u001b[0;34m)\u001b[0m\u001b[0;34m\u001b[0m\u001b[0;34m\u001b[0m\u001b[0m\n\u001b[0;32m---> 43\u001b[0;31m \u001b[0mfit_results\u001b[0m \u001b[0;34m=\u001b[0m \u001b[0mpipe\u001b[0m\u001b[0;34m.\u001b[0m\u001b[0mrun\u001b[0m\u001b[0;34m(\u001b[0m\u001b[0;34m)\u001b[0m\u001b[0;34m\u001b[0m\u001b[0;34m\u001b[0m\u001b[0m\n\u001b[0m",
      "\u001b[0;32m~/Library/CloudStorage/OneDrive-UniversityofCambridge/cambridge/phd/coralreflections/reflectance/optimisation_pipeline.py\u001b[0m in \u001b[0;36m?\u001b[0;34m(self)\u001b[0m\n\u001b[1;32m    483\u001b[0m         \"\"\"\n\u001b[1;32m    484\u001b[0m         \u001b[0mRuns\u001b[0m \u001b[0mthe\u001b[0m \u001b[0moptimisation\u001b[0m \u001b[0mpipeline\u001b[0m\u001b[0;34m\u001b[0m\u001b[0;34m\u001b[0m\u001b[0m\n\u001b[1;32m    485\u001b[0m         \"\"\"\n\u001b[1;32m    486\u001b[0m         \u001b[0;31m# if this would be a repeat run, skip the pipeline\u001b[0m\u001b[0;34m\u001b[0m\u001b[0;34m\u001b[0m\u001b[0m\n\u001b[0;32m--> 487\u001b[0;31m         \u001b[0;32mif\u001b[0m \u001b[0mself\u001b[0m\u001b[0;34m.\u001b[0m\u001b[0mcheck_for_repeat_run\u001b[0m\u001b[0;34m(\u001b[0m\u001b[0;34m)\u001b[0m\u001b[0;34m:\u001b[0m\u001b[0;34m\u001b[0m\u001b[0;34m\u001b[0m\u001b[0m\n\u001b[0m\u001b[1;32m    488\u001b[0m             \u001b[0mprint\u001b[0m\u001b[0;34m(\u001b[0m\u001b[0;34mf\"\u001b[0m\u001b[0;34mRepeat run arrested for \u001b[0m\u001b[0;34m{\u001b[0m\u001b[0mself\u001b[0m\u001b[0;34m.\u001b[0m\u001b[0mcfg\u001b[0m\u001b[0;34m}\u001b[0m\u001b[0;34m\"\u001b[0m\u001b[0;34m)\u001b[0m\u001b[0;34m\u001b[0m\u001b[0;34m\u001b[0m\u001b[0m\n\u001b[1;32m    489\u001b[0m             \u001b[0;32mreturn\u001b[0m\u001b[0;34m\u001b[0m\u001b[0;34m\u001b[0m\u001b[0m\n\u001b[1;32m    490\u001b[0m \u001b[0;34m\u001b[0m\u001b[0m\n",
      "\u001b[0;32m~/Library/CloudStorage/OneDrive-UniversityofCambridge/cambridge/phd/coralreflections/reflectance/optimisation_pipeline.py\u001b[0m in \u001b[0;36m?\u001b[0;34m(self)\u001b[0m\n\u001b[1;32m    473\u001b[0m                 \u001b[0;34m[\u001b[0m\u001b[0mstr\u001b[0m\u001b[0;34m(\u001b[0m\u001b[0mval\u001b[0m\u001b[0;34m)\u001b[0m \u001b[0;32mfor\u001b[0m \u001b[0mval\u001b[0m \u001b[0;32min\u001b[0m \u001b[0mconfig_values\u001b[0m\u001b[0;34m]\u001b[0m\u001b[0;34m,\u001b[0m \u001b[0mcolumns\u001b[0m\u001b[0;34m=\u001b[0m\u001b[0;34m[\u001b[0m\u001b[0;34m\"config\"\u001b[0m\u001b[0;34m]\u001b[0m\u001b[0;34m\u001b[0m\u001b[0;34m\u001b[0m\u001b[0m\n\u001b[1;32m    474\u001b[0m             \u001b[0;34m)\u001b[0m\u001b[0;34m\u001b[0m\u001b[0;34m\u001b[0m\u001b[0m\n\u001b[1;32m    475\u001b[0m \u001b[0;34m\u001b[0m\u001b[0m\n\u001b[1;32m    476\u001b[0m             \u001b[0;31m# Use pandas' equality comparison and all() to check for a match\u001b[0m\u001b[0;34m\u001b[0m\u001b[0;34m\u001b[0m\u001b[0m\n\u001b[0;32m--> 477\u001b[0;31m             \u001b[0mmatches\u001b[0m \u001b[0;34m=\u001b[0m \u001b[0;34m(\u001b[0m\u001b[0mruns\u001b[0m\u001b[0;34m.\u001b[0m\u001b[0miloc\u001b[0m\u001b[0;34m[\u001b[0m\u001b[0;36m1\u001b[0m\u001b[0;34m:\u001b[0m\u001b[0;34m]\u001b[0m \u001b[0;34m==\u001b[0m \u001b[0mconfig_df\u001b[0m\u001b[0;34m.\u001b[0m\u001b[0miloc\u001b[0m\u001b[0;34m[\u001b[0m\u001b[0;36m0\u001b[0m\u001b[0;34m]\u001b[0m\u001b[0;34m)\u001b[0m\u001b[0;34m.\u001b[0m\u001b[0mall\u001b[0m\u001b[0;34m(\u001b[0m\u001b[0maxis\u001b[0m\u001b[0;34m=\u001b[0m\u001b[0;36m1\u001b[0m\u001b[0;34m)\u001b[0m\u001b[0;34m\u001b[0m\u001b[0;34m\u001b[0m\u001b[0m\n\u001b[0m\u001b[1;32m    478\u001b[0m \u001b[0;34m\u001b[0m\u001b[0m\n\u001b[1;32m    479\u001b[0m             \u001b[0;31m# Return True if any row matches\u001b[0m\u001b[0;34m\u001b[0m\u001b[0;34m\u001b[0m\u001b[0m\n\u001b[1;32m    480\u001b[0m             \u001b[0;32mreturn\u001b[0m \u001b[0mmatches\u001b[0m\u001b[0;34m.\u001b[0m\u001b[0many\u001b[0m\u001b[0;34m(\u001b[0m\u001b[0;34m)\u001b[0m\u001b[0;34m\u001b[0m\u001b[0;34m\u001b[0m\u001b[0m\n",
      "\u001b[0;32m~/miniforge3/envs/spectra/lib/python3.12/site-packages/pandas/core/ops/common.py\u001b[0m in \u001b[0;36m?\u001b[0;34m(self, other)\u001b[0m\n\u001b[1;32m     72\u001b[0m                     \u001b[0;32mreturn\u001b[0m \u001b[0mNotImplemented\u001b[0m\u001b[0;34m\u001b[0m\u001b[0;34m\u001b[0m\u001b[0m\n\u001b[1;32m     73\u001b[0m \u001b[0;34m\u001b[0m\u001b[0m\n\u001b[1;32m     74\u001b[0m         \u001b[0mother\u001b[0m \u001b[0;34m=\u001b[0m \u001b[0mitem_from_zerodim\u001b[0m\u001b[0;34m(\u001b[0m\u001b[0mother\u001b[0m\u001b[0;34m)\u001b[0m\u001b[0;34m\u001b[0m\u001b[0;34m\u001b[0m\u001b[0m\n\u001b[1;32m     75\u001b[0m \u001b[0;34m\u001b[0m\u001b[0m\n\u001b[0;32m---> 76\u001b[0;31m         \u001b[0;32mreturn\u001b[0m \u001b[0mmethod\u001b[0m\u001b[0;34m(\u001b[0m\u001b[0mself\u001b[0m\u001b[0;34m,\u001b[0m \u001b[0mother\u001b[0m\u001b[0;34m)\u001b[0m\u001b[0;34m\u001b[0m\u001b[0;34m\u001b[0m\u001b[0m\n\u001b[0m",
      "\u001b[0;32m~/miniforge3/envs/spectra/lib/python3.12/site-packages/pandas/core/arraylike.py\u001b[0m in \u001b[0;36m?\u001b[0;34m(self, other)\u001b[0m\n\u001b[1;32m     38\u001b[0m     \u001b[0;34m@\u001b[0m\u001b[0munpack_zerodim_and_defer\u001b[0m\u001b[0;34m(\u001b[0m\u001b[0;34m\"__eq__\"\u001b[0m\u001b[0;34m)\u001b[0m\u001b[0;34m\u001b[0m\u001b[0;34m\u001b[0m\u001b[0m\n\u001b[1;32m     39\u001b[0m     \u001b[0;32mdef\u001b[0m \u001b[0m__eq__\u001b[0m\u001b[0;34m(\u001b[0m\u001b[0mself\u001b[0m\u001b[0;34m,\u001b[0m \u001b[0mother\u001b[0m\u001b[0;34m)\u001b[0m\u001b[0;34m:\u001b[0m\u001b[0;34m\u001b[0m\u001b[0;34m\u001b[0m\u001b[0m\n\u001b[0;32m---> 40\u001b[0;31m         \u001b[0;32mreturn\u001b[0m \u001b[0mself\u001b[0m\u001b[0;34m.\u001b[0m\u001b[0m_cmp_method\u001b[0m\u001b[0;34m(\u001b[0m\u001b[0mother\u001b[0m\u001b[0;34m,\u001b[0m \u001b[0moperator\u001b[0m\u001b[0;34m.\u001b[0m\u001b[0meq\u001b[0m\u001b[0;34m)\u001b[0m\u001b[0;34m\u001b[0m\u001b[0;34m\u001b[0m\u001b[0m\n\u001b[0m",
      "\u001b[0;32m~/miniforge3/envs/spectra/lib/python3.12/site-packages/pandas/core/frame.py\u001b[0m in \u001b[0;36m?\u001b[0;34m(self, other, op)\u001b[0m\n\u001b[1;32m   7894\u001b[0m     \u001b[0;32mdef\u001b[0m \u001b[0m_cmp_method\u001b[0m\u001b[0;34m(\u001b[0m\u001b[0mself\u001b[0m\u001b[0;34m,\u001b[0m \u001b[0mother\u001b[0m\u001b[0;34m,\u001b[0m \u001b[0mop\u001b[0m\u001b[0;34m)\u001b[0m\u001b[0;34m:\u001b[0m\u001b[0;34m\u001b[0m\u001b[0;34m\u001b[0m\u001b[0m\n\u001b[1;32m   7895\u001b[0m         \u001b[0maxis\u001b[0m\u001b[0;34m:\u001b[0m \u001b[0mLiteral\u001b[0m\u001b[0;34m[\u001b[0m\u001b[0;36m1\u001b[0m\u001b[0;34m]\u001b[0m \u001b[0;34m=\u001b[0m \u001b[0;36m1\u001b[0m  \u001b[0;31m# only relevant for Series other case\u001b[0m\u001b[0;34m\u001b[0m\u001b[0;34m\u001b[0m\u001b[0m\n\u001b[1;32m   7896\u001b[0m \u001b[0;34m\u001b[0m\u001b[0m\n\u001b[0;32m-> 7897\u001b[0;31m         \u001b[0mself\u001b[0m\u001b[0;34m,\u001b[0m \u001b[0mother\u001b[0m \u001b[0;34m=\u001b[0m \u001b[0mself\u001b[0m\u001b[0;34m.\u001b[0m\u001b[0m_align_for_op\u001b[0m\u001b[0;34m(\u001b[0m\u001b[0mother\u001b[0m\u001b[0;34m,\u001b[0m \u001b[0maxis\u001b[0m\u001b[0;34m,\u001b[0m \u001b[0mflex\u001b[0m\u001b[0;34m=\u001b[0m\u001b[0;32mFalse\u001b[0m\u001b[0;34m,\u001b[0m \u001b[0mlevel\u001b[0m\u001b[0;34m=\u001b[0m\u001b[0;32mNone\u001b[0m\u001b[0;34m)\u001b[0m\u001b[0;34m\u001b[0m\u001b[0;34m\u001b[0m\u001b[0m\n\u001b[0m\u001b[1;32m   7898\u001b[0m \u001b[0;34m\u001b[0m\u001b[0m\n\u001b[1;32m   7899\u001b[0m         \u001b[0;31m# See GH#4537 for discussion of scalar op behavior\u001b[0m\u001b[0;34m\u001b[0m\u001b[0;34m\u001b[0m\u001b[0m\n\u001b[1;32m   7900\u001b[0m         \u001b[0mnew_data\u001b[0m \u001b[0;34m=\u001b[0m \u001b[0mself\u001b[0m\u001b[0;34m.\u001b[0m\u001b[0m_dispatch_frame_op\u001b[0m\u001b[0;34m(\u001b[0m\u001b[0mother\u001b[0m\u001b[0;34m,\u001b[0m \u001b[0mop\u001b[0m\u001b[0;34m,\u001b[0m \u001b[0maxis\u001b[0m\u001b[0;34m=\u001b[0m\u001b[0maxis\u001b[0m\u001b[0;34m)\u001b[0m\u001b[0;34m\u001b[0m\u001b[0;34m\u001b[0m\u001b[0m\n",
      "\u001b[0;32m~/miniforge3/envs/spectra/lib/python3.12/site-packages/pandas/core/frame.py\u001b[0m in \u001b[0;36m?\u001b[0;34m(self, other, axis, flex, level)\u001b[0m\n\u001b[1;32m   8201\u001b[0m             \u001b[0;31m# axis=1 is default for DataFrame-with-Series op\u001b[0m\u001b[0;34m\u001b[0m\u001b[0;34m\u001b[0m\u001b[0m\n\u001b[1;32m   8202\u001b[0m             \u001b[0maxis\u001b[0m \u001b[0;34m=\u001b[0m \u001b[0maxis\u001b[0m \u001b[0;32mif\u001b[0m \u001b[0maxis\u001b[0m \u001b[0;32mis\u001b[0m \u001b[0;32mnot\u001b[0m \u001b[0;32mNone\u001b[0m \u001b[0;32melse\u001b[0m \u001b[0;36m1\u001b[0m\u001b[0;34m\u001b[0m\u001b[0;34m\u001b[0m\u001b[0m\n\u001b[1;32m   8203\u001b[0m             \u001b[0;32mif\u001b[0m \u001b[0;32mnot\u001b[0m \u001b[0mflex\u001b[0m\u001b[0;34m:\u001b[0m\u001b[0;34m\u001b[0m\u001b[0;34m\u001b[0m\u001b[0m\n\u001b[1;32m   8204\u001b[0m                 \u001b[0;32mif\u001b[0m \u001b[0;32mnot\u001b[0m \u001b[0mleft\u001b[0m\u001b[0;34m.\u001b[0m\u001b[0maxes\u001b[0m\u001b[0;34m[\u001b[0m\u001b[0maxis\u001b[0m\u001b[0;34m]\u001b[0m\u001b[0;34m.\u001b[0m\u001b[0mequals\u001b[0m\u001b[0;34m(\u001b[0m\u001b[0mright\u001b[0m\u001b[0;34m.\u001b[0m\u001b[0mindex\u001b[0m\u001b[0;34m)\u001b[0m\u001b[0;34m:\u001b[0m\u001b[0;34m\u001b[0m\u001b[0;34m\u001b[0m\u001b[0m\n\u001b[0;32m-> 8205\u001b[0;31m                     raise ValueError(\n\u001b[0m\u001b[1;32m   8206\u001b[0m                         \u001b[0;34m\"Operands are not aligned. Do \"\u001b[0m\u001b[0;34m\u001b[0m\u001b[0;34m\u001b[0m\u001b[0m\n\u001b[1;32m   8207\u001b[0m                         \u001b[0;34m\"`left, right = left.align(right, axis=1, copy=False)` \"\u001b[0m\u001b[0;34m\u001b[0m\u001b[0;34m\u001b[0m\u001b[0m\n\u001b[1;32m   8208\u001b[0m                         \u001b[0;34m\"before operating.\"\u001b[0m\u001b[0;34m\u001b[0m\u001b[0;34m\u001b[0m\u001b[0m\n",
      "\u001b[0;31mValueError\u001b[0m: Operands are not aligned. Do `left, right = left.align(right, axis=1, copy=False)` before operating."
     ]
    }
   ],
   "source": [
    "config_dict = {\n",
    "    \"processing\": \n",
    "    {\n",
    "        'aop_group_num': 1,\n",
    "        'nir_wavelengths': [750, 1100],\n",
    "        'sensor_range': [450, 690],\n",
    "        'endmember_dimensionality_reduction': 'mean',\n",
    "        'endmember_normalisation': False,\n",
    "        'endmember_class_schema': 'individual',\n",
    "        'spectra_normalisation': False,\n",
    "        'endmember_source': 'data/AOP_models/Rb_model_single_coefficient.txt'\n",
    "    },\n",
    "    \"simulation\":\n",
    "    {\n",
    "        \"type\": \"spread\",\n",
    "        \"N\": 10,\n",
    "        \"Rb_vals\": [0,1,0],\n",
    "        \"n_depths\": 10,\n",
    "        \"depth_lims\": [0, 20],\n",
    "        \"n_ks\": 10,\n",
    "        \"k_lims\": [0, 0.4],\n",
    "        \"n_bbs\": 10,\n",
    "        \"bb_lims\": [0.01, 0.03],\n",
    "        \"n_noise_levels\": 10,\n",
    "        \"noise_lims\": [0.001, 0],\n",
    "        \"noise_ind\": 0\n",
    "    },\n",
    "    \"fitting\":\n",
    "    {\n",
    "        'objective_fn': 'og_r2',\n",
    "        'Rb_init': 0,\n",
    "        'bb_bounds': (0, 0.41123),\n",
    "        'Kd_bounds': (0.01688, 3.17231),\n",
    "        'H_bounds': (0, 20),\n",
    "        'endmember_bounds': (0, 1),\n",
    "        'solver': 'L-BFGS-B',\n",
    "        'tol': 1e-9\n",
    "    }}\n",
    "g_cfg, _ = file_ops.instantiate_single_configs_instance(run_ind = 0)\n",
    "cfg = file_ops.RunOptPipeConfig(config_dict)\n",
    "\n",
    "pipe = optimisation_pipeline.OptPipe(g_cfg, cfg)\n",
    "fit_results = pipe.run()"
   ]
  },
  {
   "cell_type": "code",
   "execution_count": 18,
   "metadata": {},
   "outputs": [
    {
     "data": {
      "text/plain": [
       "GlobalOptPipeConfig(spectra_source='prism', spectra_fp=PosixPath('/Users/rt582/Library/CloudStorage/OneDrive-UniversityofCambridge/cambridge/phd/coralreflections/data/CORAL_validation_spectra.csv'), spectral_library_fp=PosixPath('/Users/rt582/Library/CloudStorage/OneDrive-UniversityofCambridge/cambridge/phd/coralreflections/reflectance/resources/spectral_library_clean_v3_PRISM_wavebands.csv'), validation_data_fp=PosixPath('/Users/rt582/Library/CloudStorage/OneDrive-UniversityofCambridge/cambridge/phd/coralreflections/data/CORAL_validation_data.csv'), save_fits=False, endmember_map={'algae_crustose_coralline': ['algCCA'], 'algae_fleshy_brown': ['algMacBrn'], 'algae_fleshy_green': ['algMacGrn', 'algMacMix', 'algMacUnk', 'algCyano'], 'algae_fleshy_red': ['algMacRed'], 'algae_turf': ['algTurf'], 'coral_blue': [], 'coral_brown': ['crlCoral'], 'mud': ['sedMud'], 'octocoral': ['othOcto'], 'sand': ['sedSand', 'crlBleach', 'sedLimest', 'sedRubble'], 'seagrass': ['othSeagr']}, endmember_schema={'three_endmember': {'algae': ['algae_fleshy_brown', 'algae_fleshy_green', 'algae_fleshy_red', 'algae_turf', 'seagrass'], 'coral': ['coral_blue', 'coral_brown', 'octocoral'], 'sand': ['sand', 'mud']}, 'four_endmember': {'algae': ['algae_fleshy_brown', 'algae_fleshy_green', 'algae_fleshy_red', 'algae_turf', 'seagrass'], 'CCA': ['algae_crustose_coralline'], 'coral': ['coral_blue', 'coral_brown', 'octocoral'], 'sand': ['sand', 'mud']}, 'all': {'benthos': ['algae_fleshy_brown', 'algae_fleshy_green', 'algae_fleshy_red', 'algae_turf', 'seagrass', 'algae_crustose_coralline', 'coral_blue', 'coral_brown', 'octocoral', 'sand', 'mud']}, 'inorganic_organic': {'inorganic': ['sand', 'mud'], 'organic': ['algae_fleshy_brown', 'algae_fleshy_green', 'algae_fleshy_red', 'algae_turf', 'seagrass', 'algae_crustose_coralline', 'coral_blue', 'coral_brown', 'octocoral']}, 'individual': {'sand': ['sand'], 'mud': ['mud'], 'algae_fleshy_brown': ['algae_fleshy_brown'], 'algae_fleshy_green': ['algae_fleshy_green'], 'algae_fleshy_red': ['algae_fleshy_red'], 'algae_turf': ['algae_turf'], 'seagrass': ['seagrass'], 'algae_crustose_coralline': ['algae_crustose_coralline'], 'coral_blue': ['coral_blue'], 'coral_brown': ['coral_brown'], 'octocoral': ['octocoral']}})"
      ]
     },
     "execution_count": 18,
     "metadata": {},
     "output_type": "execute_result"
    }
   ],
   "source": [
    "g_cfg, _ = file_ops.instantiate_single_configs_instance(run_ind = 0)\n",
    "g_cfg"
   ]
  },
  {
   "cell_type": "markdown",
   "metadata": {},
   "source": [
    "# Pipeline"
   ]
  },
  {
   "cell_type": "code",
   "execution_count": 347,
   "metadata": {},
   "outputs": [],
   "source": [
    "fitted_df = fit_results.fitted_spectra\n",
    "wvs = fitted_df.columns\n",
    "lim_prism_spectra = preprocess_prism_spectra(spectrum_utils.load_spectra(), nir_wavelengths = [750,1100], sensor_range = [450,690]).loc[:len(fitted_df)-1, :]"
   ]
  },
  {
   "cell_type": "code",
   "execution_count": null,
   "metadata": {},
   "outputs": [],
   "source": [
    "# plot fitted spectra\n",
    "i = 10\n",
    "true_spectrum = lim_prism_spectra.iloc[i]\n",
    "fitted_spectrum = fit_results.fitted_spectra.iloc[i]\n",
    "\n",
    "plt.plot(wvs, fitted_spectrum, label='fitted')\n",
    "plt.plot(wvs, true_spectrum, label='true')\n",
    "plt.legend()\n",
    "from sklearn.metrics import r2_score\n",
    "# print(\"calculated r2:\", r2_score(lim_prism_spectra.iloc[i], fit_results.fitted_spectra.iloc[i]))\n",
    "print(\"recorded r2:\", fit_results.metrics.r2.iloc[i], \"sa:\", fit_results.metrics.spectral_angle.iloc[i])"
   ]
  },
  {
   "cell_type": "code",
   "execution_count": null,
   "metadata": {},
   "outputs": [],
   "source": [
    "# SMOOTHING AND DERIVATIVES\n",
    "from scipy.signal import savgol_filter\n",
    "\n",
    "window_length = 11\n",
    "order = 5\n",
    "\n",
    "# differentiate spectra\n",
    "diff_fitted = np.diff(fitted_spectrum)\n",
    "diff_true = np.diff(true_spectrum)\n",
    "smooth_diff_fitted = savgol_filter(diff_fitted, window_length, polyorder=order)\n",
    "smooth_diff_true = savgol_filter(diff_true, window_length, polyorder=order)\n",
    "\n",
    "d1_wvs = (wvs[1:] + wvs[:-1]) / 2\n",
    "d2_wvs = (d1_wvs[1:] + d1_wvs[:-1]) / 2\n",
    "\n",
    "fig, ax = plt.subplots(2, 2, figsize=(12, 4))\n",
    "\n",
    "\n",
    "ax[0,0].plot(d1_wvs, diff_fitted, label='$\\\\Delta$ fitted')\n",
    "ax[0,0].plot(d1_wvs, diff_true, label='$\\\\Delta$ true')\n",
    "ax[1,0].plot(d2_wvs, np.diff(diff_fitted), label='$\\\\Delta$ fitted')\n",
    "ax[1,0].plot(d2_wvs, np.diff(diff_true), label='$\\\\Delta$ true')\n",
    "\n",
    "ax[0,1].plot(d1_wvs, smooth_diff_fitted, label='$\\\\Delta$ fitted')\n",
    "ax[0,1].plot(d1_wvs, smooth_diff_true, label='$\\\\Delta$ true')\n",
    "ax[1,1].plot(d2_wvs, np.diff(smooth_diff_fitted), label='$\\\\Delta$ fitted')\n",
    "ax[1,1].plot(d2_wvs, np.diff(smooth_diff_true), label='$\\\\Delta$ true')\n",
    "\n",
    "[ax_.legend() for ax_ in ax.flatten()];"
   ]
  },
  {
   "cell_type": "code",
   "execution_count": null,
   "metadata": {},
   "outputs": [],
   "source": [
    "fits = pd.concat([fit_results.fitted_params, fit_results.metrics], axis=1)\n",
    "validation_data = pd.read_csv(file_ops.DATA_DIR_FP / \"CORAL_validation_data_v2.csv\")\n",
    "\n",
    "fig, ax = plt.subplots()\n",
    "ma = ax.scatter(validation_data.Depth[:len(fits)], fits.H, alpha=0.4, c=fits.r2, edgecolor='k', lw=0.5)\n",
    "\n",
    "# calculate fits\n",
    "p = np.polyfit(validation_data.Depth[:len(fits)], fits.H.astype(float), 1)\n",
    "pred = np.polyval(p, validation_data.Depth[:len(fits)])\n",
    "r2 = r2_score(validation_data.Depth[:len(fits)], pred)\n",
    "ax.plot(validation_data.Depth[:len(fits)], pred, color='r', ls='--', label=\"best fit\")\n",
    "# formatting\n",
    "ax.set_xlim(left=0)\n",
    "ax.set_ylim(bottom=0, top=40)\n",
    "ax.plot(ax.get_xlim(),ax.get_xlim(), color='k', label='1:1')\n",
    "ax.set_title(f\"r$^2$: {r2:.5f}\")\n",
    "ax.set_xlabel(\"True depth (m)\")\n",
    "ax.set_ylabel(\"Retrieved depth (m)\")\n",
    "# ax.set_aspect('equal')\n",
    "fig.colorbar(ma, label=\"r$^2$ value\")\n",
    "ax.legend()\n"
   ]
  },
  {
   "cell_type": "code",
   "execution_count": null,
   "metadata": {},
   "outputs": [],
   "source": [
    "plt.hist(fits.r2, bins=50)\n",
    "plt.yscale('log')"
   ]
  },
  {
   "cell_type": "code",
   "execution_count": null,
   "metadata": {},
   "outputs": [],
   "source": [
    "# view fits\n",
    "test_spectra = pd.read_csv(file_ops.RESULTS_DIR_FP / \"fits/sim_spectra_1.csv\")\n",
    "wvs = test_spectra.columns[4:].astype(float)\n",
    "plt.plot(wvs, test_spectra.iloc[:,4:].values.T, color='k', alpha=0.01);"
   ]
  },
  {
   "cell_type": "code",
   "execution_count": null,
   "metadata": {},
   "outputs": [],
   "source": [
    "test_fits = pd.read_csv(file_ops.RESULTS_DIR_FP / \"fits/fit_results_1.csv\", skiprows=1)\n",
    "wvs = test_fits.iloc[:,6:-2].columns.astype('float')\n",
    "plt.plot(wvs, test_fits.iloc[:,6:-2].values.T, color='k', alpha=0.01);"
   ]
  },
  {
   "cell_type": "code",
   "execution_count": null,
   "metadata": {},
   "outputs": [],
   "source": [
    "fits = test_fits\n",
    "validation_data = pd.read_csv(file_ops.DATA_DIR_FP / \"CORAL_validation_data_v2.csv\")\n",
    "\n",
    "\n",
    "fig, ax = plt.subplots()\n",
    "ma = ax.scatter(validation_data.Depth[:len(fits)], fits.H, alpha=0.4, c=fits.r2, edgecolor='k', lw=0.5)\n",
    "ax.plot(ax.get_xlim(),ax.get_xlim(), color='k', label='1:1')\n",
    "\n",
    "# calculate fits\n",
    "p = np.polyfit(validation_data.Depth[:len(fits)], fits.H, 1)\n",
    "pred = np.polyval(p, validation_data.Depth[:len(fits)])\n",
    "r2 = r2_score(validation_data.Depth[:len(fits)], pred)\n",
    "ax.plot(validation_data.Depth[:len(fits)], pred, color='r', ls='--', label=\"best fit\")\n",
    "# formatting\n",
    "ax.set_title(f\"r$^2$: {r2:.5f}\")\n",
    "ax.set_xlabel(\"True depth (m)\")\n",
    "ax.set_ylabel(\"Retrieved depth (m)\")\n",
    "ax.set_ylim(0,40)\n",
    "# fig.colorbar(ma, label=\"r$^2$ value\")\n",
    "ax.legend()\n"
   ]
  },
  {
   "cell_type": "code",
   "execution_count": null,
   "metadata": {},
   "outputs": [],
   "source": [
    "# Create a scatter plot of retrieved vs actual depth\n",
    "scatter = go.Scatter(\n",
    "    x=validation_data.Depth[:len(fits)],\n",
    "    y=fits.H,\n",
    "    mode='markers',\n",
    "    marker=dict(\n",
    "        size=10,\n",
    "        color=fits.r2,\n",
    "        colorscale='Viridis',\n",
    "        showscale=True,\n",
    "        colorbar=dict(title=\"whole-spectrum r<sup>2</sup> value\"),\n",
    "        line=dict(width=0.5, color='#000000'),\n",
    "        opacity=0.5,\n",
    "        # assign hover labels the respective values in validation_data\n",
    "      ),\n",
    "        name='Data points',\n",
    "        hovertext=[f\"K: {K:.2f}, bb: {bb:.2f}, r<sup>2</sup>: {r2:.5f}, sa: {sa:.5f}, sample: {i}\" for K, bb, r2, sa, i in zip(fits.K, fits.bb, fits.r2, fits.spectral_angle, fits.index)],\n",
    "    # hoverinfo=\"text\"\n",
    ")\n",
    "\n",
    "p = np.polyfit(validation_data.Depth[:len(fits)], fits.H, 1)\n",
    "pred = np.polyval(p, validation_data.Depth[:len(fits)])\n",
    "# THIS LOOKS WRONG\n",
    "best_fit_line = go.Scatter(\n",
    "    x=validation_data.Depth[:len(fits)],\n",
    "    y=pred,\n",
    "    mode='lines',\n",
    "    line=dict(color='red', dash='dash'),\n",
    "    name=f\"Best fit: {p[0]:.2f}x + {p[1]:.2f}\",\n",
    ")\n",
    "one_to_one_line = go.Scatter(\n",
    "    x=[min(validation_data.Depth[:len(fits)]), max(validation_data.Depth[:len(fits)])],\n",
    "    y=[min(validation_data.Depth[:len(fits)]), max(validation_data.Depth[:len(fits)])],\n",
    "    mode='lines',\n",
    "    line=dict(color='black'),\n",
    "    name='1:1'\n",
    ")\n",
    "\n",
    "plot = True\n",
    "if plot:\n",
    "    fig = make_subplots()\n",
    "    fig.add_trace(scatter)\n",
    "    fig.add_trace(best_fit_line)\n",
    "    fig.add_trace(one_to_one_line)\n",
    "\n",
    "    # Update layout\n",
    "    fig.update_layout(\n",
    "        title=f\"r<sup>2</sup>: {r2_score(validation_data.Depth[:len(fits)], fits.H):.5f}\",\n",
    "        xaxis_title=\"True depth (m)\",\n",
    "        yaxis_title=\"Retrieved depth (m)\",\n",
    "        xaxis=dict(range=[min(validation_data.Depth[:len(fits)]), max(validation_data.Depth[:len(fits)])], scaleanchor='y', scaleratio=1),\n",
    "        yaxis=dict(range=[min(validation_data.Depth[:len(fits)]), max(validation_data.Depth[:len(fits)])], scaleanchor='x', scaleratio=1),\n",
    "        legend=dict(x=0.02, y=0.98),   \n",
    "    )\n",
    "\n",
    "    fig.update_yaxes(\n",
    "        scaleanchor='x',\n",
    "        scaleratio=1,\n",
    "    )\n",
    "\n",
    "    # show the figure\n",
    "    fig.show()"
   ]
  },
  {
   "cell_type": "code",
   "execution_count": null,
   "metadata": {},
   "outputs": [],
   "source": [
    "fits.iloc[:,6:-2].columns.astype('float')"
   ]
  },
  {
   "cell_type": "code",
   "execution_count": null,
   "metadata": {},
   "outputs": [],
   "source": [
    "fits.iloc[i,:3+len(endmember_array)]"
   ]
  },
  {
   "cell_type": "code",
   "execution_count": null,
   "metadata": {},
   "outputs": [],
   "source": [
    "fits.iloc[i]\n",
    "# looks like the calculate of r2 being stored here is wrong"
   ]
  },
  {
   "cell_type": "markdown",
   "metadata": {},
   "source": [
    "# "
   ]
  },
  {
   "cell_type": "code",
   "execution_count": null,
   "metadata": {},
   "outputs": [],
   "source": [
    "glob_cfg, l_cfg = file_ops.instantiate_single_configs_instance(run_ind = 0)\n",
    "l_cfg"
   ]
  },
  {
   "cell_type": "code",
   "execution_count": null,
   "metadata": {},
   "outputs": [],
   "source": [
    "glob_cfg, _ = file_ops.instantiate_single_configs_instance(run_ind = 0)\n",
    "\n",
    "endmember_class_schema = \"three_endmember\"\n",
    "endmembers = optimisation_pipeline.GenerateEndmembers(\n",
    "    endmember_class_map = glob_cfg.endmember_schema[endmember_class_schema],\n",
    "    endmember_dimensionality_reduction = \"mean\"\n",
    "    ).generate_endmembers()\n",
    "endmembers\n"
   ]
  },
  {
   "cell_type": "code",
   "execution_count": null,
   "metadata": {},
   "outputs": [],
   "source": [
    "prism_spectra = spectrum_utils.crop_spectra_to_range(spectrum_utils.load_spectra(), [min(wvs), max(wvs)])\n",
    "plt.plot(wvs, prism_spectra.values.T, color='k', alpha=0.01);\n",
    "# spectra.loc[min(wvs):max(wvs)]\n",
    "\n",
    "\n",
    "i = 582\n",
    "\n",
    "sensor_range = [450, 690]\n",
    "\n",
    "AOP_model = spectrum_utils.load_aop_model(aop_group_num=1).loc[sensor_range[0]:sensor_range[1]]\n",
    "wvs = AOP_model.index\n",
    "AOP_sub = AOP_model.loc[wvs]\n",
    "AOP_args = (AOP_sub.bb_m.values, AOP_sub.bb_c.values, AOP_sub.Kd_m.values, AOP_sub.Kd_c.values)\n",
    "\n",
    "# read in spectral library\n",
    "f = file_ops.RESOURCES_DIR_FP / \"spectral_library_clean_v3_PRISM_wavebands.csv\"\n",
    "df = pd.read_csv(f, skiprows=1).set_index('wavelength')\n",
    "df.columns = df.columns.astype(float)\n",
    "df = df.astype(float)\n",
    "\n",
    "# generate endmembers\n",
    "endmember_class_schema = \"three_endmember\"\n",
    "glob_cfg, _ = file_ops.instantiate_single_configs_instance(run_ind = 0)\n",
    "# generate endmember array\n",
    "endmember_array = optimisation_pipeline.GenerateEndmembers(\n",
    "    endmember_class_map=glob_cfg.endmember_schema[endmember_class_schema],\n",
    "    endmember_dimensionality_reduction=\"mean\",\n",
    ").generate_endmembers()\n",
    "# crop to sensor range\n",
    "endmember_array = endmember_array.loc[:,sensor_range[0]:sensor_range[1]]\n",
    "\n",
    "# three_em_cats = {\n",
    "#     'algae': ['algae_fleshy_brown', 'algae_fleshy_green', 'algae_fleshy_red', 'algae_turf', 'seagrass', 'algae_crustose_coralline'],\n",
    "#     'coral': ['coral_blue', 'coral_brown', 'octocoral'],\n",
    "#     'sand': ['sand', 'mud']\n",
    "# }\n",
    "\n",
    "# three_endmembers = {}\n",
    "# for cat in three_em_cats:\n",
    "#     ind = df.index.isin(three_em_cats[cat])\n",
    "#     # select all spectra in category and calculate mean spectrum\n",
    "#     three_endmembers[cat] = df.loc[ind].mean(axis=0).loc[sensor_range[0]:sensor_range[1]]\n",
    "# # create array of average spectrum for each category\n",
    "# three_endmember_array = np.array([spectrum.values for spectrum in three_endmembers.values()])\n",
    "\n",
    "endmember_array = three_endmember_array\n",
    "endmember_cats = three_em_cats\n",
    "\n",
    "fit = fits.iloc[i,:3+len(endmember_array)]\n",
    "true_spectrum = prism_spectra.iloc[i,:]\n",
    "# plot problem fits\n",
    "plotting.plot_single_fit(fit, true_spectrum, AOP_args, endmember_array, endmember_cats.keys())"
   ]
  },
  {
   "cell_type": "code",
   "execution_count": null,
   "metadata": {},
   "outputs": [],
   "source": [
    "# plot r2\n",
    "plt.hist(test_fits.spectral_angle, bins=50);"
   ]
  },
  {
   "cell_type": "code",
   "execution_count": null,
   "metadata": {},
   "outputs": [],
   "source": [
    "out, _ = spectrum_utils.spread_simulate_spectra(wvs, three_endmember_array, AOP_args, N=200, Rb_vals=(0.4, 0.4, 0.2))\n",
    "plt.plot(out.reshape(-1, out.shape[-1]).T, color='k', alpha=0.01);"
   ]
  },
  {
   "cell_type": "code",
   "execution_count": null,
   "metadata": {},
   "outputs": [],
   "source": [
    "glob_cfg, run_cfg = file_ops.instantiate_single_configs_instance(run_ind = 0)\n",
    "\n",
    "pipe = optimisation_pipeline.OptPipe(glob_cfg, run_cfg)\n",
    "pipe.run()"
   ]
  },
  {
   "cell_type": "markdown",
   "metadata": {},
   "source": [
    "# Manual fitting analysis"
   ]
  },
  {
   "cell_type": "code",
   "execution_count": null,
   "metadata": {},
   "outputs": [],
   "source": [
    "# SETUP\n",
    "prism_spectra = spectrum_utils.crop_spectra_to_range(spectrum_utils.load_spectra(), [min(wvs), max(wvs)])\n",
    "# plt.plot(wvs, prism_spectra.values.T, color='k', alpha=0.01);\n",
    "\n",
    "AOP_model = spectrum_utils.load_aop_model(aop_group_num=1).loc[sensor_range[0]:sensor_range[1]]\n",
    "wvs = AOP_model.index\n",
    "AOP_sub = AOP_model.loc[wvs]\n",
    "AOP_args = (AOP_sub.bb_m.values, AOP_sub.bb_c.values, AOP_sub.Kd_m.values, AOP_sub.Kd_c.values)\n",
    "\n",
    "# read in spectral library\n",
    "f = file_ops.RESOURCES_DIR_FP / \"spectral_library_clean_v3_PRISM_wavebands.csv\"\n",
    "df = pd.read_csv(f, skiprows=1).set_index('wavelength')\n",
    "df.columns = df.columns.astype(float)\n",
    "df = df.astype(float)\n",
    "\n",
    "# GENERATE ENDMEMBERS\n",
    "glob_cfg = file_ops.GlobalOptPipeConfig(file_ops.read_yaml(file_ops.CONFIG_DIR_FP / \"glob_cfg.yaml\"))\n",
    "sensor_range = [450, 690]\n",
    "\n",
    "endmember_class_schema = \"three_endmember\"\n",
    "endmember_df = optimisation_pipeline.GenerateEndmembers(\n",
    "    endmember_class_map = glob_cfg.endmember_schema[endmember_class_schema],\n",
    "    endmember_dimensionality_reduction = \"mean\",\n",
    "    endmember_normalisation = False\n",
    ").generate_endmembers()\n",
    "endmember_df = spectrum_utils.crop_spectra_to_range(endmember_df, sensor_range)\n",
    "endmember_array = endmember_df.values\n",
    "\n",
    "# generate simulated data\n",
    "sim_spectra, sim_metadata = spectrum_utils.spread_simulate_spectra(wvs, three_endmember_array, AOP_args, N=200, Rb_vals=(0.4, 0.4, 0.2))"
   ]
  },
  {
   "cell_type": "code",
   "execution_count": null,
   "metadata": {},
   "outputs": [],
   "source": [
    "sim_spectra"
   ]
  },
  {
   "cell_type": "code",
   "execution_count": null,
   "metadata": {},
   "outputs": [],
   "source": [
    "# for a given validation spectrum, minimise with respect to various objective functions\n",
    "i = 6\n",
    "obs_spectra = prism_spectra\n",
    "\n",
    "# depth_bounds = (1,2)\n",
    "depth_bounds = (0,50)\n",
    "\n",
    "of = spectrum_utils.sa_objective_unity_fn\n",
    "# minimise\n",
    "endmember_bounds = (0, 1)\n",
    "fit = minimize(\n",
    "            of,\n",
    "            # initial parameter values\n",
    "            x0=[0.1, 0.1, 0] + [0.0001] * len(endmember_array),\n",
    "            # extra arguments passsed to the object function (and its derivatives)\n",
    "            args=(obs_spectra.loc[i], # spectrum to fit (obs)\n",
    "                  *AOP_args,    # wavelength-dependent backscatter and attenuation coefficients (bb_m, bb_c, Kd_m, Kd_c)\n",
    "                  endmember_array  # typical end-member spectra\n",
    "                  ),\n",
    "            # constrain values\n",
    "            bounds=[(0, 0.41123), (0.01688, 3.17231), depth_bounds] + [endmember_bounds] * len(endmember_array), # may not always want to constrain this (e.g. for PCs)\n",
    "            method=\"L-BFGS-B\",\n",
    "            tol=1e-15\n",
    "            )\n",
    "\n",
    "true_spectrum = obs_spectra.iloc[i,:]\n",
    "# cast to same format as saved\n",
    "fit = pd.Series(fit.x[:])\n",
    "\n",
    "plotting.plot_single_fit(fit, true_spectrum, AOP_args, endmember_array, endmember_df.index)\n",
    "print(fit)\n",
    "print(\"sum of endmember contribution:\", sum(fit[3:]))"
   ]
  },
  {
   "cell_type": "code",
   "execution_count": null,
   "metadata": {},
   "outputs": [],
   "source": [
    "# highlight discrepensies wrt an objective function\n",
    "kernel_width = 20\n",
    "kernel_displacement = 20\n",
    "wvs = true_spectrum.index\n",
    "\n",
    "fit_spectrum = spectrum_utils.generate_spectrum(fit, wvs, endmember_array, AOP_args)\n",
    "# combine the observed and fitted spectra in a numpy array\n",
    "comp_spectra = np.array([true_spectrum.values, fit_spectrum])\n",
    "metric = spectrum_utils.calc_ssq\n",
    "\n",
    "wv_pairs, mean_corrs = spectrum_utils.calc_rolling_similarity(wvs, comp_spectra, kernel_width, kernel_displacement, metric)\n",
    "\n",
    "plotting.plot_rolling_spectral_similarity(wv_pairs, mean_corrs, wvs, comp_spectra)"
   ]
  },
  {
   "cell_type": "markdown",
   "metadata": {},
   "source": [
    "# Pipeline automation"
   ]
  },
  {
   "cell_type": "code",
   "execution_count": 5,
   "metadata": {},
   "outputs": [],
   "source": [
    "config_params_dict = {\n",
    "    'processing': {\n",
    "        'aop_group_num': [1, 2, 3],\n",
    "        'nir_wavelengths': [[750, 1100]],\n",
    "        'sensor_range': [[450, 690]],\n",
    "        'endmember_dimensionality_reduction': [\"mean\", \"median\", \"pca\", \"nmf\", \"ica\", \"svd\"],\n",
    "        'endmember_normalisation': [\"minmax\", \"zscore\", \"robust\", \"maxabs\"],\n",
    "        'endmember_class_schema': [\"four_endmember\", \"all\", \"inorganic_organic\"],\n",
    "        'spectra_normalisation': [\"minmax\", \"zscore\", \"robust\", \"maxabs\"]\n",
    "    },\n",
    "    \"simulation\": {\n",
    "        \"type\": [\"spread\"],\n",
    "        \"N\": [100],\n",
    "        \"Rb_vals\": [(0,1)],\n",
    "        \"n_depths\": [10],\n",
    "        \"depth_lims\": [(0, 10)],\n",
    "        \"n_ks\": [10],\n",
    "        \"k_lims\": [(0, 0.4)],\n",
    "        \"n_bbs\": [10],\n",
    "        \"bb_lims\": [(0.01, 0.03)],\n",
    "        \"n_noise_levels\": [10],\n",
    "        \"noise_lims\": [(0.001, 0)],\n",
    "        \"noise_ind\": [0] \n",
    "    },\n",
    "    'fitting': {\n",
    "        'objective_fn': [\"r2\", \"spectral_angle\"],\n",
    "        'bb_bounds': [(0, 0.41123), (0, 0.2)],\n",
    "        'Kd_bounds': [(0.01688, 3.17231), (0.01688, 1.5)],\n",
    "        'H_bounds': [(0, 10), (0, 40), \n",
    "                    #  (0, 20), (0, 30)\n",
    "                     ],\n",
    "        'solver': ['L-BFGS-B'], \n",
    "        # 'Powell', 'CG', 'BFGS', 'Newton-CG', 'L-BFGS-B', 'TNC', 'COBYLA', 'COBYQA', 'SLSQP', 'trust-constr', 'dogleg', 'trust-ncg', 'trust-exact', 'trust-krylov'],\n",
    "        'tol': [\n",
    "            # 0.0, 1e-3, \n",
    "            1e-6, 1e-9]\n",
    "    }\n",
    "}\n",
    "\n",
    "\n",
    "run_cfgs = file_ops.generate_config_dicts(config_params_dict)\n",
    "glob_cfg = file_ops.read_yaml(file_ops.CONFIG_DIR_FP / \"glob_cfg.yaml\")"
   ]
  },
  {
   "cell_type": "code",
   "execution_count": null,
   "metadata": {},
   "outputs": [],
   "source": [
    "# checking for repeat results file\n",
    "results_fp = file_ops.RESULTS_DIR_FP / \"results_summary.csv\"\n",
    "# write header if new file\n",
    "if not results_fp.exists():\n",
    "    pass\n",
    "else:\n",
    "    runs = pd.read_csv(results_fp)\n",
    "    irrelevant_sub_columns = ['datetime (UTC)', 'save_fits', 'count', 'mean', 'std', 'min']\n",
    "    irrelevant_columns = [\"spectral_angle\", \"r2\", \"rmse\", \"mean_abs_dev\", \"median_abs_dev\"]\n",
    "    # drop any columns which contain strings included in \"irrelevant_columns\"\n",
    "    runs = runs.drop(columns=[col for col in runs.columns if any([sub in col for sub in irrelevant_columns])])\n",
    "    # drop any columns for which value in first row is in \"irrelevant_sub_columns\"\n",
    "    runs = runs.drop(columns=[col for col in runs.columns if runs[col].iloc[0] in irrelevant_sub_columns])\n",
    "    \n",
    "    # check against values in config file\n",
    "    for col in runs.columns:\n",
    "        if col in glob_cfg:\n",
    "            if glob_cfg[col] == list(runs[col].unique()):\n",
    "                runs = runs.drop(columns=col)\n",
    "        if col in cfg:\n",
    "            if cfg[col] == list(runs[col].unique()):\n",
    "                runs = runs.drop(columns=col)\n",
    "    # if all columns are irrelevant (i.e. no new information), skip\n",
    "    if len(runs.columns) == 0:\n",
    "        pass\n",
    "    \n",
    "runs"
   ]
  },
  {
   "cell_type": "code",
   "execution_count": null,
   "metadata": {},
   "outputs": [],
   "source": [
    "run_cfgs[0]"
   ]
  },
  {
   "cell_type": "code",
   "execution_count": null,
   "metadata": {},
   "outputs": [],
   "source": [
    "optimisation_pipeline.run_pipeline(glob_cfg, run_cfgs[:3])"
   ]
  }
 ],
 "metadata": {
  "kernelspec": {
   "display_name": "spectra",
   "language": "python",
   "name": "python3"
  },
  "language_info": {
   "codemirror_mode": {
    "name": "ipython",
    "version": 3
   },
   "file_extension": ".py",
   "mimetype": "text/x-python",
   "name": "python",
   "nbconvert_exporter": "python",
   "pygments_lexer": "ipython3",
   "version": "3.12.5"
  }
 },
 "nbformat": 4,
 "nbformat_minor": 2
}
