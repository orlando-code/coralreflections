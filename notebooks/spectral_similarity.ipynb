{
 "cells": [
  {
   "cell_type": "markdown",
   "metadata": {},
   "source": [
    "# Spectral similarity visualisation"
   ]
  },
  {
   "cell_type": "code",
   "execution_count": null,
   "metadata": {},
   "outputs": [],
   "source": [
    "### Spectral angle\n",
    "# checking that spectral angle calculation/plot is correct\n",
    "xs = np.linspace(0, 2*np.pi, 1000)\n",
    "\n",
    "kernel_width = 0.1*np.pi\n",
    "kernel_displacement = 0.02*np.pi\n",
    "\n",
    "curve_dict = {\n",
    "    'sin': pd.Series(np.sin(xs), index=xs),\n",
    "    # 'sin2': pd.Series(10*np.sin(xs), index=xs),\n",
    "    'cos': pd.Series(np.cos(xs), index=xs),\n",
    "}\n",
    "\n",
    "plotting.plot_rolling_spectral_correlation(curve_dict, kernel_width, kernel_displacement)\n",
    "# wv_pairs, mean_corrs = spectrum_utils.calc_rolling_spectral_angle(xs, np.array([curve_dict[k].values for k in curve_dict.keys()]), kernel_width, kernel_displacement)\n"
   ]
  },
  {
   "cell_type": "code",
   "execution_count": null,
   "metadata": {},
   "outputs": [],
   "source": [
    "# comparing more functions\n",
    "\n",
    "endmembers = curve_dict\n",
    "wv_kernel_width = 0.1*np.pi\n",
    "wv_kernel_displacement = 0.02*np.pi\n",
    "\n",
    "end_member_spectra = np.array([spectrum.values for spectrum in endmembers.values()])\n",
    "wvs = next(iter(endmembers.values())).index\n",
    "\n",
    "\n",
    "wv_pairs, mean_corrs = spectrum_utils.calc_rolling_similarity(xs, end_member_spectra, kernel_width, kernel_displacement, spectrum_utils.jmsam)\n",
    "x_coords = [np.mean(wv_pair) for wv_pair in wv_pairs]\n",
    "\n",
    "f, ax_spectra = plt.subplots(1, figsize=(12, 6))\n",
    "ax_correlation = ax_spectra.twinx()\n",
    "\n",
    "# plot endmember spectra\n",
    "for cat, spectrum in endmembers.items():\n",
    "    ax_spectra.plot(wvs, endmembers[cat], label=cat, alpha=0.4)\n",
    "\n",
    "# plot horizontal error bars, width kenrel_width\n",
    "ax_correlation.errorbar(x_coords, mean_corrs, xerr=wv_kernel_width/2, fmt='x', color='k', alpha=0.5, label=\"horizontal bars = kernel span\")\n",
    "ax_correlation.legend()\n",
    "\n",
    "# formatting\n",
    "ax_spectra.legend(bbox_to_anchor=(1.1, 0.5), title=\"End members\")\n",
    "ax_spectra.grid('major', axis='x')\n",
    "ax_spectra.set_ylabel(\"Reflectance\")\n",
    "ax_spectra.set_xlabel('Wavelength (nm)')\n",
    "ax_spectra.set_xlim(wvs.min(), wvs.max())\n",
    "\n",
    "ax_correlation.set_ylabel(\"Mean spectral angle correlation:\\nLow is more correlated\")\n",
    "ax_correlation.grid('major', axis='y');"
   ]
  }
 ],
 "metadata": {
  "language_info": {
   "name": "python"
  }
 },
 "nbformat": 4,
 "nbformat_minor": 2
}
