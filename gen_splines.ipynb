{
 "cells": [
  {
   "cell_type": "code",
   "execution_count": 1,
   "metadata": {},
   "outputs": [],
   "source": [
    "import pandas as pd\n",
    "import matplotlib.pyplot as plt\n",
    "import pickle\n",
    "from scipy.interpolate import UnivariateSpline"
   ]
  },
  {
   "cell_type": "code",
   "execution_count": null,
   "metadata": {},
   "outputs": [],
   "source": [
    "AOP_params = pd.read_csv('data/AOP models/AOP_models_Group_1.txt', skiprows=12).set_index('wl')\n",
    "y_Kd = AOP_params.Kd_coef + AOP_params.Kd_SmithBaker\n",
    "y_bb = AOP_params.bb_coef + AOP_params.bb_min\n",
    "save_ext = 'Group1_spline.pkl'\n",
    "\n",
    "\n",
    "# AOP_params = pd.read_csv('data/AOP models/AOP_models_Group_1.txt', skiprows=11).set_index('wl')\n",
    "# y_Kd = AOP_params.K_coef + AOP_params.K_min\n",
    "# y_bb = AOP_params.bbd_coef + AOP_params.bbd_min\n",
    "# save_ext = 'Group2_spline.pkl'\n",
    "\n",
    "x = AOP_params.index\n",
    "\n",
    "plt.plot(x, y_Kd)\n",
    "\n",
    "spl = UnivariateSpline(x, y_Kd, k=3, s=1e-5)\n",
    "\n",
    "plt.plot(x, spl(x))\n",
    "\n",
    "with open('reflectance/resources/Kd_' + save_ext, 'wb') as f:\n",
    "    pickle.dump(spl, f)\n",
    "\n",
    "plt.figure()\n",
    "\n",
    "plt.plot(x, y_bb)\n",
    "spl = UnivariateSpline(x, y_bb, k=3, s=1e-6)\n",
    "plt.plot(x, spl(x))\n",
    "\n",
    "with open('reflectance/resources/bb_' + save_ext, 'wb') as f:\n",
    "    pickle.dump(spl, f)\n"
   ]
  }
 ],
 "metadata": {
  "kernelspec": {
   "display_name": "py3",
   "language": "python",
   "name": "python3"
  },
  "language_info": {
   "codemirror_mode": {
    "name": "ipython",
    "version": 3
   },
   "file_extension": ".py",
   "mimetype": "text/x-python",
   "name": "python",
   "nbconvert_exporter": "python",
   "pygments_lexer": "ipython3",
   "version": "3.12.5"
  }
 },
 "nbformat": 4,
 "nbformat_minor": 2
}
